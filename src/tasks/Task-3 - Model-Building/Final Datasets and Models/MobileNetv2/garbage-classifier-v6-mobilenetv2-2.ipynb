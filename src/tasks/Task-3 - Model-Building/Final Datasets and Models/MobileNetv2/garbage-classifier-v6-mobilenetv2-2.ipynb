{
 "cells": [
  {
   "cell_type": "markdown",
   "id": "df6547a5",
   "metadata": {
    "_cell_guid": "b1076dfc-b9ad-4769-8c92-a6c4dae69d19",
    "_uuid": "8f2839f25d086af736a60e9eeb907d3b93b6e0e5",
    "papermill": {
     "duration": 0.009671,
     "end_time": "2022-08-08T08:33:23.560123",
     "exception": false,
     "start_time": "2022-08-08T08:33:23.550452",
     "status": "completed"
    },
    "tags": []
   },
   "source": [
    "# Garbage Classification using MobilenetV2"
   ]
  },
  {
   "cell_type": "markdown",
   "id": "25e97fa7",
   "metadata": {
    "papermill": {
     "duration": 0.007775,
     "end_time": "2022-08-08T08:33:23.575855",
     "exception": false,
     "start_time": "2022-08-08T08:33:23.568080",
     "status": "completed"
    },
    "tags": []
   },
   "source": [
    "# Import Required Libraries"
   ]
  },
  {
   "cell_type": "code",
   "execution_count": 1,
   "id": "36de263c",
   "metadata": {
    "execution": {
     "iopub.execute_input": "2022-08-08T08:33:23.595027Z",
     "iopub.status.busy": "2022-08-08T08:33:23.594246Z",
     "iopub.status.idle": "2022-08-08T08:33:31.905837Z",
     "shell.execute_reply": "2022-08-08T08:33:31.904388Z"
    },
    "papermill": {
     "duration": 8.325056,
     "end_time": "2022-08-08T08:33:31.909286",
     "exception": false,
     "start_time": "2022-08-08T08:33:23.584230",
     "status": "completed"
    },
    "tags": []
   },
   "outputs": [
    {
     "name": "stdout",
     "output_type": "stream",
     "text": [
      "setup successful!\n"
     ]
    }
   ],
   "source": [
    "import numpy as np\n",
    "import pandas as pd \n",
    "import random\n",
    "import os\n",
    "import matplotlib.pyplot as plt\n",
    "import seaborn as sns\n",
    "import zipfile\n",
    "import sys\n",
    "import time\n",
    "import tensorflow.keras as keras\n",
    "import tensorflow as tf\n",
    "import re\n",
    "\n",
    "from PIL import Image\n",
    "from keras.layers import Input, Conv2D, Dense, Flatten, MaxPooling2D, Input, GlobalAveragePooling2D\n",
    "from tensorflow.keras.layers.experimental.preprocessing import Normalization\n",
    "from keras.models import Model, Sequential\n",
    "from keras.preprocessing import image\n",
    "from tensorflow.keras.utils import to_categorical\n",
    "from keras.layers import Lambda\n",
    "from keras.callbacks import EarlyStopping\n",
    "from sklearn.model_selection import train_test_split\n",
    "from sklearn.metrics import classification_report\n",
    "\n",
    "print('setup successful!')"
   ]
  },
  {
   "cell_type": "markdown",
   "id": "c2933afb",
   "metadata": {
    "papermill": {
     "duration": 0.007861,
     "end_time": "2022-08-08T08:33:31.925365",
     "exception": false,
     "start_time": "2022-08-08T08:33:31.917504",
     "status": "completed"
    },
    "tags": []
   },
   "source": [
    "# Define Constants"
   ]
  },
  {
   "cell_type": "code",
   "execution_count": 2,
   "id": "a96817b8",
   "metadata": {
    "execution": {
     "iopub.execute_input": "2022-08-08T08:33:31.946560Z",
     "iopub.status.busy": "2022-08-08T08:33:31.943832Z",
     "iopub.status.idle": "2022-08-08T08:33:31.954682Z",
     "shell.execute_reply": "2022-08-08T08:33:31.952679Z"
    },
    "papermill": {
     "duration": 0.02395,
     "end_time": "2022-08-08T08:33:31.957780",
     "exception": false,
     "start_time": "2022-08-08T08:33:31.933830",
     "status": "completed"
    },
    "tags": []
   },
   "outputs": [
    {
     "name": "stdout",
     "output_type": "stream",
     "text": [
      "defining constants successful!\n"
     ]
    }
   ],
   "source": [
    "# Increasing the image size didn't result in increasing the training accuracy\n",
    "IMAGE_WIDTH = 224    \n",
    "IMAGE_HEIGHT = 224\n",
    "IMAGE_SIZE=(IMAGE_WIDTH, IMAGE_HEIGHT)\n",
    "IMAGE_CHANNELS = 3\n",
    "\n",
    "\n",
    "# Path where our data is located\n",
    "base_path = \"../input/garbage-seg-10-v5/Garbage Seg 10 V5/\"\n",
    "\n",
    "# Dictionary to save our 12 classes\n",
    "categories = {0: 'paper', 1: 'cardboard', 2: 'plastic', 3: 'metal', 4: 'food', 5: 'battery',\n",
    "              6: 'shoes', 7: 'clothes', 8: 'glass',9: 'medical'}\n",
    "\n",
    "print('defining constants successful!')"
   ]
  },
  {
   "cell_type": "markdown",
   "id": "02a8694a",
   "metadata": {
    "papermill": {
     "duration": 0.007985,
     "end_time": "2022-08-08T08:33:31.975761",
     "exception": false,
     "start_time": "2022-08-08T08:33:31.967776",
     "status": "completed"
    },
    "tags": []
   },
   "source": [
    "# Create DataFrame"
   ]
  },
  {
   "cell_type": "markdown",
   "id": "dfd5f768",
   "metadata": {
    "papermill": {
     "duration": 0.007975,
     "end_time": "2022-08-08T08:33:31.991802",
     "exception": false,
     "start_time": "2022-08-08T08:33:31.983827",
     "status": "completed"
    },
    "tags": []
   },
   "source": [
    "We want to create a data frame that has in one column the filenames of all our images and in the other column the corresponding category. \n",
    "We Open the directories in the dataset one by one, save the filenames in the filenames_list and add the corresponding category in the categories_list"
   ]
  },
  {
   "cell_type": "code",
   "execution_count": 3,
   "id": "e52de73c",
   "metadata": {
    "execution": {
     "iopub.execute_input": "2022-08-08T08:33:32.015649Z",
     "iopub.status.busy": "2022-08-08T08:33:32.015199Z",
     "iopub.status.idle": "2022-08-08T08:33:35.090423Z",
     "shell.execute_reply": "2022-08-08T08:33:35.088198Z"
    },
    "papermill": {
     "duration": 3.092939,
     "end_time": "2022-08-08T08:33:35.093226",
     "exception": false,
     "start_time": "2022-08-08T08:33:32.000287",
     "status": "completed"
    },
    "tags": []
   },
   "outputs": [
    {
     "name": "stdout",
     "output_type": "stream",
     "text": [
      "Number of Elements =  16059\n"
     ]
    }
   ],
   "source": [
    "# Add class name prefix to filename. So for example \"/paper104.jpg\" become \"paper/paper104.jpg\"\n",
    "def add_class_name_prefix(df, col_name):\n",
    "    df[col_name] = df[col_name].apply(lambda x: x[:re.search(\"\\d\",x).start()] + '/' + x)\n",
    "    return df\n",
    "\n",
    "# list conatining all the filenames in the dataset\n",
    "filenames_list = []\n",
    "# list to store the corresponding category, note that each folder of the dataset has one class of data\n",
    "categories_list = []\n",
    "\n",
    "for category in categories:\n",
    "    filenames = os.listdir(base_path + categories[category])\n",
    "    \n",
    "    filenames_list = filenames_list  +filenames\n",
    "    categories_list = categories_list + [category] * len(filenames)\n",
    "    \n",
    "df = pd.DataFrame({\n",
    "    'filename': filenames_list,\n",
    "    'category': categories_list\n",
    "})\n",
    "\n",
    "df = add_class_name_prefix(df, 'filename')\n",
    "\n",
    "# Shuffle the dataframe\n",
    "df = df.sample(frac=1).reset_index(drop=True)\n",
    "\n",
    "print('Number of Elements = ' , len(df))"
   ]
  },
  {
   "cell_type": "code",
   "execution_count": 4,
   "id": "7c2b3343",
   "metadata": {
    "execution": {
     "iopub.execute_input": "2022-08-08T08:33:35.112922Z",
     "iopub.status.busy": "2022-08-08T08:33:35.111742Z",
     "iopub.status.idle": "2022-08-08T08:33:35.130626Z",
     "shell.execute_reply": "2022-08-08T08:33:35.128861Z"
    },
    "papermill": {
     "duration": 0.032415,
     "end_time": "2022-08-08T08:33:35.134503",
     "exception": false,
     "start_time": "2022-08-08T08:33:35.102088",
     "status": "completed"
    },
    "tags": []
   },
   "outputs": [
    {
     "data": {
      "text/html": [
       "<div>\n",
       "<style scoped>\n",
       "    .dataframe tbody tr th:only-of-type {\n",
       "        vertical-align: middle;\n",
       "    }\n",
       "\n",
       "    .dataframe tbody tr th {\n",
       "        vertical-align: top;\n",
       "    }\n",
       "\n",
       "    .dataframe thead th {\n",
       "        text-align: right;\n",
       "    }\n",
       "</style>\n",
       "<table border=\"1\" class=\"dataframe\">\n",
       "  <thead>\n",
       "    <tr style=\"text-align: right;\">\n",
       "      <th></th>\n",
       "      <th>filename</th>\n",
       "      <th>category</th>\n",
       "    </tr>\n",
       "  </thead>\n",
       "  <tbody>\n",
       "    <tr>\n",
       "      <th>0</th>\n",
       "      <td>glass/glass2588.jpg</td>\n",
       "      <td>8</td>\n",
       "    </tr>\n",
       "    <tr>\n",
       "      <th>1</th>\n",
       "      <td>food/food386.jpg</td>\n",
       "      <td>4</td>\n",
       "    </tr>\n",
       "    <tr>\n",
       "      <th>2</th>\n",
       "      <td>plastic/plastic263.jpg</td>\n",
       "      <td>2</td>\n",
       "    </tr>\n",
       "    <tr>\n",
       "      <th>3</th>\n",
       "      <td>battery/battery262.jpg</td>\n",
       "      <td>5</td>\n",
       "    </tr>\n",
       "    <tr>\n",
       "      <th>4</th>\n",
       "      <td>clothes/clothes3933.jpg</td>\n",
       "      <td>7</td>\n",
       "    </tr>\n",
       "    <tr>\n",
       "      <th>5</th>\n",
       "      <td>battery/battery877.jpg</td>\n",
       "      <td>5</td>\n",
       "    </tr>\n",
       "    <tr>\n",
       "      <th>6</th>\n",
       "      <td>metal/metal648.jpg</td>\n",
       "      <td>3</td>\n",
       "    </tr>\n",
       "    <tr>\n",
       "      <th>7</th>\n",
       "      <td>shoes/shoes974.jpg</td>\n",
       "      <td>6</td>\n",
       "    </tr>\n",
       "    <tr>\n",
       "      <th>8</th>\n",
       "      <td>clothes/clothes3740.jpg</td>\n",
       "      <td>7</td>\n",
       "    </tr>\n",
       "    <tr>\n",
       "      <th>9</th>\n",
       "      <td>clothes/clothes2689.jpg</td>\n",
       "      <td>7</td>\n",
       "    </tr>\n",
       "  </tbody>\n",
       "</table>\n",
       "</div>"
      ],
      "text/plain": [
       "                  filename  category\n",
       "0      glass/glass2588.jpg         8\n",
       "1         food/food386.jpg         4\n",
       "2   plastic/plastic263.jpg         2\n",
       "3   battery/battery262.jpg         5\n",
       "4  clothes/clothes3933.jpg         7\n",
       "5   battery/battery877.jpg         5\n",
       "6       metal/metal648.jpg         3\n",
       "7       shoes/shoes974.jpg         6\n",
       "8  clothes/clothes3740.jpg         7\n",
       "9  clothes/clothes2689.jpg         7"
      ]
     },
     "execution_count": 4,
     "metadata": {},
     "output_type": "execute_result"
    }
   ],
   "source": [
    "df.head(10)"
   ]
  },
  {
   "cell_type": "code",
   "execution_count": 5,
   "id": "9930f718",
   "metadata": {
    "execution": {
     "iopub.execute_input": "2022-08-08T08:33:35.154671Z",
     "iopub.status.busy": "2022-08-08T08:33:35.154216Z",
     "iopub.status.idle": "2022-08-08T08:33:35.481571Z",
     "shell.execute_reply": "2022-08-08T08:33:35.480267Z"
    },
    "papermill": {
     "duration": 0.340883,
     "end_time": "2022-08-08T08:33:35.484797",
     "exception": false,
     "start_time": "2022-08-08T08:33:35.143914",
     "status": "completed"
    },
    "tags": []
   },
   "outputs": [
    {
     "name": "stdout",
     "output_type": "stream",
     "text": [
      "clothes/clothes4433.jpg\n"
     ]
    },
    {
     "data": {
      "text/plain": [
       "<matplotlib.image.AxesImage at 0x7f328c5597d0>"
      ]
     },
     "execution_count": 5,
     "metadata": {},
     "output_type": "execute_result"
    },
    {
     "data": {
      "image/png": "[encoded data removed]",
      "text/plain": [
       "<Figure size 432x288 with 1 Axes>"
      ]
     },
     "metadata": {
      "needs_background": "light"
     },
     "output_type": "display_data"
    }
   ],
   "source": [
    "# see sample image, you can run the same cell again to get a different image\n",
    "random_row = random.randint(0, len(df)-1)\n",
    "sample = df.iloc[random_row]\n",
    "randomimage = image.load_img(base_path +sample['filename'])\n",
    "print(sample['filename'])\n",
    "plt.imshow(randomimage)"
   ]
  },
  {
   "cell_type": "markdown",
   "id": "8c5ae996",
   "metadata": {
    "papermill": {
     "duration": 0.010011,
     "end_time": "2022-08-08T08:33:35.505845",
     "exception": false,
     "start_time": "2022-08-08T08:33:35.495834",
     "status": "completed"
    },
    "tags": []
   },
   "source": [
    "# Viusalize the Categories Distribution"
   ]
  },
  {
   "cell_type": "code",
   "execution_count": 6,
   "id": "cdc0c3c6",
   "metadata": {
    "execution": {
     "iopub.execute_input": "2022-08-08T08:33:35.528501Z",
     "iopub.status.busy": "2022-08-08T08:33:35.527967Z",
     "iopub.status.idle": "2022-08-08T08:33:35.810269Z",
     "shell.execute_reply": "2022-08-08T08:33:35.808568Z"
    },
    "papermill": {
     "duration": 0.297174,
     "end_time": "2022-08-08T08:33:35.813320",
     "exception": false,
     "start_time": "2022-08-08T08:33:35.516146",
     "status": "completed"
    },
    "tags": []
   },
   "outputs": [
    {
     "data": {
      "image/png": "[encoded data removed]",
      "text/plain": [
       "<Figure size 432x288 with 1 Axes>"
      ]
     },
     "metadata": {
      "needs_background": "light"
     },
     "output_type": "display_data"
    }
   ],
   "source": [
    "df_visualization = df.copy()\n",
    "# Change the catgegories from numbers to names\n",
    "df_visualization['category'] = df_visualization['category'].apply(lambda x:categories[x] )\n",
    "\n",
    "df_visualization['category'].value_counts().plot.bar(x = 'count', y = 'category' )\n",
    "\n",
    "plt.xlabel(\"Garbage Classes\", labelpad=14)\n",
    "plt.ylabel(\"Images Count\", labelpad=14)\n",
    "plt.title(\"Count of images per class\", y=1.02);"
   ]
  },
  {
   "cell_type": "markdown",
   "id": "e400eae1",
   "metadata": {
    "papermill": {
     "duration": 0.009598,
     "end_time": "2022-08-08T08:33:35.833742",
     "exception": false,
     "start_time": "2022-08-08T08:33:35.824144",
     "status": "completed"
    },
    "tags": []
   },
   "source": [
    "# Create the model"
   ]
  },
  {
   "cell_type": "markdown",
   "id": "2a54d2b7",
   "metadata": {
    "papermill": {
     "duration": 0.010824,
     "end_time": "2022-08-08T08:33:35.854513",
     "exception": false,
     "start_time": "2022-08-08T08:33:35.843689",
     "status": "completed"
    },
    "tags": []
   },
   "source": [
    "The steps are:\n",
    "1. Create an mobilenetv2 model without the last layer and load the ImageNet pretrained weights\n",
    "2. Add a pre-processing layer\n",
    "3. Add a pooling layer followed by a softmax layer at the end"
   ]
  },
  {
   "cell_type": "code",
   "execution_count": 7,
   "id": "8690ab3f",
   "metadata": {
    "execution": {
     "iopub.execute_input": "2022-08-08T08:33:35.878402Z",
     "iopub.status.busy": "2022-08-08T08:33:35.877925Z",
     "iopub.status.idle": "2022-08-08T08:33:42.041389Z",
     "shell.execute_reply": "2022-08-08T08:33:42.039882Z"
    },
    "papermill": {
     "duration": 6.179421,
     "end_time": "2022-08-08T08:33:42.045266",
     "exception": false,
     "start_time": "2022-08-08T08:33:35.865845",
     "status": "completed"
    },
    "tags": []
   },
   "outputs": [
    {
     "name": "stderr",
     "output_type": "stream",
     "text": [
      "2022-08-08 08:33:36.025296: I tensorflow/stream_executor/cuda/cuda_gpu_executor.cc:937] successful NUMA node read from SysFS had negative value (-1), but there must be at least one NUMA node, so returning NUMA node zero\n",
      "2022-08-08 08:33:36.169720: I tensorflow/stream_executor/cuda/cuda_gpu_executor.cc:937] successful NUMA node read from SysFS had negative value (-1), but there must be at least one NUMA node, so returning NUMA node zero\n",
      "2022-08-08 08:33:36.173823: I tensorflow/stream_executor/cuda/cuda_gpu_executor.cc:937] successful NUMA node read from SysFS had negative value (-1), but there must be at least one NUMA node, so returning NUMA node zero\n",
      "2022-08-08 08:33:36.179564: I tensorflow/core/platform/cpu_feature_guard.cc:142] This TensorFlow binary is optimized with oneAPI Deep Neural Network Library (oneDNN) to use the following CPU instructions in performance-critical operations:  AVX2 FMA\n",
      "To enable them in other operations, rebuild TensorFlow with the appropriate compiler flags.\n",
      "2022-08-08 08:33:36.180135: I tensorflow/stream_executor/cuda/cuda_gpu_executor.cc:937] successful NUMA node read from SysFS had negative value (-1), but there must be at least one NUMA node, so returning NUMA node zero\n",
      "2022-08-08 08:33:36.184925: I tensorflow/stream_executor/cuda/cuda_gpu_executor.cc:937] successful NUMA node read from SysFS had negative value (-1), but there must be at least one NUMA node, so returning NUMA node zero\n",
      "2022-08-08 08:33:36.189020: I tensorflow/stream_executor/cuda/cuda_gpu_executor.cc:937] successful NUMA node read from SysFS had negative value (-1), but there must be at least one NUMA node, so returning NUMA node zero\n",
      "2022-08-08 08:33:39.351888: I tensorflow/stream_executor/cuda/cuda_gpu_executor.cc:937] successful NUMA node read from SysFS had negative value (-1), but there must be at least one NUMA node, so returning NUMA node zero\n",
      "2022-08-08 08:33:39.356062: I tensorflow/stream_executor/cuda/cuda_gpu_executor.cc:937] successful NUMA node read from SysFS had negative value (-1), but there must be at least one NUMA node, so returning NUMA node zero\n",
      "2022-08-08 08:33:39.359966: I tensorflow/stream_executor/cuda/cuda_gpu_executor.cc:937] successful NUMA node read from SysFS had negative value (-1), but there must be at least one NUMA node, so returning NUMA node zero\n",
      "2022-08-08 08:33:39.363815: I tensorflow/core/common_runtime/gpu/gpu_device.cc:1510] Created device /job:localhost/replica:0/task:0/device:GPU:0 with 15403 MB memory:  -> device: 0, name: Tesla P100-PCIE-16GB, pci bus id: 0000:00:04.0, compute capability: 6.0\n"
     ]
    },
    {
     "name": "stdout",
     "output_type": "stream",
     "text": [
      "Model: \"sequential\"\n",
      "_________________________________________________________________\n",
      "Layer (type)                 Output Shape              Param #   \n",
      "=================================================================\n",
      "lambda (Lambda)              (None, 224, 224, 3)       0         \n",
      "_________________________________________________________________\n",
      "mobilenetv2_1.00_224 (Functi (None, 7, 7, 1280)        2257984   \n",
      "_________________________________________________________________\n",
      "global_average_pooling2d (Gl (None, 1280)              0         \n",
      "_________________________________________________________________\n",
      "dropout (Dropout)            (None, 1280)              0         \n",
      "_________________________________________________________________\n",
      "dense (Dense)                (None, 10)                12810     \n",
      "=================================================================\n",
      "Total params: 2,270,794\n",
      "Trainable params: 12,810\n",
      "Non-trainable params: 2,257,984\n",
      "_________________________________________________________________\n"
     ]
    }
   ],
   "source": [
    "from keras.models import Sequential\n",
    "from keras.layers import Conv2D, MaxPooling2D, Dropout, Flatten, Dense, Activation, BatchNormalization\n",
    "import keras.applications.mobilenet_v2 as mobilenetv2\n",
    "\n",
    "mobilenetv2_layer = mobilenetv2.MobileNetV2(include_top = False, input_shape = (IMAGE_WIDTH, IMAGE_HEIGHT,IMAGE_CHANNELS),\n",
    "                       weights = '../input/mobilenet-v2-keras-weights/mobilenet_v2_weights_tf_dim_ordering_tf_kernels_1.0_224_no_top.h5')\n",
    "\n",
    "# We don't want to train the imported weights\n",
    "mobilenetv2_layer.trainable = False\n",
    "\n",
    "\n",
    "model = Sequential()\n",
    "model.add(keras.Input(shape=(IMAGE_WIDTH, IMAGE_HEIGHT, IMAGE_CHANNELS)))\n",
    "\n",
    "#create a custom layer to apply the preprocessing\n",
    "def mobilenetv2_preprocessing(img):\n",
    "  return mobilenetv2.preprocess_input(img)\n",
    "\n",
    "model.add(Lambda(mobilenetv2_preprocessing))\n",
    "\n",
    "model.add(mobilenetv2_layer)\n",
    "model.add(tf.keras.layers.GlobalAveragePooling2D())\n",
    "model.add(tf.keras.layers.Dropout(0.2))\n",
    "model.add(Dense(len(categories), activation='softmax')) \n",
    "\n",
    "model.compile(loss='categorical_crossentropy', optimizer='adam', metrics=['categorical_accuracy'])\n",
    "\n",
    "model.summary()"
   ]
  },
  {
   "cell_type": "markdown",
   "id": "a10719c1",
   "metadata": {
    "papermill": {
     "duration": 0.009974,
     "end_time": "2022-08-08T08:33:42.067249",
     "exception": false,
     "start_time": "2022-08-08T08:33:42.057275",
     "status": "completed"
    },
    "tags": []
   },
   "source": [
    "We will use the EarlyStopping call back to stop our training if the validation_accuray is not improving for a certain number of epochs."
   ]
  },
  {
   "cell_type": "code",
   "execution_count": 8,
   "id": "eb19815c",
   "metadata": {
    "execution": {
     "iopub.execute_input": "2022-08-08T08:33:42.090216Z",
     "iopub.status.busy": "2022-08-08T08:33:42.089025Z",
     "iopub.status.idle": "2022-08-08T08:33:42.098859Z",
     "shell.execute_reply": "2022-08-08T08:33:42.097282Z"
    },
    "papermill": {
     "duration": 0.024571,
     "end_time": "2022-08-08T08:33:42.101873",
     "exception": false,
     "start_time": "2022-08-08T08:33:42.077302",
     "status": "completed"
    },
    "tags": []
   },
   "outputs": [
    {
     "name": "stdout",
     "output_type": "stream",
     "text": [
      "Call Back Defined!\n"
     ]
    }
   ],
   "source": [
    "early_stop = EarlyStopping(patience = 5, verbose = 1, monitor='val_categorical_accuracy' , mode='max', min_delta=0.001, restore_best_weights = True)\n",
    "\n",
    "callbacks = [early_stop]\n",
    "\n",
    "print('Call Back Defined!')"
   ]
  },
  {
   "cell_type": "markdown",
   "id": "974f58df",
   "metadata": {
    "papermill": {
     "duration": 0.011115,
     "end_time": "2022-08-08T08:33:42.124350",
     "exception": false,
     "start_time": "2022-08-08T08:33:42.113235",
     "status": "completed"
    },
    "tags": []
   },
   "source": [
    "# Split the Data Set"
   ]
  },
  {
   "cell_type": "markdown",
   "id": "5c449c02",
   "metadata": {
    "papermill": {
     "duration": 0.01049,
     "end_time": "2022-08-08T08:33:42.145503",
     "exception": false,
     "start_time": "2022-08-08T08:33:42.135013",
     "status": "completed"
    },
    "tags": []
   },
   "source": [
    "We split the training set into three separate sets:\n",
    "\n",
    "1. **The training set:** used to train our model.\n",
    "1. **The validation set**: used to double check that our model is not overfitting the training set, i.e. it can also generalise to other data other than the train data\n",
    "1. **The Test set:** Used to estimate the accuracy of the model on new data other than the ones the model used for training\n",
    "For a competition  or for some other cases, you can split the data only to training and validation sets in order to achieve the highest  possible accuracy, without the need to properly estimate how accurate the model really is.\n",
    "\n",
    "We split the data set as follows: 80% train set, 10% cross_validation set, and 10% test set"
   ]
  },
  {
   "cell_type": "code",
   "execution_count": 9,
   "id": "53a49fc5",
   "metadata": {
    "execution": {
     "iopub.execute_input": "2022-08-08T08:33:42.169690Z",
     "iopub.status.busy": "2022-08-08T08:33:42.168575Z",
     "iopub.status.idle": "2022-08-08T08:33:42.187751Z",
     "shell.execute_reply": "2022-08-08T08:33:42.186240Z"
    },
    "papermill": {
     "duration": 0.035089,
     "end_time": "2022-08-08T08:33:42.191036",
     "exception": false,
     "start_time": "2022-08-08T08:33:42.155947",
     "status": "completed"
    },
    "tags": []
   },
   "outputs": [
    {
     "name": "stdout",
     "output_type": "stream",
     "text": [
      "train size =  1606 validate size =  1606 test size =  1606\n"
     ]
    }
   ],
   "source": [
    "#Change the categories from numbers to names\n",
    "df[\"category\"] = df[\"category\"].replace(categories) \n",
    "\n",
    "# We first split the data into two sets and then split the validate_df to two sets\n",
    "train_df, validate_df = train_test_split(df, test_size=0.2, random_state=42)\n",
    "validate_df, test_df = train_test_split(validate_df, test_size=0.5, random_state=42)\n",
    "\n",
    "train_df = train_df.reset_index(drop=True)\n",
    "validate_df = validate_df.reset_index(drop=True)\n",
    "test_df = test_df.reset_index(drop=True)\n",
    "\n",
    "total_train = train_df.shape[0]\n",
    "total_validate = validate_df.shape[0]\n",
    "\n",
    "print('train size = ', total_validate , 'validate size = ', total_validate, 'test size = ', test_df.shape[0])"
   ]
  },
  {
   "cell_type": "code",
   "execution_count": 10,
   "id": "863837b3",
   "metadata": {
    "execution": {
     "iopub.execute_input": "2022-08-08T08:33:42.213894Z",
     "iopub.status.busy": "2022-08-08T08:33:42.213546Z",
     "iopub.status.idle": "2022-08-08T08:33:42.225805Z",
     "shell.execute_reply": "2022-08-08T08:33:42.224515Z"
    },
    "papermill": {
     "duration": 0.026914,
     "end_time": "2022-08-08T08:33:42.228785",
     "exception": false,
     "start_time": "2022-08-08T08:33:42.201871",
     "status": "completed"
    },
    "tags": []
   },
   "outputs": [
    {
     "data": {
      "text/html": [
       "<div>\n",
       "<style scoped>\n",
       "    .dataframe tbody tr th:only-of-type {\n",
       "        vertical-align: middle;\n",
       "    }\n",
       "\n",
       "    .dataframe tbody tr th {\n",
       "        vertical-align: top;\n",
       "    }\n",
       "\n",
       "    .dataframe thead th {\n",
       "        text-align: right;\n",
       "    }\n",
       "</style>\n",
       "<table border=\"1\" class=\"dataframe\">\n",
       "  <thead>\n",
       "    <tr style=\"text-align: right;\">\n",
       "      <th></th>\n",
       "      <th>filename</th>\n",
       "      <th>category</th>\n",
       "    </tr>\n",
       "  </thead>\n",
       "  <tbody>\n",
       "    <tr>\n",
       "      <th>0</th>\n",
       "      <td>plastic/plastic729.jpg</td>\n",
       "      <td>plastic</td>\n",
       "    </tr>\n",
       "    <tr>\n",
       "      <th>1</th>\n",
       "      <td>battery/battery417.jpg</td>\n",
       "      <td>battery</td>\n",
       "    </tr>\n",
       "    <tr>\n",
       "      <th>2</th>\n",
       "      <td>shoes/shoes1103.jpg</td>\n",
       "      <td>shoes</td>\n",
       "    </tr>\n",
       "    <tr>\n",
       "      <th>3</th>\n",
       "      <td>clothes/clothes3995.jpg</td>\n",
       "      <td>clothes</td>\n",
       "    </tr>\n",
       "    <tr>\n",
       "      <th>4</th>\n",
       "      <td>food/food18.jpg</td>\n",
       "      <td>food</td>\n",
       "    </tr>\n",
       "    <tr>\n",
       "      <th>5</th>\n",
       "      <td>clothes/clothes2602.jpg</td>\n",
       "      <td>clothes</td>\n",
       "    </tr>\n",
       "    <tr>\n",
       "      <th>6</th>\n",
       "      <td>glass/glass452.jpg</td>\n",
       "      <td>glass</td>\n",
       "    </tr>\n",
       "    <tr>\n",
       "      <th>7</th>\n",
       "      <td>glass/glass2330.jpg</td>\n",
       "      <td>glass</td>\n",
       "    </tr>\n",
       "    <tr>\n",
       "      <th>8</th>\n",
       "      <td>glass/glass2370.jpg</td>\n",
       "      <td>glass</td>\n",
       "    </tr>\n",
       "    <tr>\n",
       "      <th>9</th>\n",
       "      <td>food/food921.jpg</td>\n",
       "      <td>food</td>\n",
       "    </tr>\n",
       "  </tbody>\n",
       "</table>\n",
       "</div>"
      ],
      "text/plain": [
       "                  filename category\n",
       "0   plastic/plastic729.jpg  plastic\n",
       "1   battery/battery417.jpg  battery\n",
       "2      shoes/shoes1103.jpg    shoes\n",
       "3  clothes/clothes3995.jpg  clothes\n",
       "4          food/food18.jpg     food\n",
       "5  clothes/clothes2602.jpg  clothes\n",
       "6       glass/glass452.jpg    glass\n",
       "7      glass/glass2330.jpg    glass\n",
       "8      glass/glass2370.jpg    glass\n",
       "9         food/food921.jpg     food"
      ]
     },
     "execution_count": 10,
     "metadata": {},
     "output_type": "execute_result"
    }
   ],
   "source": [
    "train_df.head(10)"
   ]
  },
  {
   "cell_type": "markdown",
   "id": "06a8be7a",
   "metadata": {
    "papermill": {
     "duration": 0.010664,
     "end_time": "2022-08-08T08:33:42.250288",
     "exception": false,
     "start_time": "2022-08-08T08:33:42.239624",
     "status": "completed"
    },
    "tags": []
   },
   "source": [
    "# Train the model"
   ]
  },
  {
   "cell_type": "markdown",
   "id": "a8c3f8f9",
   "metadata": {
    "papermill": {
     "duration": 0.010664,
     "end_time": "2022-08-08T08:33:42.271580",
     "exception": false,
     "start_time": "2022-08-08T08:33:42.260916",
     "status": "completed"
    },
    "tags": []
   },
   "source": [
    "We will first create the training data generator, that will get the images from the input data directory to train on them. We will also create a generator for the validation set.\n",
    "\n",
    "Applying Data Augmentation on the training set was taking too long to be executed and the initial results didn't show much improvement than the results without augmentation, so I commented the augmentation to make the training faster. However fell free to uncomment the Data Augmentation lines in the following cell and play a bit with it."
   ]
  },
  {
   "cell_type": "code",
   "execution_count": 11,
   "id": "12250deb",
   "metadata": {
    "execution": {
     "iopub.execute_input": "2022-08-08T08:33:42.296061Z",
     "iopub.status.busy": "2022-08-08T08:33:42.294797Z",
     "iopub.status.idle": "2022-08-08T08:34:00.206704Z",
     "shell.execute_reply": "2022-08-08T08:34:00.204570Z"
    },
    "papermill": {
     "duration": 17.92735,
     "end_time": "2022-08-08T08:34:00.209626",
     "exception": false,
     "start_time": "2022-08-08T08:33:42.282276",
     "status": "completed"
    },
    "tags": []
   },
   "outputs": [
    {
     "name": "stdout",
     "output_type": "stream",
     "text": [
      "Found 12847 validated image filenames belonging to 10 classes.\n"
     ]
    }
   ],
   "source": [
    "batch_size=64\n",
    "train_datagen = image.ImageDataGenerator()\n",
    "\n",
    "\n",
    "train_generator = train_datagen.flow_from_dataframe(\n",
    "    train_df, \n",
    "    base_path, \n",
    "    x_col='filename',\n",
    "    y_col='category',\n",
    "    target_size=IMAGE_SIZE,\n",
    "    class_mode='categorical',\n",
    "    batch_size=batch_size\n",
    ")"
   ]
  },
  {
   "cell_type": "code",
   "execution_count": 12,
   "id": "67806991",
   "metadata": {
    "execution": {
     "iopub.execute_input": "2022-08-08T08:34:00.234021Z",
     "iopub.status.busy": "2022-08-08T08:34:00.233168Z",
     "iopub.status.idle": "2022-08-08T08:34:02.718197Z",
     "shell.execute_reply": "2022-08-08T08:34:02.716115Z"
    },
    "papermill": {
     "duration": 2.500025,
     "end_time": "2022-08-08T08:34:02.721123",
     "exception": false,
     "start_time": "2022-08-08T08:34:00.221098",
     "status": "completed"
    },
    "tags": []
   },
   "outputs": [
    {
     "name": "stdout",
     "output_type": "stream",
     "text": [
      "Found 1606 validated image filenames belonging to 10 classes.\n"
     ]
    }
   ],
   "source": [
    "validation_datagen = image.ImageDataGenerator()\n",
    "\n",
    "validation_generator = validation_datagen.flow_from_dataframe(\n",
    "    validate_df, \n",
    "    base_path, \n",
    "    x_col='filename',\n",
    "    y_col='category',\n",
    "    target_size=IMAGE_SIZE,\n",
    "    class_mode='categorical',\n",
    "    batch_size=batch_size\n",
    ")"
   ]
  },
  {
   "cell_type": "code",
   "execution_count": 13,
   "id": "1710c052",
   "metadata": {
    "execution": {
     "iopub.execute_input": "2022-08-08T08:34:02.745907Z",
     "iopub.status.busy": "2022-08-08T08:34:02.744615Z",
     "iopub.status.idle": "2022-08-08T08:53:57.617057Z",
     "shell.execute_reply": "2022-08-08T08:53:57.615660Z"
    },
    "papermill": {
     "duration": 1195.05773,
     "end_time": "2022-08-08T08:53:57.790528",
     "exception": false,
     "start_time": "2022-08-08T08:34:02.732798",
     "status": "completed"
    },
    "tags": []
   },
   "outputs": [
    {
     "name": "stderr",
     "output_type": "stream",
     "text": [
      "/opt/conda/lib/python3.7/site-packages/keras/engine/training.py:1972: UserWarning: `Model.fit_generator` is deprecated and will be removed in a future version. Please use `Model.fit`, which supports generators.\n",
      "  warnings.warn('`Model.fit_generator` is deprecated and '\n",
      "2022-08-08 08:34:03.418671: I tensorflow/compiler/mlir/mlir_graph_optimization_pass.cc:185] None of the MLIR Optimization Passes are enabled (registered 2)\n"
     ]
    },
    {
     "name": "stdout",
     "output_type": "stream",
     "text": [
      "Epoch 1/20\n"
     ]
    },
    {
     "name": "stderr",
     "output_type": "stream",
     "text": [
      "2022-08-08 08:34:08.929542: I tensorflow/stream_executor/cuda/cuda_dnn.cc:369] Loaded cuDNN version 8005\n"
     ]
    },
    {
     "name": "stdout",
     "output_type": "stream",
     "text": [
      "200/200 [==============================] - 141s 648ms/step - loss: 0.5860 - categorical_accuracy: 0.8246 - val_loss: 0.2784 - val_categorical_accuracy: 0.9100\n",
      "Epoch 2/20\n",
      "200/200 [==============================] - 70s 351ms/step - loss: 0.2424 - categorical_accuracy: 0.9226 - val_loss: 0.2391 - val_categorical_accuracy: 0.9281\n",
      "Epoch 3/20\n",
      "200/200 [==============================] - 71s 353ms/step - loss: 0.1885 - categorical_accuracy: 0.9395 - val_loss: 0.2179 - val_categorical_accuracy: 0.9294\n",
      "Epoch 4/20\n",
      "200/200 [==============================] - 72s 359ms/step - loss: 0.1604 - categorical_accuracy: 0.9489 - val_loss: 0.2172 - val_categorical_accuracy: 0.9275\n",
      "Epoch 5/20\n",
      "200/200 [==============================] - 67s 336ms/step - loss: 0.1416 - categorical_accuracy: 0.9545 - val_loss: 0.2143 - val_categorical_accuracy: 0.9306\n",
      "Epoch 6/20\n",
      "200/200 [==============================] - 71s 356ms/step - loss: 0.1280 - categorical_accuracy: 0.9588 - val_loss: 0.2069 - val_categorical_accuracy: 0.9388\n",
      "Epoch 7/20\n",
      "200/200 [==============================] - 69s 344ms/step - loss: 0.1175 - categorical_accuracy: 0.9613 - val_loss: 0.1988 - val_categorical_accuracy: 0.9381\n",
      "Epoch 8/20\n",
      "200/200 [==============================] - 73s 366ms/step - loss: 0.1077 - categorical_accuracy: 0.9657 - val_loss: 0.2032 - val_categorical_accuracy: 0.9325\n",
      "Epoch 9/20\n",
      "200/200 [==============================] - 72s 361ms/step - loss: 0.1003 - categorical_accuracy: 0.9670 - val_loss: 0.1949 - val_categorical_accuracy: 0.9381\n",
      "Epoch 10/20\n",
      "200/200 [==============================] - 71s 357ms/step - loss: 0.0971 - categorical_accuracy: 0.9687 - val_loss: 0.2048 - val_categorical_accuracy: 0.9419\n",
      "Epoch 11/20\n",
      "200/200 [==============================] - 71s 356ms/step - loss: 0.0914 - categorical_accuracy: 0.9704 - val_loss: 0.1980 - val_categorical_accuracy: 0.9381\n",
      "Epoch 12/20\n",
      "200/200 [==============================] - 67s 337ms/step - loss: 0.0883 - categorical_accuracy: 0.9712 - val_loss: 0.2020 - val_categorical_accuracy: 0.9400\n",
      "Epoch 13/20\n",
      "200/200 [==============================] - 71s 356ms/step - loss: 0.0851 - categorical_accuracy: 0.9712 - val_loss: 0.1953 - val_categorical_accuracy: 0.9406\n",
      "Epoch 14/20\n",
      "200/200 [==============================] - 72s 359ms/step - loss: 0.0823 - categorical_accuracy: 0.9739 - val_loss: 0.1980 - val_categorical_accuracy: 0.9419\n",
      "Epoch 15/20\n",
      "200/200 [==============================] - 74s 370ms/step - loss: 0.0793 - categorical_accuracy: 0.9740 - val_loss: 0.1962 - val_categorical_accuracy: 0.9425\n",
      "Restoring model weights from the end of the best epoch.\n",
      "Epoch 00015: early stopping\n"
     ]
    }
   ],
   "source": [
    "EPOCHS = 20\n",
    "history = model.fit_generator(\n",
    "    train_generator, \n",
    "    epochs=EPOCHS,\n",
    "    validation_data=validation_generator,\n",
    "    validation_steps=total_validate//batch_size,\n",
    "    steps_per_epoch=total_train//batch_size,\n",
    "    callbacks=callbacks\n",
    ")"
   ]
  },
  {
   "cell_type": "code",
   "execution_count": 14,
   "id": "6f0d999b",
   "metadata": {
    "execution": {
     "iopub.execute_input": "2022-08-08T08:53:58.202832Z",
     "iopub.status.busy": "2022-08-08T08:53:58.202416Z",
     "iopub.status.idle": "2022-08-08T08:53:58.431714Z",
     "shell.execute_reply": "2022-08-08T08:53:58.430379Z"
    },
    "papermill": {
     "duration": 0.438071,
     "end_time": "2022-08-08T08:53:58.435079",
     "exception": false,
     "start_time": "2022-08-08T08:53:57.997008",
     "status": "completed"
    },
    "tags": []
   },
   "outputs": [],
   "source": [
    "model.save_weights(\"model26.h5\")"
   ]
  },
  {
   "cell_type": "code",
   "execution_count": 15,
   "id": "7370848a",
   "metadata": {
    "execution": {
     "iopub.execute_input": "2022-08-08T08:53:58.841690Z",
     "iopub.status.busy": "2022-08-08T08:53:58.841244Z",
     "iopub.status.idle": "2022-08-08T08:54:05.827441Z",
     "shell.execute_reply": "2022-08-08T08:54:05.826007Z"
    },
    "papermill": {
     "duration": 7.195242,
     "end_time": "2022-08-08T08:54:05.830526",
     "exception": false,
     "start_time": "2022-08-08T08:53:58.635284",
     "status": "completed"
    },
    "tags": []
   },
   "outputs": [
    {
     "name": "stderr",
     "output_type": "stream",
     "text": [
      "/opt/conda/lib/python3.7/site-packages/keras/utils/generic_utils.py:497: CustomMaskWarning: Custom mask layers require a config and must override get_config. When loading, the custom mask layer must be passed to the custom_objects argument.\n",
      "  category=CustomMaskWarning)\n"
     ]
    }
   ],
   "source": [
    "model.save(\"model7987.h5\")"
   ]
  },
  {
   "cell_type": "markdown",
   "id": "d0de1467",
   "metadata": {
    "papermill": {
     "duration": 0.19768,
     "end_time": "2022-08-08T08:54:06.233569",
     "exception": false,
     "start_time": "2022-08-08T08:54:06.035889",
     "status": "completed"
    },
    "tags": []
   },
   "source": [
    "# Visualize the training process\n"
   ]
  },
  {
   "cell_type": "code",
   "execution_count": 16,
   "id": "df98df86",
   "metadata": {
    "execution": {
     "iopub.execute_input": "2022-08-08T08:54:06.640307Z",
     "iopub.status.busy": "2022-08-08T08:54:06.639888Z",
     "iopub.status.idle": "2022-08-08T08:54:07.083182Z",
     "shell.execute_reply": "2022-08-08T08:54:07.081631Z"
    },
    "papermill": {
     "duration": 0.649573,
     "end_time": "2022-08-08T08:54:07.085806",
     "exception": false,
     "start_time": "2022-08-08T08:54:06.436233",
     "status": "completed"
    },
    "tags": []
   },
   "outputs": [
    {
     "data": {
      "image/png": "[encoded data removed]",
      "text/plain": [
       "<Figure size 432x288 with 2 Axes>"
      ]
     },
     "metadata": {
      "needs_background": "light"
     },
     "output_type": "display_data"
    }
   ],
   "source": [
    "fig, (ax1, ax2) = plt.subplots(2, 1)\n",
    "ax1.plot(history.history['loss'], color='b', label=\"Training loss\")\n",
    "ax1.plot(history.history['val_loss'], color='r', label=\"Validation loss\")\n",
    "ax1.set_yticks(np.arange(0, 0.7, 0.1))\n",
    "ax1.legend()\n",
    "\n",
    "ax2.plot(history.history['categorical_accuracy'], color='b', label=\"Training accuracy\")\n",
    "ax2.plot(history.history['val_categorical_accuracy'], color='r',label=\"Validation accuracy\")\n",
    "ax2.legend()\n",
    "\n",
    "legend = plt.legend(loc='best')\n",
    "plt.tight_layout()\n",
    "plt.show()"
   ]
  },
  {
   "cell_type": "markdown",
   "id": "614804ef",
   "metadata": {
    "papermill": {
     "duration": 0.252762,
     "end_time": "2022-08-08T08:54:07.540572",
     "exception": false,
     "start_time": "2022-08-08T08:54:07.287810",
     "status": "completed"
    },
    "tags": []
   },
   "source": [
    "# Evaluate the test"
   ]
  },
  {
   "cell_type": "markdown",
   "id": "c1661c39",
   "metadata": {
    "papermill": {
     "duration": 0.200164,
     "end_time": "2022-08-08T08:54:07.940253",
     "exception": false,
     "start_time": "2022-08-08T08:54:07.740089",
     "status": "completed"
    },
    "tags": []
   },
   "source": [
    "To evaluate the performance of our model we will create a test generator to load the images from the input data directory and evaluate the results."
   ]
  },
  {
   "cell_type": "code",
   "execution_count": 17,
   "id": "deedc00e",
   "metadata": {
    "execution": {
     "iopub.execute_input": "2022-08-08T08:54:08.346204Z",
     "iopub.status.busy": "2022-08-08T08:54:08.345767Z",
     "iopub.status.idle": "2022-08-08T08:54:10.856511Z",
     "shell.execute_reply": "2022-08-08T08:54:10.854997Z"
    },
    "papermill": {
     "duration": 2.718112,
     "end_time": "2022-08-08T08:54:10.860935",
     "exception": false,
     "start_time": "2022-08-08T08:54:08.142823",
     "status": "completed"
    },
    "tags": []
   },
   "outputs": [
    {
     "name": "stdout",
     "output_type": "stream",
     "text": [
      "Found 1606 validated image filenames belonging to 10 classes.\n"
     ]
    }
   ],
   "source": [
    "test_datagen = image.ImageDataGenerator()\n",
    "\n",
    "test_generator = test_datagen.flow_from_dataframe(\n",
    "    dataframe= test_df,\n",
    "    directory=base_path,\n",
    "    x_col='filename',\n",
    "    y_col='category',\n",
    "    target_size=IMAGE_SIZE,\n",
    "    color_mode=\"rgb\",\n",
    "    class_mode=\"categorical\",\n",
    "    batch_size=1,\n",
    "    shuffle=False \n",
    ")"
   ]
  },
  {
   "cell_type": "code",
   "execution_count": 18,
   "id": "d5168409",
   "metadata": {
    "execution": {
     "iopub.execute_input": "2022-08-08T08:54:11.286455Z",
     "iopub.status.busy": "2022-08-08T08:54:11.285994Z",
     "iopub.status.idle": "2022-08-08T08:54:31.853713Z",
     "shell.execute_reply": "2022-08-08T08:54:31.851691Z"
    },
    "papermill": {
     "duration": 20.781395,
     "end_time": "2022-08-08T08:54:31.857718",
     "exception": false,
     "start_time": "2022-08-08T08:54:11.076323",
     "status": "completed"
    },
    "tags": []
   },
   "outputs": [
    {
     "name": "stderr",
     "output_type": "stream",
     "text": [
      "/opt/conda/lib/python3.7/site-packages/keras/engine/training.py:2006: UserWarning: `Model.evaluate_generator` is deprecated and will be removed in a future version. Please use `Model.evaluate`, which supports generators.\n",
      "  warnings.warn('`Model.evaluate_generator` is deprecated and '\n"
     ]
    },
    {
     "name": "stdout",
     "output_type": "stream",
     "text": [
      "Accuracy on test set =  94.02 % \n"
     ]
    }
   ],
   "source": [
    "filenames = test_generator.filenames\n",
    "nb_samples = len(filenames)\n",
    "\n",
    "_, accuracy = model.evaluate_generator(test_generator, nb_samples)\n",
    "\n",
    "print('Accuracy on test set = ',  round((accuracy * 100),2 ), '% ') "
   ]
  },
  {
   "cell_type": "code",
   "execution_count": 19,
   "id": "00317d86",
   "metadata": {
    "execution": {
     "iopub.execute_input": "2022-08-08T08:54:32.254043Z",
     "iopub.status.busy": "2022-08-08T08:54:32.253592Z",
     "iopub.status.idle": "2022-08-08T08:54:32.261709Z",
     "shell.execute_reply": "2022-08-08T08:54:32.260178Z"
    },
    "papermill": {
     "duration": 0.21289,
     "end_time": "2022-08-08T08:54:32.266657",
     "exception": false,
     "start_time": "2022-08-08T08:54:32.053767",
     "status": "completed"
    },
    "tags": []
   },
   "outputs": [
    {
     "name": "stdout",
     "output_type": "stream",
     "text": [
      "{0: 'battery', 1: 'cardboard', 2: 'clothes', 3: 'food', 4: 'glass', 5: 'medical', 6: 'metal', 7: 'paper', 8: 'plastic', 9: 'shoes'}\n"
     ]
    }
   ],
   "source": [
    "# We defined at the beginning of this notebook a dictionary that maps the categories number to names, but the train generator\n",
    "# generated it's own dictionary and it has assigned different numbers to our categories and the predictions made by the model \n",
    "# will be made using the genrator's dictionary.\n",
    "\n",
    "gen_label_map = test_generator.class_indices\n",
    "gen_label_map = dict((v,k) for k,v in gen_label_map.items())\n",
    "print(gen_label_map)"
   ]
  },
  {
   "cell_type": "code",
   "execution_count": 20,
   "id": "c5bdfc00",
   "metadata": {
    "execution": {
     "iopub.execute_input": "2022-08-08T08:54:32.661181Z",
     "iopub.status.busy": "2022-08-08T08:54:32.660034Z",
     "iopub.status.idle": "2022-08-08T08:54:50.182347Z",
     "shell.execute_reply": "2022-08-08T08:54:50.179676Z"
    },
    "papermill": {
     "duration": 17.723867,
     "end_time": "2022-08-08T08:54:50.185118",
     "exception": false,
     "start_time": "2022-08-08T08:54:32.461251",
     "status": "completed"
    },
    "tags": []
   },
   "outputs": [
    {
     "name": "stderr",
     "output_type": "stream",
     "text": [
      "/opt/conda/lib/python3.7/site-packages/keras/engine/training.py:2035: UserWarning: `Model.predict_generator` is deprecated and will be removed in a future version. Please use `Model.predict`, which supports generators.\n",
      "  warnings.warn('`Model.predict_generator` is deprecated and '\n"
     ]
    },
    {
     "name": "stdout",
     "output_type": "stream",
     "text": [
      "              precision    recall  f1-score   support\n",
      "\n",
      "     battery       0.97      0.98      0.97        89\n",
      "   cardboard       0.93      0.93      0.93        85\n",
      "     clothes       1.00      0.98      0.99       539\n",
      "        food       0.97      0.94      0.95        97\n",
      "       glass       0.85      0.97      0.91       267\n",
      "     medical       0.90      0.97      0.93        63\n",
      "       metal       0.91      0.83      0.87        83\n",
      "       paper       0.93      0.89      0.91       110\n",
      "     plastic       0.91      0.62      0.74        82\n",
      "       shoes       0.94      0.97      0.95       191\n",
      "\n",
      "    accuracy                           0.94      1606\n",
      "   macro avg       0.93      0.91      0.92      1606\n",
      "weighted avg       0.94      0.94      0.94      1606\n",
      "\n"
     ]
    }
   ],
   "source": [
    "# get the model's predictions for the test set\n",
    "preds = model.predict_generator(test_generator, nb_samples)\n",
    "\n",
    "# Get the category with the highest predicted probability, the prediction is only the category's number and not name\n",
    "preds = preds.argmax(1)\n",
    "\n",
    "# Convert the predicted category's number to name \n",
    "preds = [gen_label_map[item] for item in preds]\n",
    "\n",
    "# Convert the pandas dataframe to a numpy matrix\n",
    "labels = test_df['category'].to_numpy()\n",
    "\n",
    "print(classification_report(labels, preds))"
   ]
  },
  {
   "cell_type": "code",
   "execution_count": 21,
   "id": "74cb9575",
   "metadata": {
    "execution": {
     "iopub.execute_input": "2022-08-08T08:54:50.570716Z",
     "iopub.status.busy": "2022-08-08T08:54:50.570147Z",
     "iopub.status.idle": "2022-08-08T08:55:15.729973Z",
     "shell.execute_reply": "2022-08-08T08:55:15.727987Z"
    },
    "papermill": {
     "duration": 25.355614,
     "end_time": "2022-08-08T08:55:15.733903",
     "exception": false,
     "start_time": "2022-08-08T08:54:50.378289",
     "status": "completed"
    },
    "tags": []
   },
   "outputs": [
    {
     "name": "stdout",
     "output_type": "stream",
     "text": [
      "Collecting gradio\r\n",
      "  Downloading gradio-3.1.4-py3-none-any.whl (5.6 MB)\r\n",
      "\u001b[2K     \u001b[90m━━━━━━━━━━━━━━━━━━━━━━━━━━━━━━━━━━━━━━━━\u001b[0m \u001b[32m5.6/5.6 MB\u001b[0m \u001b[31m8.3 MB/s\u001b[0m eta \u001b[36m0:00:00\u001b[0m\r\n",
      "\u001b[?25hRequirement already satisfied: markdown-it-py[linkify,plugins] in /opt/conda/lib/python3.7/site-packages (from gradio) (2.1.0)\r\n",
      "Requirement already satisfied: numpy in /opt/conda/lib/python3.7/site-packages (from gradio) (1.21.6)\r\n",
      "Requirement already satisfied: pillow in /opt/conda/lib/python3.7/site-packages (from gradio) (9.1.1)\r\n",
      "Requirement already satisfied: requests in /opt/conda/lib/python3.7/site-packages (from gradio) (2.28.1)\r\n",
      "Collecting ffmpy\r\n",
      "  Downloading ffmpy-0.3.0.tar.gz (4.8 kB)\r\n",
      "  Preparing metadata (setup.py) ... \u001b[?25l-\b \bdone\r\n",
      "\u001b[?25hCollecting httpx\r\n",
      "  Downloading httpx-0.23.0-py3-none-any.whl (84 kB)\r\n",
      "\u001b[2K     \u001b[90m━━━━━━━━━━━━━━━━━━━━━━━━━━━━━━━━━━━━━━━━\u001b[0m \u001b[32m84.8/84.8 kB\u001b[0m \u001b[31m4.8 MB/s\u001b[0m eta \u001b[36m0:00:00\u001b[0m\r\n",
      "\u001b[?25hCollecting analytics-python\r\n",
      "  Downloading analytics_python-1.4.0-py2.py3-none-any.whl (15 kB)\r\n",
      "Collecting pycryptodome\r\n",
      "  Downloading pycryptodome-3.15.0-cp35-abi3-manylinux2010_x86_64.whl (2.3 MB)\r\n",
      "\u001b[2K     \u001b[90m━━━━━━━━━━━━━━━━━━━━━━━━━━━━━━━━━━━━━━━━\u001b[0m \u001b[32m2.3/2.3 MB\u001b[0m \u001b[31m34.3 MB/s\u001b[0m eta \u001b[36m0:00:00\u001b[0m\r\n",
      "\u001b[?25hRequirement already satisfied: matplotlib in /opt/conda/lib/python3.7/site-packages (from gradio) (3.5.2)\r\n",
      "Requirement already satisfied: Jinja2 in /opt/conda/lib/python3.7/site-packages (from gradio) (3.1.2)\r\n",
      "Requirement already satisfied: pydub in /opt/conda/lib/python3.7/site-packages (from gradio) (0.25.1)\r\n",
      "Collecting python-multipart\r\n",
      "  Downloading python-multipart-0.0.5.tar.gz (32 kB)\r\n",
      "  Preparing metadata (setup.py) ... \u001b[?25l-\b \bdone\r\n",
      "\u001b[?25hRequirement already satisfied: fastapi in /opt/conda/lib/python3.7/site-packages (from gradio) (0.79.0)\r\n",
      "Requirement already satisfied: uvicorn in /opt/conda/lib/python3.7/site-packages (from gradio) (0.18.2)\r\n",
      "Requirement already satisfied: pandas in /opt/conda/lib/python3.7/site-packages (from gradio) (1.3.5)\r\n",
      "Collecting h11<0.13,>=0.11\r\n",
      "  Downloading h11-0.12.0-py3-none-any.whl (54 kB)\r\n",
      "\u001b[2K     \u001b[90m━━━━━━━━━━━━━━━━━━━━━━━━━━━━━━━━━━━━━━━━\u001b[0m \u001b[32m54.9/54.9 kB\u001b[0m \u001b[31m2.7 MB/s\u001b[0m eta \u001b[36m0:00:00\u001b[0m\r\n",
      "\u001b[?25hRequirement already satisfied: pydantic in /opt/conda/lib/python3.7/site-packages (from gradio) (1.8.2)\r\n",
      "Requirement already satisfied: fsspec in /opt/conda/lib/python3.7/site-packages (from gradio) (2022.5.0)\r\n",
      "Collecting paramiko\r\n",
      "  Downloading paramiko-2.11.0-py2.py3-none-any.whl (212 kB)\r\n",
      "\u001b[2K     \u001b[90m━━━━━━━━━━━━━━━━━━━━━━━━━━━━━━━━━━━━━━\u001b[0m \u001b[32m212.9/212.9 kB\u001b[0m \u001b[31m11.4 MB/s\u001b[0m eta \u001b[36m0:00:00\u001b[0m\r\n",
      "\u001b[?25hRequirement already satisfied: orjson in /opt/conda/lib/python3.7/site-packages (from gradio) (3.7.5)\r\n",
      "Requirement already satisfied: aiohttp in /opt/conda/lib/python3.7/site-packages (from gradio) (3.8.1)\r\n",
      "Requirement already satisfied: typing-extensions>=3.7.4 in /opt/conda/lib/python3.7/site-packages (from aiohttp->gradio) (4.1.1)\r\n",
      "Requirement already satisfied: yarl<2.0,>=1.0 in /opt/conda/lib/python3.7/site-packages (from aiohttp->gradio) (1.7.2)\r\n",
      "Requirement already satisfied: frozenlist>=1.1.1 in /opt/conda/lib/python3.7/site-packages (from aiohttp->gradio) (1.3.0)\r\n",
      "Requirement already satisfied: charset-normalizer<3.0,>=2.0 in /opt/conda/lib/python3.7/site-packages (from aiohttp->gradio) (2.1.0)\r\n",
      "Requirement already satisfied: async-timeout<5.0,>=4.0.0a3 in /opt/conda/lib/python3.7/site-packages (from aiohttp->gradio) (4.0.2)\r\n",
      "Requirement already satisfied: aiosignal>=1.1.2 in /opt/conda/lib/python3.7/site-packages (from aiohttp->gradio) (1.2.0)\r\n",
      "Requirement already satisfied: attrs>=17.3.0 in /opt/conda/lib/python3.7/site-packages (from aiohttp->gradio) (21.4.0)\r\n",
      "Requirement already satisfied: asynctest==0.13.0 in /opt/conda/lib/python3.7/site-packages (from aiohttp->gradio) (0.13.0)\r\n",
      "Requirement already satisfied: multidict<7.0,>=4.5 in /opt/conda/lib/python3.7/site-packages (from aiohttp->gradio) (6.0.2)\r\n",
      "Collecting backoff==1.10.0\r\n",
      "  Downloading backoff-1.10.0-py2.py3-none-any.whl (31 kB)\r\n",
      "Requirement already satisfied: six>=1.5 in /opt/conda/lib/python3.7/site-packages (from analytics-python->gradio) (1.16.0)\r\n",
      "Requirement already satisfied: python-dateutil>2.1 in /opt/conda/lib/python3.7/site-packages (from analytics-python->gradio) (2.8.2)\r\n",
      "Collecting monotonic>=1.5\r\n",
      "  Downloading monotonic-1.6-py2.py3-none-any.whl (8.2 kB)\r\n",
      "Requirement already satisfied: urllib3<1.27,>=1.21.1 in /opt/conda/lib/python3.7/site-packages (from requests->gradio) (1.26.9)\r\n",
      "Requirement already satisfied: certifi>=2017.4.17 in /opt/conda/lib/python3.7/site-packages (from requests->gradio) (2022.6.15)\r\n",
      "Requirement already satisfied: idna<4,>=2.5 in /opt/conda/lib/python3.7/site-packages (from requests->gradio) (3.3)\r\n",
      "Requirement already satisfied: starlette==0.19.1 in /opt/conda/lib/python3.7/site-packages (from fastapi->gradio) (0.19.1)\r\n",
      "Requirement already satisfied: anyio<5,>=3.4.0 in /opt/conda/lib/python3.7/site-packages (from starlette==0.19.1->fastapi->gradio) (3.6.1)\r\n",
      "Requirement already satisfied: sniffio in /opt/conda/lib/python3.7/site-packages (from httpx->gradio) (1.2.0)\r\n",
      "Collecting rfc3986[idna2008]<2,>=1.3\r\n",
      "  Downloading rfc3986-1.5.0-py2.py3-none-any.whl (31 kB)\r\n",
      "Collecting httpcore<0.16.0,>=0.15.0\r\n",
      "  Downloading httpcore-0.15.0-py3-none-any.whl (68 kB)\r\n",
      "\u001b[2K     \u001b[90m━━━━━━━━━━━━━━━━━━━━━━━━━━━━━━━━━━━━━━━━\u001b[0m \u001b[32m68.4/68.4 kB\u001b[0m \u001b[31m4.1 MB/s\u001b[0m eta \u001b[36m0:00:00\u001b[0m\r\n",
      "\u001b[?25hRequirement already satisfied: MarkupSafe>=2.0 in /opt/conda/lib/python3.7/site-packages (from Jinja2->gradio) (2.0.1)\r\n",
      "Requirement already satisfied: mdurl~=0.1 in /opt/conda/lib/python3.7/site-packages (from markdown-it-py[linkify,plugins]->gradio) (0.1.0)\r\n",
      "Collecting linkify-it-py~=1.0\r\n",
      "  Downloading linkify_it_py-1.0.3-py3-none-any.whl (19 kB)\r\n",
      "Requirement already satisfied: mdit-py-plugins in /opt/conda/lib/python3.7/site-packages (from markdown-it-py[linkify,plugins]->gradio) (0.3.0)\r\n",
      "Requirement already satisfied: pyparsing>=2.2.1 in /opt/conda/lib/python3.7/site-packages (from matplotlib->gradio) (3.0.9)\r\n",
      "Requirement already satisfied: cycler>=0.10 in /opt/conda/lib/python3.7/site-packages (from matplotlib->gradio) (0.11.0)\r\n",
      "Requirement already satisfied: packaging>=20.0 in /opt/conda/lib/python3.7/site-packages (from matplotlib->gradio) (21.3)\r\n",
      "Requirement already satisfied: fonttools>=4.22.0 in /opt/conda/lib/python3.7/site-packages (from matplotlib->gradio) (4.33.3)\r\n",
      "Requirement already satisfied: kiwisolver>=1.0.1 in /opt/conda/lib/python3.7/site-packages (from matplotlib->gradio) (1.4.3)\r\n",
      "Requirement already satisfied: pytz>=2017.3 in /opt/conda/lib/python3.7/site-packages (from pandas->gradio) (2022.1)\r\n",
      "Collecting pynacl>=1.0.1\r\n",
      "  Downloading PyNaCl-1.5.0-cp36-abi3-manylinux_2_17_x86_64.manylinux2014_x86_64.manylinux_2_24_x86_64.whl (856 kB)\r\n",
      "\u001b[2K     \u001b[90m━━━━━━━━━━━━━━━━━━━━━━━━━━━━━━━━━━━━━━\u001b[0m \u001b[32m856.7/856.7 kB\u001b[0m \u001b[31m13.9 MB/s\u001b[0m eta \u001b[36m0:00:00\u001b[0m\r\n",
      "\u001b[?25hCollecting bcrypt>=3.1.3\r\n",
      "  Downloading bcrypt-3.2.2-cp36-abi3-manylinux_2_17_x86_64.manylinux2014_x86_64.manylinux_2_24_x86_64.whl (62 kB)\r\n",
      "\u001b[2K     \u001b[90m━━━━━━━━━━━━━━━━━━━━━━━━━━━━━━━━━━━━━━━━\u001b[0m \u001b[32m62.3/62.3 kB\u001b[0m \u001b[31m3.0 MB/s\u001b[0m eta \u001b[36m0:00:00\u001b[0m\r\n",
      "\u001b[?25hRequirement already satisfied: cryptography>=2.5 in /opt/conda/lib/python3.7/site-packages (from paramiko->gradio) (37.0.2)\r\n",
      "Requirement already satisfied: click>=7.0 in /opt/conda/lib/python3.7/site-packages (from uvicorn->gradio) (8.0.4)\r\n",
      "Requirement already satisfied: cffi>=1.1 in /opt/conda/lib/python3.7/site-packages (from bcrypt>=3.1.3->paramiko->gradio) (1.15.0)\r\n",
      "Requirement already satisfied: importlib-metadata in /opt/conda/lib/python3.7/site-packages (from click>=7.0->uvicorn->gradio) (4.12.0)\r\n",
      "Collecting uc-micro-py\r\n",
      "  Downloading uc_micro_py-1.0.1-py3-none-any.whl (6.2 kB)\r\n",
      "Requirement already satisfied: pycparser in /opt/conda/lib/python3.7/site-packages (from cffi>=1.1->bcrypt>=3.1.3->paramiko->gradio) (2.21)\r\n",
      "Requirement already satisfied: zipp>=0.5 in /opt/conda/lib/python3.7/site-packages (from importlib-metadata->click>=7.0->uvicorn->gradio) (3.8.0)\r\n",
      "Building wheels for collected packages: ffmpy, python-multipart\r\n",
      "  Building wheel for ffmpy (setup.py) ... \u001b[?25l-\b \b\\\b \bdone\r\n",
      "\u001b[?25h  Created wheel for ffmpy: filename=ffmpy-0.3.0-py3-none-any.whl size=4712 sha256=5e39ef7051e03807b3df58d9c224de472bb3cb5353f103b61e0eacd2fb744250\r\n",
      "  Stored in directory: /root/.cache/pip/wheels/13/e4/6c/e8059816e86796a597c6e6b0d4c880630f51a1fcfa0befd5e6\r\n",
      "  Building wheel for python-multipart (setup.py) ... \u001b[?25l-\b \b\\\b \bdone\r\n",
      "\u001b[?25h  Created wheel for python-multipart: filename=python_multipart-0.0.5-py3-none-any.whl size=31678 sha256=e253ed816a900143fbf2add1def204c8ee3e2634fd6b8e1b808d3bc97ddfd352\r\n",
      "  Stored in directory: /root/.cache/pip/wheels/2c/41/7c/bfd1c180534ffdcc0972f78c5758f89881602175d48a8bcd2c\r\n",
      "Successfully built ffmpy python-multipart\r\n",
      "Installing collected packages: rfc3986, monotonic, ffmpy, uc-micro-py, python-multipart, pycryptodome, h11, backoff, pynacl, linkify-it-py, httpcore, bcrypt, analytics-python, paramiko, httpx, gradio\r\n",
      "  Attempting uninstall: h11\r\n",
      "    Found existing installation: h11 0.13.0\r\n",
      "    Uninstalling h11-0.13.0:\r\n",
      "      Successfully uninstalled h11-0.13.0\r\n",
      "Successfully installed analytics-python-1.4.0 backoff-1.10.0 bcrypt-3.2.2 ffmpy-0.3.0 gradio-3.1.4 h11-0.12.0 httpcore-0.15.0 httpx-0.23.0 linkify-it-py-1.0.3 monotonic-1.6 paramiko-2.11.0 pycryptodome-3.15.0 pynacl-1.5.0 python-multipart-0.0.5 rfc3986-1.5.0 uc-micro-py-1.0.1\r\n",
      "\u001b[33mWARNING: Running pip as the 'root' user can result in broken permissions and conflicting behaviour with the system package manager. It is recommended to use a virtual environment instead: https://pip.pypa.io/warnings/venv\u001b[0m\u001b[33m\r\n",
      "\u001b[0mNote: you may need to restart the kernel to use updated packages.\n"
     ]
    }
   ],
   "source": [
    "pip install gradio"
   ]
  },
  {
   "cell_type": "code",
   "execution_count": 22,
   "id": "b07075a2",
   "metadata": {
    "execution": {
     "iopub.execute_input": "2022-08-08T08:55:16.185877Z",
     "iopub.status.busy": "2022-08-08T08:55:16.185402Z",
     "iopub.status.idle": "2022-08-08T08:55:27.778102Z",
     "shell.execute_reply": "2022-08-08T08:55:27.775691Z"
    },
    "papermill": {
     "duration": 11.840669,
     "end_time": "2022-08-08T08:55:27.780982",
     "exception": false,
     "start_time": "2022-08-08T08:55:15.940313",
     "status": "completed"
    },
    "tags": []
   },
   "outputs": [
    {
     "name": "stderr",
     "output_type": "stream",
     "text": [
      "/opt/conda/lib/python3.7/site-packages/gradio/inputs.py:257: UserWarning: Usage of gradio.inputs is deprecated, and will not be supported in the future, please import your component from gradio.components\n",
      "  \"Usage of gradio.inputs is deprecated, and will not be supported in the future, please import your component from gradio.components\",\n",
      "/opt/conda/lib/python3.7/site-packages/gradio/deprecation.py:40: UserWarning: `optional` parameter is deprecated, and it has no effect\n",
      "  warnings.warn(value)\n",
      "/opt/conda/lib/python3.7/site-packages/gradio/outputs.py:197: UserWarning: Usage of gradio.outputs is deprecated, and will not be supported in the future, please import your components from gradio.components\n",
      "  \"Usage of gradio.outputs is deprecated, and will not be supported in the future, please import your components from gradio.components\",\n",
      "/opt/conda/lib/python3.7/site-packages/gradio/deprecation.py:40: UserWarning: The 'type' parameter has been deprecated. Use the Number component instead.\n",
      "  warnings.warn(value)\n"
     ]
    },
    {
     "name": "stdout",
     "output_type": "stream",
     "text": [
      "Running on local URL:  http://127.0.0.1:7860/\n",
      "Running on public URL: https://33003.gradio.app\n",
      "\n",
      "This share link expires in 72 hours. For free permanent hosting, check out Spaces: https://huggingface.co/spaces\n"
     ]
    },
    {
     "data": {
      "text/html": [
       "<div><iframe src=\"https://33003.gradio.app\" width=\"900\" height=\"500\" allow=\"autoplay; camera; microphone;\" frameborder=\"0\" allowfullscreen></iframe></div>"
      ],
      "text/plain": [
       "<IPython.core.display.HTML object>"
      ]
     },
     "metadata": {},
     "output_type": "display_data"
    },
    {
     "data": {
      "text/plain": [
       "(<gradio.routes.App at 0x7f31efb94f90>,\n",
       " 'http://127.0.0.1:7860/',\n",
       " 'https://33003.gradio.app')"
      ]
     },
     "execution_count": 22,
     "metadata": {},
     "output_type": "execute_result"
    }
   ],
   "source": [
    "import gradio as gr\n",
    "from tensorflow.keras.models import load_model\n",
    " \n",
    "# load model\n",
    "model = load_model('model7987.h5')\n",
    "\n",
    "classnames = ['battery','cardboard','clothes','food','glass','medical','metal','paper','plastic','shoes']\n",
    "\n",
    "\n",
    "\n",
    "def predict_image(img):\n",
    "  img_4d=img.reshape(-1,224, 224,3)\n",
    "  prediction=model.predict(img_4d)[0]\n",
    "  return {classnames[i]: float(prediction[i]) for i in range(10)}\n",
    "\n",
    "                \n",
    "\n",
    "image = gr.inputs.Image(shape=(224, 224))\n",
    "label = gr.outputs.Label(num_top_classes=3)\n",
    "article=\"<p style='text-align: center'>Made by Aditya Narendra with 🖤</p>\"\n",
    "\n",
    "\n",
    "\n",
    "gr.Interface(fn=predict_image, inputs=image,  title=\"Garbage Classifier V5-Mobilenetv2\",\n",
    "    description=\"This is a Garbage Classification Model Trained using MobileNetV2.Deployed to Hugging Faces using Gradio.\",outputs=label,article=article,interpretation='default').launch(share=\"True\")"
   ]
  },
  {
   "cell_type": "code",
   "execution_count": null,
   "id": "2f500cbc",
   "metadata": {
    "papermill": {
     "duration": 0.386514,
     "end_time": "2022-08-08T08:55:28.687099",
     "exception": false,
     "start_time": "2022-08-08T08:55:28.300585",
     "status": "completed"
    },
    "tags": []
   },
   "outputs": [],
   "source": []
  },
  {
   "cell_type": "code",
   "execution_count": null,
   "id": "22c531ed",
   "metadata": {
    "papermill": {
     "duration": 0.209914,
     "end_time": "2022-08-08T08:55:29.155874",
     "exception": false,
     "start_time": "2022-08-08T08:55:28.945960",
     "status": "completed"
    },
    "tags": []
   },
   "outputs": [],
   "source": []
  }
 ],
 "metadata": {
  "kernelspec": {
   "display_name": "Python 3",
   "language": "python",
   "name": "python3"
  },
  "language_info": {
   "codemirror_mode": {
    "name": "ipython",
    "version": 3
   },
   "file_extension": ".py",
   "mimetype": "text/x-python",
   "name": "python",
   "nbconvert_exporter": "python",
   "pygments_lexer": "ipython3",
   "version": "3.7.12"
  },
  "papermill": {
   "default_parameters": {},
   "duration": 1339.720296,
   "end_time": "2022-08-08T08:55:32.774626",
   "environment_variables": {},
   "exception": null,
   "input_path": "__notebook__.ipynb",
   "output_path": "__notebook__.ipynb",
   "parameters": {},
   "start_time": "2022-08-08T08:33:13.054330",
   "version": "2.3.4"
  }
 },
 "nbformat": 4,
 "nbformat_minor": 5
}
