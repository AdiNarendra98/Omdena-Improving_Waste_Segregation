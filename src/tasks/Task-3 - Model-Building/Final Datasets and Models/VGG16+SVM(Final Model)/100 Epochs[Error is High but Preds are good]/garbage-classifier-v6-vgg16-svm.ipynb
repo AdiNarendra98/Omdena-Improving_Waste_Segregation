{
 "cells": [
  {
   "cell_type": "markdown",
   "id": "fed1317b",
   "metadata": {
    "_cell_guid": "b1076dfc-b9ad-4769-8c92-a6c4dae69d19",
    "_uuid": "8f2839f25d086af736a60e9eeb907d3b93b6e0e5",
    "papermill": {
     "duration": 0.007846,
     "end_time": "2022-08-08T02:53:00.001250",
     "exception": false,
     "start_time": "2022-08-08T02:52:59.993404",
     "status": "completed"
    },
    "tags": []
   },
   "source": [
    "# Garbage Classification using VGG16 + SVM"
   ]
  },
  {
   "cell_type": "markdown",
   "id": "1763b509",
   "metadata": {
    "papermill": {
     "duration": 0.006198,
     "end_time": "2022-08-08T02:53:00.014165",
     "exception": false,
     "start_time": "2022-08-08T02:53:00.007967",
     "status": "completed"
    },
    "tags": []
   },
   "source": [
    "# Import Required Libraries"
   ]
  },
  {
   "cell_type": "code",
   "execution_count": 1,
   "id": "7e8e2d47",
   "metadata": {
    "execution": {
     "iopub.execute_input": "2022-08-08T02:53:00.029974Z",
     "iopub.status.busy": "2022-08-08T02:53:00.028865Z",
     "iopub.status.idle": "2022-08-08T02:53:06.428223Z",
     "shell.execute_reply": "2022-08-08T02:53:06.427129Z"
    },
    "papermill": {
     "duration": 6.410842,
     "end_time": "2022-08-08T02:53:06.431380",
     "exception": false,
     "start_time": "2022-08-08T02:53:00.020538",
     "status": "completed"
    },
    "tags": []
   },
   "outputs": [
    {
     "name": "stdout",
     "output_type": "stream",
     "text": [
      "setup successful!\n"
     ]
    }
   ],
   "source": [
    "import numpy as np\n",
    "import pandas as pd \n",
    "import random\n",
    "import os\n",
    "import matplotlib.pyplot as plt\n",
    "import seaborn as sns\n",
    "import zipfile\n",
    "import sys\n",
    "import time\n",
    "from tensorflow.keras.applications import VGG16\n",
    "from tensorflow.keras.applications.vgg16 import preprocess_input\n",
    "\n",
    "import tensorflow.keras as keras\n",
    "import tensorflow as tf\n",
    "import re\n",
    "\n",
    "from PIL import Image\n",
    "from keras.layers import Input, Conv2D, Dense, Flatten, MaxPooling2D, Input, GlobalAveragePooling2D\n",
    "from tensorflow.keras.layers.experimental.preprocessing import Normalization\n",
    "from keras.models import Model, Sequential\n",
    "from keras.preprocessing import image\n",
    "from tensorflow.keras.utils import to_categorical\n",
    "from keras.layers import Lambda\n",
    "from keras.callbacks import EarlyStopping\n",
    "from sklearn.model_selection import train_test_split\n",
    "from sklearn.metrics import classification_report\n",
    "\n",
    "print('setup successful!')"
   ]
  },
  {
   "cell_type": "markdown",
   "id": "ceb906f2",
   "metadata": {
    "papermill": {
     "duration": 0.009272,
     "end_time": "2022-08-08T02:53:06.453364",
     "exception": false,
     "start_time": "2022-08-08T02:53:06.444092",
     "status": "completed"
    },
    "tags": []
   },
   "source": [
    "# Define Constants"
   ]
  },
  {
   "cell_type": "code",
   "execution_count": 2,
   "id": "8ac3f774",
   "metadata": {
    "execution": {
     "iopub.execute_input": "2022-08-08T02:53:06.474477Z",
     "iopub.status.busy": "2022-08-08T02:53:06.473726Z",
     "iopub.status.idle": "2022-08-08T02:53:06.484830Z",
     "shell.execute_reply": "2022-08-08T02:53:06.483798Z"
    },
    "papermill": {
     "duration": 0.02485,
     "end_time": "2022-08-08T02:53:06.487643",
     "exception": false,
     "start_time": "2022-08-08T02:53:06.462793",
     "status": "completed"
    },
    "tags": []
   },
   "outputs": [
    {
     "name": "stdout",
     "output_type": "stream",
     "text": [
      "defining constants successful!\n"
     ]
    }
   ],
   "source": [
    "# Increasing the image size didn't result in increasing the training accuracy\n",
    "IMAGE_WIDTH = 224    \n",
    "IMAGE_HEIGHT = 224\n",
    "IMAGE_SIZE=(IMAGE_WIDTH, IMAGE_HEIGHT)\n",
    "IMAGE_CHANNELS = 3\n",
    "\n",
    "\n",
    "# Path where our data is located\n",
    "base_path = \"../input/garbage-seg-10-v5/Garbage Seg 10 V5/\"\n",
    "\n",
    "# Dictionary to save our 12 classes\n",
    "categories = {0: 'paper', 1: 'cardboard', 2: 'plastic', 3: 'metal', 4: 'food', 5: 'battery',\n",
    "              6: 'shoes', 7: 'clothes', 8: 'glass',9: 'medical'}\n",
    "\n",
    "print('defining constants successful!')"
   ]
  },
  {
   "cell_type": "markdown",
   "id": "e7bdfe35",
   "metadata": {
    "papermill": {
     "duration": 0.009464,
     "end_time": "2022-08-08T02:53:06.508308",
     "exception": false,
     "start_time": "2022-08-08T02:53:06.498844",
     "status": "completed"
    },
    "tags": []
   },
   "source": [
    "# Create DataFrame"
   ]
  },
  {
   "cell_type": "markdown",
   "id": "7772695f",
   "metadata": {
    "papermill": {
     "duration": 0.00871,
     "end_time": "2022-08-08T02:53:06.526107",
     "exception": false,
     "start_time": "2022-08-08T02:53:06.517397",
     "status": "completed"
    },
    "tags": []
   },
   "source": [
    "We want to create a data frame that has in one column the filenames of all our images and in the other column the corresponding category. \n",
    "We Open the directories in the dataset one by one, save the filenames in the filenames_list and add the corresponding category in the categories_list"
   ]
  },
  {
   "cell_type": "code",
   "execution_count": 3,
   "id": "5bbc2f1f",
   "metadata": {
    "execution": {
     "iopub.execute_input": "2022-08-08T02:53:06.546356Z",
     "iopub.status.busy": "2022-08-08T02:53:06.545926Z",
     "iopub.status.idle": "2022-08-08T02:53:09.421389Z",
     "shell.execute_reply": "2022-08-08T02:53:09.419817Z"
    },
    "papermill": {
     "duration": 2.888121,
     "end_time": "2022-08-08T02:53:09.424186",
     "exception": false,
     "start_time": "2022-08-08T02:53:06.536065",
     "status": "completed"
    },
    "tags": []
   },
   "outputs": [
    {
     "name": "stdout",
     "output_type": "stream",
     "text": [
      "Number of Elements =  16059\n"
     ]
    }
   ],
   "source": [
    "# Add class name prefix to filename. So for example \"/paper104.jpg\" become \"paper/paper104.jpg\"\n",
    "def add_class_name_prefix(df, col_name):\n",
    "    df[col_name] = df[col_name].apply(lambda x: x[:re.search(\"\\d\",x).start()] + '/' + x)\n",
    "    return df\n",
    "\n",
    "# list conatining all the filenames in the dataset\n",
    "filenames_list = []\n",
    "# list to store the corresponding category, note that each folder of the dataset has one class of data\n",
    "categories_list = []\n",
    "\n",
    "for category in categories:\n",
    "    filenames = os.listdir(base_path + categories[category])\n",
    "    \n",
    "    filenames_list = filenames_list  +filenames\n",
    "    categories_list = categories_list + [category] * len(filenames)\n",
    "    \n",
    "df = pd.DataFrame({\n",
    "    'filename': filenames_list,\n",
    "    'category': categories_list\n",
    "})\n",
    "\n",
    "df = add_class_name_prefix(df, 'filename')\n",
    "\n",
    "# Shuffle the dataframe\n",
    "df = df.sample(frac=1).reset_index(drop=True)\n",
    "\n",
    "print('Number of Elements = ' , len(df))"
   ]
  },
  {
   "cell_type": "code",
   "execution_count": 4,
   "id": "87451268",
   "metadata": {
    "execution": {
     "iopub.execute_input": "2022-08-08T02:53:09.439093Z",
     "iopub.status.busy": "2022-08-08T02:53:09.438593Z",
     "iopub.status.idle": "2022-08-08T02:53:09.452896Z",
     "shell.execute_reply": "2022-08-08T02:53:09.451848Z"
    },
    "papermill": {
     "duration": 0.024211,
     "end_time": "2022-08-08T02:53:09.455351",
     "exception": false,
     "start_time": "2022-08-08T02:53:09.431140",
     "status": "completed"
    },
    "tags": []
   },
   "outputs": [
    {
     "data": {
      "text/html": [
       "<div>\n",
       "<style scoped>\n",
       "    .dataframe tbody tr th:only-of-type {\n",
       "        vertical-align: middle;\n",
       "    }\n",
       "\n",
       "    .dataframe tbody tr th {\n",
       "        vertical-align: top;\n",
       "    }\n",
       "\n",
       "    .dataframe thead th {\n",
       "        text-align: right;\n",
       "    }\n",
       "</style>\n",
       "<table border=\"1\" class=\"dataframe\">\n",
       "  <thead>\n",
       "    <tr style=\"text-align: right;\">\n",
       "      <th></th>\n",
       "      <th>filename</th>\n",
       "      <th>category</th>\n",
       "    </tr>\n",
       "  </thead>\n",
       "  <tbody>\n",
       "    <tr>\n",
       "      <th>0</th>\n",
       "      <td>clothes/clothes5067.jpg</td>\n",
       "      <td>7</td>\n",
       "    </tr>\n",
       "    <tr>\n",
       "      <th>1</th>\n",
       "      <td>metal/metal437.jpg</td>\n",
       "      <td>3</td>\n",
       "    </tr>\n",
       "    <tr>\n",
       "      <th>2</th>\n",
       "      <td>clothes/clothes1035.jpg</td>\n",
       "      <td>7</td>\n",
       "    </tr>\n",
       "    <tr>\n",
       "      <th>3</th>\n",
       "      <td>clothes/clothes2587.jpg</td>\n",
       "      <td>7</td>\n",
       "    </tr>\n",
       "    <tr>\n",
       "      <th>4</th>\n",
       "      <td>medical/medical548.jpg</td>\n",
       "      <td>9</td>\n",
       "    </tr>\n",
       "    <tr>\n",
       "      <th>5</th>\n",
       "      <td>glass/glass2082.jpg</td>\n",
       "      <td>8</td>\n",
       "    </tr>\n",
       "    <tr>\n",
       "      <th>6</th>\n",
       "      <td>glass/glass1493.jpg</td>\n",
       "      <td>8</td>\n",
       "    </tr>\n",
       "    <tr>\n",
       "      <th>7</th>\n",
       "      <td>shoes/shoes661.jpg</td>\n",
       "      <td>6</td>\n",
       "    </tr>\n",
       "    <tr>\n",
       "      <th>8</th>\n",
       "      <td>clothes/clothes4017.jpg</td>\n",
       "      <td>7</td>\n",
       "    </tr>\n",
       "    <tr>\n",
       "      <th>9</th>\n",
       "      <td>medical/medical514.jpg</td>\n",
       "      <td>9</td>\n",
       "    </tr>\n",
       "  </tbody>\n",
       "</table>\n",
       "</div>"
      ],
      "text/plain": [
       "                  filename  category\n",
       "0  clothes/clothes5067.jpg         7\n",
       "1       metal/metal437.jpg         3\n",
       "2  clothes/clothes1035.jpg         7\n",
       "3  clothes/clothes2587.jpg         7\n",
       "4   medical/medical548.jpg         9\n",
       "5      glass/glass2082.jpg         8\n",
       "6      glass/glass1493.jpg         8\n",
       "7       shoes/shoes661.jpg         6\n",
       "8  clothes/clothes4017.jpg         7\n",
       "9   medical/medical514.jpg         9"
      ]
     },
     "execution_count": 4,
     "metadata": {},
     "output_type": "execute_result"
    }
   ],
   "source": [
    "df.head(10)"
   ]
  },
  {
   "cell_type": "code",
   "execution_count": 5,
   "id": "1c5fcb5c",
   "metadata": {
    "execution": {
     "iopub.execute_input": "2022-08-08T02:53:09.469574Z",
     "iopub.status.busy": "2022-08-08T02:53:09.469314Z",
     "iopub.status.idle": "2022-08-08T02:53:09.737988Z",
     "shell.execute_reply": "2022-08-08T02:53:09.737034Z"
    },
    "papermill": {
     "duration": 0.278829,
     "end_time": "2022-08-08T02:53:09.740762",
     "exception": false,
     "start_time": "2022-08-08T02:53:09.461933",
     "status": "completed"
    },
    "tags": []
   },
   "outputs": [
    {
     "name": "stdout",
     "output_type": "stream",
     "text": [
      "clothes/clothes296.jpg\n"
     ]
    },
    {
     "data": {
      "text/plain": [
       "<matplotlib.image.AxesImage at 0x7f4ac608e990>"
      ]
     },
     "execution_count": 5,
     "metadata": {},
     "output_type": "execute_result"
    },
    {
     "data": {
      "image/png": "[encoded data removed]",
      "text/plain": [
       "<Figure size 432x288 with 1 Axes>"
      ]
     },
     "metadata": {
      "needs_background": "light"
     },
     "output_type": "display_data"
    }
   ],
   "source": [
    "# see sample image, you can run the same cell again to get a different image\n",
    "random_row = random.randint(0, len(df)-1)\n",
    "sample = df.iloc[random_row]\n",
    "randomimage = image.load_img(base_path +sample['filename'])\n",
    "print(sample['filename'])\n",
    "plt.imshow(randomimage)"
   ]
  },
  {
   "cell_type": "markdown",
   "id": "b36e2c0e",
   "metadata": {
    "papermill": {
     "duration": 0.007526,
     "end_time": "2022-08-08T02:53:09.756275",
     "exception": false,
     "start_time": "2022-08-08T02:53:09.748749",
     "status": "completed"
    },
    "tags": []
   },
   "source": [
    "# Viusalize the Categories Distribution"
   ]
  },
  {
   "cell_type": "code",
   "execution_count": 6,
   "id": "58af6a09",
   "metadata": {
    "execution": {
     "iopub.execute_input": "2022-08-08T02:53:09.773197Z",
     "iopub.status.busy": "2022-08-08T02:53:09.772916Z",
     "iopub.status.idle": "2022-08-08T02:53:10.002500Z",
     "shell.execute_reply": "2022-08-08T02:53:10.001566Z"
    },
    "papermill": {
     "duration": 0.240521,
     "end_time": "2022-08-08T02:53:10.004781",
     "exception": false,
     "start_time": "2022-08-08T02:53:09.764260",
     "status": "completed"
    },
    "tags": []
   },
   "outputs": [
    {
     "data": {
      "image/png": "[encoded data removed]",
      "text/plain": [
       "<Figure size 432x288 with 1 Axes>"
      ]
     },
     "metadata": {
      "needs_background": "light"
     },
     "output_type": "display_data"
    }
   ],
   "source": [
    "df_visualization = df.copy()\n",
    "# Change the catgegories from numbers to names\n",
    "df_visualization['category'] = df_visualization['category'].apply(lambda x:categories[x] )\n",
    "\n",
    "df_visualization['category'].value_counts().plot.bar(x = 'count', y = 'category' )\n",
    "\n",
    "plt.xlabel(\"Garbage Classes\", labelpad=14)\n",
    "plt.ylabel(\"Images Count\", labelpad=14)\n",
    "plt.title(\"Count of images per class\", y=1.02);"
   ]
  },
  {
   "cell_type": "markdown",
   "id": "3f1eb7a7",
   "metadata": {
    "papermill": {
     "duration": 0.00814,
     "end_time": "2022-08-08T02:53:10.021065",
     "exception": false,
     "start_time": "2022-08-08T02:53:10.012925",
     "status": "completed"
    },
    "tags": []
   },
   "source": [
    "# Create the model"
   ]
  },
  {
   "cell_type": "markdown",
   "id": "540380f9",
   "metadata": {
    "papermill": {
     "duration": 0.007775,
     "end_time": "2022-08-08T02:53:10.036958",
     "exception": false,
     "start_time": "2022-08-08T02:53:10.029183",
     "status": "completed"
    },
    "tags": []
   },
   "source": [
    "The steps are:\n",
    "1. Create an mobilenetv2 model without the last layer and load the ImageNet pretrained weights\n",
    "2. Add a pre-processing layer\n",
    "3. Add a pooling layer followed by a SVM at the end"
   ]
  },
  {
   "cell_type": "code",
   "execution_count": 7,
   "id": "895c0ba6",
   "metadata": {
    "execution": {
     "iopub.execute_input": "2022-08-08T02:53:10.054901Z",
     "iopub.status.busy": "2022-08-08T02:53:10.053805Z",
     "iopub.status.idle": "2022-08-08T02:53:14.224387Z",
     "shell.execute_reply": "2022-08-08T02:53:14.222722Z"
    },
    "papermill": {
     "duration": 4.181891,
     "end_time": "2022-08-08T02:53:14.226776",
     "exception": false,
     "start_time": "2022-08-08T02:53:10.044885",
     "status": "completed"
    },
    "tags": []
   },
   "outputs": [
    {
     "name": "stderr",
     "output_type": "stream",
     "text": [
      "2022-08-08 02:53:10.153503: I tensorflow/stream_executor/cuda/cuda_gpu_executor.cc:937] successful NUMA node read from SysFS had negative value (-1), but there must be at least one NUMA node, so returning NUMA node zero\n",
      "2022-08-08 02:53:10.295411: I tensorflow/stream_executor/cuda/cuda_gpu_executor.cc:937] successful NUMA node read from SysFS had negative value (-1), but there must be at least one NUMA node, so returning NUMA node zero\n",
      "2022-08-08 02:53:10.296259: I tensorflow/stream_executor/cuda/cuda_gpu_executor.cc:937] successful NUMA node read from SysFS had negative value (-1), but there must be at least one NUMA node, so returning NUMA node zero\n",
      "2022-08-08 02:53:10.297727: I tensorflow/core/platform/cpu_feature_guard.cc:142] This TensorFlow binary is optimized with oneAPI Deep Neural Network Library (oneDNN) to use the following CPU instructions in performance-critical operations:  AVX2 AVX512F FMA\n",
      "To enable them in other operations, rebuild TensorFlow with the appropriate compiler flags.\n",
      "2022-08-08 02:53:10.298068: I tensorflow/stream_executor/cuda/cuda_gpu_executor.cc:937] successful NUMA node read from SysFS had negative value (-1), but there must be at least one NUMA node, so returning NUMA node zero\n",
      "2022-08-08 02:53:10.298801: I tensorflow/stream_executor/cuda/cuda_gpu_executor.cc:937] successful NUMA node read from SysFS had negative value (-1), but there must be at least one NUMA node, so returning NUMA node zero\n",
      "2022-08-08 02:53:10.299460: I tensorflow/stream_executor/cuda/cuda_gpu_executor.cc:937] successful NUMA node read from SysFS had negative value (-1), but there must be at least one NUMA node, so returning NUMA node zero\n",
      "2022-08-08 02:53:12.708979: I tensorflow/stream_executor/cuda/cuda_gpu_executor.cc:937] successful NUMA node read from SysFS had negative value (-1), but there must be at least one NUMA node, so returning NUMA node zero\n",
      "2022-08-08 02:53:12.709957: I tensorflow/stream_executor/cuda/cuda_gpu_executor.cc:937] successful NUMA node read from SysFS had negative value (-1), but there must be at least one NUMA node, so returning NUMA node zero\n",
      "2022-08-08 02:53:12.710815: I tensorflow/stream_executor/cuda/cuda_gpu_executor.cc:937] successful NUMA node read from SysFS had negative value (-1), but there must be at least one NUMA node, so returning NUMA node zero\n",
      "2022-08-08 02:53:12.711455: I tensorflow/core/common_runtime/gpu/gpu_device.cc:1510] Created device /job:localhost/replica:0/task:0/device:GPU:0 with 15403 MB memory:  -> device: 0, name: Tesla P100-PCIE-16GB, pci bus id: 0000:00:04.0, compute capability: 6.0\n"
     ]
    },
    {
     "name": "stdout",
     "output_type": "stream",
     "text": [
      "Downloading data from https://storage.googleapis.com/tensorflow/keras-applications/vgg16/vgg16_weights_tf_dim_ordering_tf_kernels_notop.h5\n",
      "58892288/58889256 [==============================] - 1s 0us/step\n",
      "58900480/58889256 [==============================] - 1s 0us/step\n",
      "Model: \"sequential\"\n",
      "_________________________________________________________________\n",
      "Layer (type)                 Output Shape              Param #   \n",
      "=================================================================\n",
      "lambda (Lambda)              (None, 224, 224, 3)       0         \n",
      "_________________________________________________________________\n",
      "vgg16 (Functional)           (None, 7, 7, 512)         14714688  \n",
      "_________________________________________________________________\n",
      "global_average_pooling2d (Gl (None, 512)               0         \n",
      "_________________________________________________________________\n",
      "dense (Dense)                (None, 10)                5130      \n",
      "=================================================================\n",
      "Total params: 14,719,818\n",
      "Trainable params: 5,130\n",
      "Non-trainable params: 14,714,688\n",
      "_________________________________________________________________\n"
     ]
    }
   ],
   "source": [
    "from keras.models import Sequential\n",
    "from keras.layers import Conv2D, MaxPooling2D, Dropout, Flatten, Dense, Activation, BatchNormalization\n",
    "import keras.applications.vgg16 as vgg16\n",
    "from tensorflow.keras.regularizers import l2\n",
    "\n",
    "\n",
    "vgg16_layer = VGG16(include_top = False, input_shape = (IMAGE_WIDTH, IMAGE_HEIGHT,IMAGE_CHANNELS),weights =\"imagenet\")\n",
    "\n",
    "# We don't want to train the imported weights\n",
    "vgg16_layer.trainable = False\n",
    "\n",
    "\n",
    "model = Sequential()\n",
    "model.add(keras.Input(shape=(IMAGE_WIDTH, IMAGE_HEIGHT, IMAGE_CHANNELS)))\n",
    "\n",
    "#create a custom layer to apply the preprocessing\n",
    "def vgg16_preprocessing(img):\n",
    "  return vgg16.preprocess_input(img)\n",
    "\n",
    "model.add(Lambda(vgg16_preprocessing))\n",
    "\n",
    "model.add(vgg16_layer)\n",
    "model.add(tf.keras.layers.GlobalAveragePooling2D())\n",
    "model.add(Dense(len(categories),kernel_regularizer=tf.keras.regularizers.l2(0.01),activation='softmax')) \n",
    "\n",
    "model.compile(loss='squared_hinge', optimizer='adam', metrics=['categorical_accuracy'])\n",
    "\n",
    "model.summary()"
   ]
  },
  {
   "cell_type": "markdown",
   "id": "b0439e32",
   "metadata": {
    "papermill": {
     "duration": 0.008673,
     "end_time": "2022-08-08T02:53:14.244431",
     "exception": false,
     "start_time": "2022-08-08T02:53:14.235758",
     "status": "completed"
    },
    "tags": []
   },
   "source": [
    "We will use the EarlyStopping call back to stop our training if the validation_accuray is not improving for a certain number of epochs."
   ]
  },
  {
   "cell_type": "code",
   "execution_count": 8,
   "id": "4df9559b",
   "metadata": {
    "execution": {
     "iopub.execute_input": "2022-08-08T02:53:14.263651Z",
     "iopub.status.busy": "2022-08-08T02:53:14.263010Z",
     "iopub.status.idle": "2022-08-08T02:53:14.269251Z",
     "shell.execute_reply": "2022-08-08T02:53:14.267999Z"
    },
    "papermill": {
     "duration": 0.018763,
     "end_time": "2022-08-08T02:53:14.271904",
     "exception": false,
     "start_time": "2022-08-08T02:53:14.253141",
     "status": "completed"
    },
    "tags": []
   },
   "outputs": [
    {
     "name": "stdout",
     "output_type": "stream",
     "text": [
      "Call Back Defined!\n"
     ]
    }
   ],
   "source": [
    "early_stop = EarlyStopping(patience = 5, verbose = 1, monitor='val_categorical_accuracy' , mode='max', min_delta=0.001, restore_best_weights = True)\n",
    "\n",
    "callbacks = [early_stop]\n",
    "\n",
    "print('Call Back Defined!')"
   ]
  },
  {
   "cell_type": "markdown",
   "id": "b96a4942",
   "metadata": {
    "papermill": {
     "duration": 0.008661,
     "end_time": "2022-08-08T02:53:14.289841",
     "exception": false,
     "start_time": "2022-08-08T02:53:14.281180",
     "status": "completed"
    },
    "tags": []
   },
   "source": [
    "# Split the Data Set"
   ]
  },
  {
   "cell_type": "markdown",
   "id": "f091fe62",
   "metadata": {
    "papermill": {
     "duration": 0.008532,
     "end_time": "2022-08-08T02:53:14.307048",
     "exception": false,
     "start_time": "2022-08-08T02:53:14.298516",
     "status": "completed"
    },
    "tags": []
   },
   "source": [
    "We split the training set into three separate sets:\n",
    "\n",
    "1. **The training set:** used to train our model.\n",
    "1. **The validation set**: used to double check that our model is not overfitting the training set, i.e. it can also generalise to other data other than the train data\n",
    "1. **The Test set:** Used to estimate the accuracy of the model on new data other than the ones the model used for training\n",
    "For a competition  or for some other cases, you can split the data only to training and validation sets in order to achieve the highest  possible accuracy, without the need to properly estimate how accurate the model really is.\n",
    "\n",
    "We split the data set as follows: 80% train set, 10% cross_validation set, and 10% test set"
   ]
  },
  {
   "cell_type": "code",
   "execution_count": 9,
   "id": "4771914e",
   "metadata": {
    "execution": {
     "iopub.execute_input": "2022-08-08T02:53:14.326151Z",
     "iopub.status.busy": "2022-08-08T02:53:14.325571Z",
     "iopub.status.idle": "2022-08-08T02:53:14.341711Z",
     "shell.execute_reply": "2022-08-08T02:53:14.340637Z"
    },
    "papermill": {
     "duration": 0.028566,
     "end_time": "2022-08-08T02:53:14.344338",
     "exception": false,
     "start_time": "2022-08-08T02:53:14.315772",
     "status": "completed"
    },
    "tags": []
   },
   "outputs": [
    {
     "name": "stdout",
     "output_type": "stream",
     "text": [
      "train size =  1606 validate size =  1606 test size =  1606\n"
     ]
    }
   ],
   "source": [
    "#Change the categories from numbers to names\n",
    "df[\"category\"] = df[\"category\"].replace(categories) \n",
    "\n",
    "# We first split the data into two sets and then split the validate_df to two sets\n",
    "train_df, validate_df = train_test_split(df, test_size=0.2, random_state=42)\n",
    "validate_df, test_df = train_test_split(validate_df, test_size=0.5, random_state=42)\n",
    "\n",
    "train_df = train_df.reset_index(drop=True)\n",
    "validate_df = validate_df.reset_index(drop=True)\n",
    "test_df = test_df.reset_index(drop=True)\n",
    "\n",
    "total_train = train_df.shape[0]\n",
    "total_validate = validate_df.shape[0]\n",
    "\n",
    "print('train size = ', total_validate , 'validate size = ', total_validate, 'test size = ', test_df.shape[0])"
   ]
  },
  {
   "cell_type": "code",
   "execution_count": 10,
   "id": "b156eb18",
   "metadata": {
    "execution": {
     "iopub.execute_input": "2022-08-08T02:53:14.363548Z",
     "iopub.status.busy": "2022-08-08T02:53:14.363290Z",
     "iopub.status.idle": "2022-08-08T02:53:14.373342Z",
     "shell.execute_reply": "2022-08-08T02:53:14.372344Z"
    },
    "papermill": {
     "duration": 0.021758,
     "end_time": "2022-08-08T02:53:14.375350",
     "exception": false,
     "start_time": "2022-08-08T02:53:14.353592",
     "status": "completed"
    },
    "tags": []
   },
   "outputs": [
    {
     "data": {
      "text/html": [
       "<div>\n",
       "<style scoped>\n",
       "    .dataframe tbody tr th:only-of-type {\n",
       "        vertical-align: middle;\n",
       "    }\n",
       "\n",
       "    .dataframe tbody tr th {\n",
       "        vertical-align: top;\n",
       "    }\n",
       "\n",
       "    .dataframe thead th {\n",
       "        text-align: right;\n",
       "    }\n",
       "</style>\n",
       "<table border=\"1\" class=\"dataframe\">\n",
       "  <thead>\n",
       "    <tr style=\"text-align: right;\">\n",
       "      <th></th>\n",
       "      <th>filename</th>\n",
       "      <th>category</th>\n",
       "    </tr>\n",
       "  </thead>\n",
       "  <tbody>\n",
       "    <tr>\n",
       "      <th>0</th>\n",
       "      <td>clothes/clothes5044.jpg</td>\n",
       "      <td>clothes</td>\n",
       "    </tr>\n",
       "    <tr>\n",
       "      <th>1</th>\n",
       "      <td>clothes/clothes2915.jpg</td>\n",
       "      <td>clothes</td>\n",
       "    </tr>\n",
       "    <tr>\n",
       "      <th>2</th>\n",
       "      <td>clothes/clothes4144.jpg</td>\n",
       "      <td>clothes</td>\n",
       "    </tr>\n",
       "    <tr>\n",
       "      <th>3</th>\n",
       "      <td>clothes/clothes262.jpg</td>\n",
       "      <td>clothes</td>\n",
       "    </tr>\n",
       "    <tr>\n",
       "      <th>4</th>\n",
       "      <td>clothes/clothes3692.jpg</td>\n",
       "      <td>clothes</td>\n",
       "    </tr>\n",
       "    <tr>\n",
       "      <th>5</th>\n",
       "      <td>shoes/shoes302.jpg</td>\n",
       "      <td>shoes</td>\n",
       "    </tr>\n",
       "    <tr>\n",
       "      <th>6</th>\n",
       "      <td>food/food107.jpg</td>\n",
       "      <td>food</td>\n",
       "    </tr>\n",
       "    <tr>\n",
       "      <th>7</th>\n",
       "      <td>food/food60.jpg</td>\n",
       "      <td>food</td>\n",
       "    </tr>\n",
       "    <tr>\n",
       "      <th>8</th>\n",
       "      <td>clothes/clothes3140.jpg</td>\n",
       "      <td>clothes</td>\n",
       "    </tr>\n",
       "    <tr>\n",
       "      <th>9</th>\n",
       "      <td>clothes/clothes3344.jpg</td>\n",
       "      <td>clothes</td>\n",
       "    </tr>\n",
       "  </tbody>\n",
       "</table>\n",
       "</div>"
      ],
      "text/plain": [
       "                  filename category\n",
       "0  clothes/clothes5044.jpg  clothes\n",
       "1  clothes/clothes2915.jpg  clothes\n",
       "2  clothes/clothes4144.jpg  clothes\n",
       "3   clothes/clothes262.jpg  clothes\n",
       "4  clothes/clothes3692.jpg  clothes\n",
       "5       shoes/shoes302.jpg    shoes\n",
       "6         food/food107.jpg     food\n",
       "7          food/food60.jpg     food\n",
       "8  clothes/clothes3140.jpg  clothes\n",
       "9  clothes/clothes3344.jpg  clothes"
      ]
     },
     "execution_count": 10,
     "metadata": {},
     "output_type": "execute_result"
    }
   ],
   "source": [
    "train_df.head(10)"
   ]
  },
  {
   "cell_type": "markdown",
   "id": "67e34ffb",
   "metadata": {
    "papermill": {
     "duration": 0.008802,
     "end_time": "2022-08-08T02:53:14.393038",
     "exception": false,
     "start_time": "2022-08-08T02:53:14.384236",
     "status": "completed"
    },
    "tags": []
   },
   "source": [
    "# Train the model"
   ]
  },
  {
   "cell_type": "markdown",
   "id": "948edc44",
   "metadata": {
    "papermill": {
     "duration": 0.008768,
     "end_time": "2022-08-08T02:53:14.410729",
     "exception": false,
     "start_time": "2022-08-08T02:53:14.401961",
     "status": "completed"
    },
    "tags": []
   },
   "source": [
    "We will first create the training data generator, that will get the images from the input data directory to train on them. We will also create a generator for the validation set.\n",
    "\n",
    "Applying Data Augmentation on the training set was taking too long to be executed and the initial results didn't show much improvement than the results without augmentation, so I commented the augmentation to make the training faster. However fell free to uncomment the Data Augmentation lines in the following cell and play a bit with it."
   ]
  },
  {
   "cell_type": "code",
   "execution_count": 11,
   "id": "9d5f8d41",
   "metadata": {
    "execution": {
     "iopub.execute_input": "2022-08-08T02:53:14.431648Z",
     "iopub.status.busy": "2022-08-08T02:53:14.430202Z",
     "iopub.status.idle": "2022-08-08T02:53:30.174691Z",
     "shell.execute_reply": "2022-08-08T02:53:30.173632Z"
    },
    "papermill": {
     "duration": 15.757127,
     "end_time": "2022-08-08T02:53:30.177314",
     "exception": false,
     "start_time": "2022-08-08T02:53:14.420187",
     "status": "completed"
    },
    "tags": []
   },
   "outputs": [
    {
     "name": "stdout",
     "output_type": "stream",
     "text": [
      "Found 12847 validated image filenames belonging to 10 classes.\n"
     ]
    }
   ],
   "source": [
    "batch_size=128\n",
    "\n",
    "train_datagen = image.ImageDataGenerator()\n",
    "\n",
    "train_generator = train_datagen.flow_from_dataframe(\n",
    "    train_df, \n",
    "    base_path, \n",
    "    x_col='filename',\n",
    "    y_col='category',\n",
    "    target_size=IMAGE_SIZE,\n",
    "    class_mode='categorical',\n",
    "    batch_size=batch_size\n",
    ")"
   ]
  },
  {
   "cell_type": "code",
   "execution_count": 12,
   "id": "178d2144",
   "metadata": {
    "execution": {
     "iopub.execute_input": "2022-08-08T02:53:30.198927Z",
     "iopub.status.busy": "2022-08-08T02:53:30.197503Z",
     "iopub.status.idle": "2022-08-08T02:53:32.061049Z",
     "shell.execute_reply": "2022-08-08T02:53:32.059632Z"
    },
    "papermill": {
     "duration": 1.87578,
     "end_time": "2022-08-08T02:53:32.063319",
     "exception": false,
     "start_time": "2022-08-08T02:53:30.187539",
     "status": "completed"
    },
    "tags": []
   },
   "outputs": [
    {
     "name": "stdout",
     "output_type": "stream",
     "text": [
      "Found 1606 validated image filenames belonging to 10 classes.\n"
     ]
    }
   ],
   "source": [
    "validation_datagen = image.ImageDataGenerator()\n",
    "\n",
    "validation_generator = validation_datagen.flow_from_dataframe(\n",
    "    validate_df, \n",
    "    base_path, \n",
    "    x_col='filename',\n",
    "    y_col='category',\n",
    "    target_size=IMAGE_SIZE,\n",
    "    class_mode='categorical',\n",
    "    batch_size=batch_size\n",
    ")"
   ]
  },
  {
   "cell_type": "code",
   "execution_count": 13,
   "id": "066ba289",
   "metadata": {
    "execution": {
     "iopub.execute_input": "2022-08-08T02:53:32.083629Z",
     "iopub.status.busy": "2022-08-08T02:53:32.083028Z",
     "iopub.status.idle": "2022-08-08T03:06:10.432365Z",
     "shell.execute_reply": "2022-08-08T03:06:10.431085Z"
    },
    "papermill": {
     "duration": 758.36229,
     "end_time": "2022-08-08T03:06:10.435086",
     "exception": false,
     "start_time": "2022-08-08T02:53:32.072796",
     "status": "completed"
    },
    "tags": []
   },
   "outputs": [
    {
     "name": "stderr",
     "output_type": "stream",
     "text": [
      "/opt/conda/lib/python3.7/site-packages/keras/engine/training.py:1972: UserWarning: `Model.fit_generator` is deprecated and will be removed in a future version. Please use `Model.fit`, which supports generators.\n",
      "  warnings.warn('`Model.fit_generator` is deprecated and '\n",
      "2022-08-08 02:53:33.154852: I tensorflow/compiler/mlir/mlir_graph_optimization_pass.cc:185] None of the MLIR Optimization Passes are enabled (registered 2)\n"
     ]
    },
    {
     "name": "stdout",
     "output_type": "stream",
     "text": [
      "Epoch 1/100\n"
     ]
    },
    {
     "name": "stderr",
     "output_type": "stream",
     "text": [
      "2022-08-08 02:53:35.871733: I tensorflow/stream_executor/cuda/cuda_dnn.cc:369] Loaded cuDNN version 8005\n"
     ]
    },
    {
     "name": "stdout",
     "output_type": "stream",
     "text": [
      "100/100 [==============================] - 132s 1s/step - loss: 1.1513 - categorical_accuracy: 0.6398 - val_loss: 1.0628 - val_categorical_accuracy: 0.7337\n",
      "Epoch 2/100\n",
      "100/100 [==============================] - 62s 617ms/step - loss: 1.0102 - categorical_accuracy: 0.8259 - val_loss: 0.9761 - val_categorical_accuracy: 0.8906\n",
      "Epoch 3/100\n",
      "100/100 [==============================] - 62s 615ms/step - loss: 0.9601 - categorical_accuracy: 0.9178 - val_loss: 0.9582 - val_categorical_accuracy: 0.9076\n",
      "Epoch 4/100\n",
      "100/100 [==============================] - 63s 625ms/step - loss: 0.9480 - categorical_accuracy: 0.9380 - val_loss: 0.9495 - val_categorical_accuracy: 0.9310\n",
      "Epoch 5/100\n",
      "100/100 [==============================] - 62s 616ms/step - loss: 0.9438 - categorical_accuracy: 0.9423 - val_loss: 0.9492 - val_categorical_accuracy: 0.9251\n",
      "Epoch 6/100\n",
      "100/100 [==============================] - 62s 614ms/step - loss: 0.9419 - categorical_accuracy: 0.9461 - val_loss: 0.9488 - val_categorical_accuracy: 0.9245\n",
      "Epoch 7/100\n",
      "100/100 [==============================] - 61s 610ms/step - loss: 0.9415 - categorical_accuracy: 0.9461 - val_loss: 0.9478 - val_categorical_accuracy: 0.9277\n",
      "Epoch 8/100\n",
      "100/100 [==============================] - 62s 618ms/step - loss: 0.9408 - categorical_accuracy: 0.9482 - val_loss: 0.9477 - val_categorical_accuracy: 0.9264\n",
      "Epoch 9/100\n",
      "100/100 [==============================] - 61s 613ms/step - loss: 0.9411 - categorical_accuracy: 0.9454 - val_loss: 0.9482 - val_categorical_accuracy: 0.9284\n",
      "Restoring model weights from the end of the best epoch.\n",
      "Epoch 00009: early stopping\n"
     ]
    }
   ],
   "source": [
    "EPOCHS = 100\n",
    "history = model.fit_generator(\n",
    "    train_generator, \n",
    "    epochs=EPOCHS,\n",
    "    validation_data=validation_generator,\n",
    "    validation_steps=total_validate//batch_size,\n",
    "    steps_per_epoch=total_train//batch_size,\n",
    "    callbacks=callbacks\n",
    ")"
   ]
  },
  {
   "cell_type": "code",
   "execution_count": 14,
   "id": "8015034e",
   "metadata": {
    "execution": {
     "iopub.execute_input": "2022-08-08T03:06:10.550651Z",
     "iopub.status.busy": "2022-08-08T03:06:10.550344Z",
     "iopub.status.idle": "2022-08-08T03:06:10.647999Z",
     "shell.execute_reply": "2022-08-08T03:06:10.647013Z"
    },
    "papermill": {
     "duration": 0.157556,
     "end_time": "2022-08-08T03:06:10.650555",
     "exception": false,
     "start_time": "2022-08-08T03:06:10.492999",
     "status": "completed"
    },
    "tags": []
   },
   "outputs": [],
   "source": [
    "model.save_weights(\"model86.h5\")"
   ]
  },
  {
   "cell_type": "code",
   "execution_count": 15,
   "id": "ae1dd8c0",
   "metadata": {
    "execution": {
     "iopub.execute_input": "2022-08-08T03:06:10.763788Z",
     "iopub.status.busy": "2022-08-08T03:06:10.763450Z",
     "iopub.status.idle": "2022-08-08T03:06:10.890502Z",
     "shell.execute_reply": "2022-08-08T03:06:10.889519Z"
    },
    "papermill": {
     "duration": 0.185812,
     "end_time": "2022-08-08T03:06:10.892941",
     "exception": false,
     "start_time": "2022-08-08T03:06:10.707129",
     "status": "completed"
    },
    "tags": []
   },
   "outputs": [],
   "source": [
    "model.save(\"model7200.h5\")"
   ]
  },
  {
   "cell_type": "markdown",
   "id": "b75c8e2c",
   "metadata": {
    "papermill": {
     "duration": 0.055256,
     "end_time": "2022-08-08T03:06:11.005183",
     "exception": false,
     "start_time": "2022-08-08T03:06:10.949927",
     "status": "completed"
    },
    "tags": []
   },
   "source": [
    "# Visualize the training process\n"
   ]
  },
  {
   "cell_type": "code",
   "execution_count": 16,
   "id": "0a69a701",
   "metadata": {
    "execution": {
     "iopub.execute_input": "2022-08-08T03:06:11.117828Z",
     "iopub.status.busy": "2022-08-08T03:06:11.117446Z",
     "iopub.status.idle": "2022-08-08T03:06:11.464524Z",
     "shell.execute_reply": "2022-08-08T03:06:11.463588Z"
    },
    "papermill": {
     "duration": 0.40532,
     "end_time": "2022-08-08T03:06:11.466617",
     "exception": false,
     "start_time": "2022-08-08T03:06:11.061297",
     "status": "completed"
    },
    "tags": []
   },
   "outputs": [
    {
     "data": {
      "image/png": "[encoded data removed]",
      "text/plain": [
       "<Figure size 432x288 with 2 Axes>"
      ]
     },
     "metadata": {
      "needs_background": "light"
     },
     "output_type": "display_data"
    }
   ],
   "source": [
    "fig, (ax1, ax2) = plt.subplots(2, 1)\n",
    "ax1.plot(history.history['loss'], color='blue', label=\"Training loss\")\n",
    "ax1.plot(history.history['val_loss'], color='red', label=\"Validation loss\")\n",
    "ax1.set_yticks(np.arange(0, 0.7, 0.1))\n",
    "ax1.legend()\n",
    "\n",
    "ax2.plot(history.history['categorical_accuracy'], color='b', label=\"Training accuracy\")\n",
    "ax2.plot(history.history['val_categorical_accuracy'], color='r',label=\"Validation accuracy\")\n",
    "ax2.legend()\n",
    "\n",
    "legend = plt.legend(loc='best')\n",
    "plt.tight_layout()\n",
    "plt.show()"
   ]
  },
  {
   "cell_type": "markdown",
   "id": "83090197",
   "metadata": {
    "papermill": {
     "duration": 0.055928,
     "end_time": "2022-08-08T03:06:11.580650",
     "exception": false,
     "start_time": "2022-08-08T03:06:11.524722",
     "status": "completed"
    },
    "tags": []
   },
   "source": [
    "# Evaluate the test"
   ]
  },
  {
   "cell_type": "markdown",
   "id": "d16beadb",
   "metadata": {
    "papermill": {
     "duration": 0.055206,
     "end_time": "2022-08-08T03:06:11.690641",
     "exception": false,
     "start_time": "2022-08-08T03:06:11.635435",
     "status": "completed"
    },
    "tags": []
   },
   "source": [
    "To evaluate the performance of our model we will create a test generator to load the images from the input data directory and evaluate the results."
   ]
  },
  {
   "cell_type": "code",
   "execution_count": 17,
   "id": "5c15a19d",
   "metadata": {
    "execution": {
     "iopub.execute_input": "2022-08-08T03:06:11.803261Z",
     "iopub.status.busy": "2022-08-08T03:06:11.802936Z",
     "iopub.status.idle": "2022-08-08T03:06:13.879630Z",
     "shell.execute_reply": "2022-08-08T03:06:13.878270Z"
    },
    "papermill": {
     "duration": 2.135698,
     "end_time": "2022-08-08T03:06:13.881990",
     "exception": false,
     "start_time": "2022-08-08T03:06:11.746292",
     "status": "completed"
    },
    "tags": []
   },
   "outputs": [
    {
     "name": "stdout",
     "output_type": "stream",
     "text": [
      "Found 1606 validated image filenames belonging to 10 classes.\n"
     ]
    }
   ],
   "source": [
    "test_datagen = image.ImageDataGenerator()\n",
    "\n",
    "test_generator = test_datagen.flow_from_dataframe(\n",
    "    dataframe= test_df,\n",
    "    directory=base_path,\n",
    "    x_col='filename',\n",
    "    y_col='category',\n",
    "    target_size=IMAGE_SIZE,\n",
    "    color_mode=\"rgb\",\n",
    "    class_mode=\"categorical\",\n",
    "    batch_size=1,\n",
    "    shuffle=False \n",
    ")"
   ]
  },
  {
   "cell_type": "code",
   "execution_count": 18,
   "id": "d38230a7",
   "metadata": {
    "execution": {
     "iopub.execute_input": "2022-08-08T03:06:13.996646Z",
     "iopub.status.busy": "2022-08-08T03:06:13.996312Z",
     "iopub.status.idle": "2022-08-08T03:06:26.638410Z",
     "shell.execute_reply": "2022-08-08T03:06:26.637321Z"
    },
    "papermill": {
     "duration": 12.702639,
     "end_time": "2022-08-08T03:06:26.641162",
     "exception": false,
     "start_time": "2022-08-08T03:06:13.938523",
     "status": "completed"
    },
    "tags": []
   },
   "outputs": [
    {
     "name": "stderr",
     "output_type": "stream",
     "text": [
      "/opt/conda/lib/python3.7/site-packages/keras/engine/training.py:2006: UserWarning: `Model.evaluate_generator` is deprecated and will be removed in a future version. Please use `Model.evaluate`, which supports generators.\n",
      "  warnings.warn('`Model.evaluate_generator` is deprecated and '\n"
     ]
    },
    {
     "name": "stdout",
     "output_type": "stream",
     "text": [
      "Accuracy on test set =  92.53 % \n"
     ]
    }
   ],
   "source": [
    "filenames = test_generator.filenames\n",
    "nb_samples = len(filenames)\n",
    "\n",
    "_, accuracy = model.evaluate_generator(test_generator, nb_samples)\n",
    "\n",
    "print('Accuracy on test set = ',  round((accuracy * 100),2 ), '% ') "
   ]
  },
  {
   "cell_type": "code",
   "execution_count": 19,
   "id": "518ebb45",
   "metadata": {
    "execution": {
     "iopub.execute_input": "2022-08-08T03:06:26.755275Z",
     "iopub.status.busy": "2022-08-08T03:06:26.754966Z",
     "iopub.status.idle": "2022-08-08T03:06:26.760766Z",
     "shell.execute_reply": "2022-08-08T03:06:26.759701Z"
    },
    "papermill": {
     "duration": 0.0658,
     "end_time": "2022-08-08T03:06:26.764715",
     "exception": false,
     "start_time": "2022-08-08T03:06:26.698915",
     "status": "completed"
    },
    "tags": []
   },
   "outputs": [
    {
     "name": "stdout",
     "output_type": "stream",
     "text": [
      "{0: 'battery', 1: 'cardboard', 2: 'clothes', 3: 'food', 4: 'glass', 5: 'medical', 6: 'metal', 7: 'paper', 8: 'plastic', 9: 'shoes'}\n"
     ]
    }
   ],
   "source": [
    "# We defined at the beginning of this notebook a dictionary that maps the categories number to names, but the train generator\n",
    "# generated it's own dictionary and it has assigned different numbers to our categories and the predictions made by the model \n",
    "# will be made using the genrator's dictionary.\n",
    "\n",
    "gen_label_map = test_generator.class_indices\n",
    "gen_label_map = dict((v,k) for k,v in gen_label_map.items())\n",
    "print(gen_label_map)"
   ]
  },
  {
   "cell_type": "code",
   "execution_count": 20,
   "id": "944f9219",
   "metadata": {
    "execution": {
     "iopub.execute_input": "2022-08-08T03:06:26.881192Z",
     "iopub.status.busy": "2022-08-08T03:06:26.880221Z",
     "iopub.status.idle": "2022-08-08T03:06:34.700937Z",
     "shell.execute_reply": "2022-08-08T03:06:34.699914Z"
    },
    "papermill": {
     "duration": 7.881362,
     "end_time": "2022-08-08T03:06:34.703162",
     "exception": false,
     "start_time": "2022-08-08T03:06:26.821800",
     "status": "completed"
    },
    "tags": []
   },
   "outputs": [
    {
     "name": "stderr",
     "output_type": "stream",
     "text": [
      "/opt/conda/lib/python3.7/site-packages/keras/engine/training.py:2035: UserWarning: `Model.predict_generator` is deprecated and will be removed in a future version. Please use `Model.predict`, which supports generators.\n",
      "  warnings.warn('`Model.predict_generator` is deprecated and '\n"
     ]
    },
    {
     "name": "stdout",
     "output_type": "stream",
     "text": [
      "              precision    recall  f1-score   support\n",
      "\n",
      "     battery       0.95      0.91      0.93       100\n",
      "   cardboard       0.97      0.89      0.93        80\n",
      "     clothes       0.98      0.99      0.98       538\n",
      "        food       0.90      0.98      0.94        93\n",
      "       glass       0.92      0.89      0.90       290\n",
      "     medical       0.90      0.86      0.88        74\n",
      "       metal       0.66      0.86      0.74        63\n",
      "       paper       0.90      0.92      0.91        96\n",
      "     plastic       0.83      0.68      0.74        80\n",
      "       shoes       0.93      0.96      0.95       192\n",
      "\n",
      "    accuracy                           0.93      1606\n",
      "   macro avg       0.89      0.89      0.89      1606\n",
      "weighted avg       0.93      0.93      0.93      1606\n",
      "\n"
     ]
    }
   ],
   "source": [
    "# get the model's predictions for the test set\n",
    "preds = model.predict_generator(test_generator, nb_samples)\n",
    "\n",
    "# Get the category with the highest predicted probability, the prediction is only the category's number and not name\n",
    "preds = preds.argmax(1)\n",
    "\n",
    "# Convert the predicted category's number to name \n",
    "preds = [gen_label_map[item] for item in preds]\n",
    "\n",
    "# Convert the pandas dataframe to a numpy matrix\n",
    "labels = test_df['category'].to_numpy()\n",
    "\n",
    "print(classification_report(labels, preds))"
   ]
  },
  {
   "cell_type": "code",
   "execution_count": null,
   "id": "3c6fa090",
   "metadata": {
    "papermill": {
     "duration": 0.055773,
     "end_time": "2022-08-08T03:06:34.817019",
     "exception": false,
     "start_time": "2022-08-08T03:06:34.761246",
     "status": "completed"
    },
    "tags": []
   },
   "outputs": [],
   "source": []
  }
 ],
 "metadata": {
  "kernelspec": {
   "display_name": "Python 3",
   "language": "python",
   "name": "python3"
  },
  "language_info": {
   "codemirror_mode": {
    "name": "ipython",
    "version": 3
   },
   "file_extension": ".py",
   "mimetype": "text/x-python",
   "name": "python",
   "nbconvert_exporter": "python",
   "pygments_lexer": "ipython3",
   "version": "3.7.12"
  },
  "papermill": {
   "default_parameters": {},
   "duration": 825.672269,
   "end_time": "2022-08-08T03:06:37.836917",
   "environment_variables": {},
   "exception": null,
   "input_path": "__notebook__.ipynb",
   "output_path": "__notebook__.ipynb",
   "parameters": {},
   "start_time": "2022-08-08T02:52:52.164648",
   "version": "2.3.4"
  }
 },
 "nbformat": 4,
 "nbformat_minor": 5
}
