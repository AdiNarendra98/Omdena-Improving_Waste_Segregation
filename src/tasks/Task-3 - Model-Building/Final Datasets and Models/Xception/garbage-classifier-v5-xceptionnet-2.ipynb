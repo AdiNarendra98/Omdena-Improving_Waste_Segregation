{
 "cells": [
  {
   "cell_type": "markdown",
   "id": "e3fd6f14",
   "metadata": {
    "_cell_guid": "b1076dfc-b9ad-4769-8c92-a6c4dae69d19",
    "_uuid": "8f2839f25d086af736a60e9eeb907d3b93b6e0e5",
    "papermill": {
     "duration": 0.008904,
     "end_time": "2022-08-08T14:49:04.123375",
     "exception": false,
     "start_time": "2022-08-08T14:49:04.114471",
     "status": "completed"
    },
    "tags": []
   },
   "source": [
    "# Garbage Classification using Xception"
   ]
  },
  {
   "cell_type": "markdown",
   "id": "836e0866",
   "metadata": {
    "papermill": {
     "duration": 0.007434,
     "end_time": "2022-08-08T14:49:04.138317",
     "exception": false,
     "start_time": "2022-08-08T14:49:04.130883",
     "status": "completed"
    },
    "tags": []
   },
   "source": [
    "# Import Required Libraries"
   ]
  },
  {
   "cell_type": "code",
   "execution_count": 1,
   "id": "f8575dac",
   "metadata": {
    "execution": {
     "iopub.execute_input": "2022-08-08T14:49:04.155018Z",
     "iopub.status.busy": "2022-08-08T14:49:04.154295Z",
     "iopub.status.idle": "2022-08-08T14:49:10.462413Z",
     "shell.execute_reply": "2022-08-08T14:49:10.461387Z"
    },
    "papermill": {
     "duration": 6.319942,
     "end_time": "2022-08-08T14:49:10.465511",
     "exception": false,
     "start_time": "2022-08-08T14:49:04.145569",
     "status": "completed"
    },
    "tags": []
   },
   "outputs": [
    {
     "name": "stdout",
     "output_type": "stream",
     "text": [
      "setup successful!\n"
     ]
    }
   ],
   "source": [
    "import numpy as np\n",
    "import pandas as pd \n",
    "import random\n",
    "import os\n",
    "import matplotlib.pyplot as plt\n",
    "import seaborn as sns\n",
    "import keras.applications.xception as xception\n",
    "import zipfile\n",
    "import sys\n",
    "import time\n",
    "import tensorflow.keras as keras\n",
    "import tensorflow as tf\n",
    "import re\n",
    "\n",
    "from PIL import Image\n",
    "from keras.layers import Input, Conv2D, Dense, Flatten, MaxPooling2D, Input, GlobalAveragePooling2D\n",
    "from tensorflow.keras.layers.experimental.preprocessing import Normalization\n",
    "from keras.models import Model, Sequential\n",
    "from keras.preprocessing import image\n",
    "from tensorflow.keras.utils import to_categorical\n",
    "from keras.layers import Lambda\n",
    "from keras.callbacks import EarlyStopping\n",
    "from sklearn.model_selection import train_test_split\n",
    "from sklearn.metrics import classification_report\n",
    "\n",
    "print('setup successful!')"
   ]
  },
  {
   "cell_type": "markdown",
   "id": "45270e47",
   "metadata": {
    "papermill": {
     "duration": 0.006898,
     "end_time": "2022-08-08T14:49:10.480466",
     "exception": false,
     "start_time": "2022-08-08T14:49:10.473568",
     "status": "completed"
    },
    "tags": []
   },
   "source": [
    "# Define Constants"
   ]
  },
  {
   "cell_type": "code",
   "execution_count": 2,
   "id": "1e82389f",
   "metadata": {
    "execution": {
     "iopub.execute_input": "2022-08-08T14:49:10.495772Z",
     "iopub.status.busy": "2022-08-08T14:49:10.495274Z",
     "iopub.status.idle": "2022-08-08T14:49:10.501661Z",
     "shell.execute_reply": "2022-08-08T14:49:10.500742Z"
    },
    "papermill": {
     "duration": 0.020616,
     "end_time": "2022-08-08T14:49:10.507938",
     "exception": false,
     "start_time": "2022-08-08T14:49:10.487322",
     "status": "completed"
    },
    "tags": []
   },
   "outputs": [
    {
     "name": "stdout",
     "output_type": "stream",
     "text": [
      "defining constants successful!\n"
     ]
    }
   ],
   "source": [
    "# Increasing the image size didn't result in increasing the training accuracy\n",
    "IMAGE_WIDTH = 320    \n",
    "IMAGE_HEIGHT = 320\n",
    "IMAGE_SIZE=(IMAGE_WIDTH, IMAGE_HEIGHT)\n",
    "IMAGE_CHANNELS = 3\n",
    "\n",
    "\n",
    "# Path where our data is located\n",
    "base_path = \"../input/garbage-seg-10-v5/Garbage Seg 10 V5/\"\n",
    "\n",
    "# Dictionary to save our 12 classes\n",
    "categories = {0: 'paper', 1: 'cardboard', 2: 'plastic', 3: 'metal', 4: 'food', 5: 'battery',\n",
    "              6: 'shoes', 7: 'clothes', 8: 'glass',9: 'medical'}\n",
    "\n",
    "print('defining constants successful!')"
   ]
  },
  {
   "cell_type": "markdown",
   "id": "1e888631",
   "metadata": {
    "papermill": {
     "duration": 0.006501,
     "end_time": "2022-08-08T14:49:10.523288",
     "exception": false,
     "start_time": "2022-08-08T14:49:10.516787",
     "status": "completed"
    },
    "tags": []
   },
   "source": [
    "# Create DataFrame"
   ]
  },
  {
   "cell_type": "markdown",
   "id": "314f28ad",
   "metadata": {
    "papermill": {
     "duration": 0.006747,
     "end_time": "2022-08-08T14:49:10.537017",
     "exception": false,
     "start_time": "2022-08-08T14:49:10.530270",
     "status": "completed"
    },
    "tags": []
   },
   "source": [
    "We want to create a data frame that has in one column the filenames of all our images and in the other column the corresponding category. \n",
    "We Open the directories in the dataset one by one, save the filenames in the filenames_list and add the corresponding category in the categories_list"
   ]
  },
  {
   "cell_type": "code",
   "execution_count": 3,
   "id": "3269617b",
   "metadata": {
    "execution": {
     "iopub.execute_input": "2022-08-08T14:49:10.552119Z",
     "iopub.status.busy": "2022-08-08T14:49:10.551346Z",
     "iopub.status.idle": "2022-08-08T14:49:15.228906Z",
     "shell.execute_reply": "2022-08-08T14:49:15.227832Z"
    },
    "papermill": {
     "duration": 4.688885,
     "end_time": "2022-08-08T14:49:15.232729",
     "exception": false,
     "start_time": "2022-08-08T14:49:10.543844",
     "status": "completed"
    },
    "tags": []
   },
   "outputs": [
    {
     "name": "stdout",
     "output_type": "stream",
     "text": [
      "number of elements =  16059\n"
     ]
    }
   ],
   "source": [
    "# Add class name prefix to filename. So for example \"/paper104.jpg\" become \"paper/paper104.jpg\"\n",
    "def add_class_name_prefix(df, col_name):\n",
    "    df[col_name] = df[col_name].apply(lambda x: x[:re.search(\"\\d\",x).start()] + '/' + x)\n",
    "    return df\n",
    "\n",
    "# list conatining all the filenames in the dataset\n",
    "filenames_list = []\n",
    "# list to store the corresponding category, note that each folder of the dataset has one class of data\n",
    "categories_list = []\n",
    "\n",
    "for category in categories:\n",
    "    filenames = os.listdir(base_path + categories[category])\n",
    "    \n",
    "    filenames_list = filenames_list  +filenames\n",
    "    categories_list = categories_list + [category] * len(filenames)\n",
    "    \n",
    "df = pd.DataFrame({\n",
    "    'filename': filenames_list,\n",
    "    'category': categories_list\n",
    "})\n",
    "\n",
    "df = add_class_name_prefix(df, 'filename')\n",
    "\n",
    "# Shuffle the dataframe\n",
    "df = df.sample(frac=1).reset_index(drop=True)\n",
    "\n",
    "print('number of elements = ' , len(df))"
   ]
  },
  {
   "cell_type": "code",
   "execution_count": 4,
   "id": "2be547f4",
   "metadata": {
    "execution": {
     "iopub.execute_input": "2022-08-08T14:49:15.252453Z",
     "iopub.status.busy": "2022-08-08T14:49:15.251469Z",
     "iopub.status.idle": "2022-08-08T14:49:15.266867Z",
     "shell.execute_reply": "2022-08-08T14:49:15.265985Z"
    },
    "papermill": {
     "duration": 0.025276,
     "end_time": "2022-08-08T14:49:15.268910",
     "exception": false,
     "start_time": "2022-08-08T14:49:15.243634",
     "status": "completed"
    },
    "tags": []
   },
   "outputs": [
    {
     "data": {
      "text/html": [
       "<div>\n",
       "<style scoped>\n",
       "    .dataframe tbody tr th:only-of-type {\n",
       "        vertical-align: middle;\n",
       "    }\n",
       "\n",
       "    .dataframe tbody tr th {\n",
       "        vertical-align: top;\n",
       "    }\n",
       "\n",
       "    .dataframe thead th {\n",
       "        text-align: right;\n",
       "    }\n",
       "</style>\n",
       "<table border=\"1\" class=\"dataframe\">\n",
       "  <thead>\n",
       "    <tr style=\"text-align: right;\">\n",
       "      <th></th>\n",
       "      <th>filename</th>\n",
       "      <th>category</th>\n",
       "    </tr>\n",
       "  </thead>\n",
       "  <tbody>\n",
       "    <tr>\n",
       "      <th>0</th>\n",
       "      <td>food/food65.jpg</td>\n",
       "      <td>4</td>\n",
       "    </tr>\n",
       "    <tr>\n",
       "      <th>1</th>\n",
       "      <td>metal/metal207.jpg</td>\n",
       "      <td>3</td>\n",
       "    </tr>\n",
       "    <tr>\n",
       "      <th>2</th>\n",
       "      <td>clothes/clothes4222.jpg</td>\n",
       "      <td>7</td>\n",
       "    </tr>\n",
       "    <tr>\n",
       "      <th>3</th>\n",
       "      <td>shoes/shoes643.jpg</td>\n",
       "      <td>6</td>\n",
       "    </tr>\n",
       "    <tr>\n",
       "      <th>4</th>\n",
       "      <td>clothes/clothes4716.jpg</td>\n",
       "      <td>7</td>\n",
       "    </tr>\n",
       "    <tr>\n",
       "      <th>5</th>\n",
       "      <td>plastic/plastic302.jpg</td>\n",
       "      <td>2</td>\n",
       "    </tr>\n",
       "    <tr>\n",
       "      <th>6</th>\n",
       "      <td>glass/glass2276.jpg</td>\n",
       "      <td>8</td>\n",
       "    </tr>\n",
       "    <tr>\n",
       "      <th>7</th>\n",
       "      <td>clothes/clothes2792.jpg</td>\n",
       "      <td>7</td>\n",
       "    </tr>\n",
       "    <tr>\n",
       "      <th>8</th>\n",
       "      <td>shoes/shoes1376.jpg</td>\n",
       "      <td>6</td>\n",
       "    </tr>\n",
       "    <tr>\n",
       "      <th>9</th>\n",
       "      <td>clothes/clothes3732.jpg</td>\n",
       "      <td>7</td>\n",
       "    </tr>\n",
       "  </tbody>\n",
       "</table>\n",
       "</div>"
      ],
      "text/plain": [
       "                  filename  category\n",
       "0          food/food65.jpg         4\n",
       "1       metal/metal207.jpg         3\n",
       "2  clothes/clothes4222.jpg         7\n",
       "3       shoes/shoes643.jpg         6\n",
       "4  clothes/clothes4716.jpg         7\n",
       "5   plastic/plastic302.jpg         2\n",
       "6      glass/glass2276.jpg         8\n",
       "7  clothes/clothes2792.jpg         7\n",
       "8      shoes/shoes1376.jpg         6\n",
       "9  clothes/clothes3732.jpg         7"
      ]
     },
     "execution_count": 4,
     "metadata": {},
     "output_type": "execute_result"
    }
   ],
   "source": [
    "df.head(10)"
   ]
  },
  {
   "cell_type": "code",
   "execution_count": 5,
   "id": "49379716",
   "metadata": {
    "execution": {
     "iopub.execute_input": "2022-08-08T14:49:15.285112Z",
     "iopub.status.busy": "2022-08-08T14:49:15.283612Z",
     "iopub.status.idle": "2022-08-08T14:49:15.538191Z",
     "shell.execute_reply": "2022-08-08T14:49:15.537296Z"
    },
    "papermill": {
     "duration": 0.265289,
     "end_time": "2022-08-08T14:49:15.541213",
     "exception": false,
     "start_time": "2022-08-08T14:49:15.275924",
     "status": "completed"
    },
    "tags": []
   },
   "outputs": [
    {
     "name": "stdout",
     "output_type": "stream",
     "text": [
      "clothes/clothes2370.jpg\n"
     ]
    },
    {
     "data": {
      "text/plain": [
       "<matplotlib.image.AxesImage at 0x7f1b77a53c90>"
      ]
     },
     "execution_count": 5,
     "metadata": {},
     "output_type": "execute_result"
    },
    {
     "data": {
      "image/png": "[encoded data removed]",
      "text/plain": [
       "<Figure size 432x288 with 1 Axes>"
      ]
     },
     "metadata": {
      "needs_background": "light"
     },
     "output_type": "display_data"
    }
   ],
   "source": [
    "# see sample image, you can run the same cell again to get a different image\n",
    "random_row = random.randint(0, len(df)-1)\n",
    "sample = df.iloc[random_row]\n",
    "randomimage = image.load_img(base_path +sample['filename'])\n",
    "print(sample['filename'])\n",
    "plt.imshow(randomimage)"
   ]
  },
  {
   "cell_type": "markdown",
   "id": "cf34ae18",
   "metadata": {
    "papermill": {
     "duration": 0.009461,
     "end_time": "2022-08-08T14:49:15.560387",
     "exception": false,
     "start_time": "2022-08-08T14:49:15.550926",
     "status": "completed"
    },
    "tags": []
   },
   "source": [
    "# Viusalize the Categories Distribution"
   ]
  },
  {
   "cell_type": "code",
   "execution_count": 6,
   "id": "5fc6d08a",
   "metadata": {
    "execution": {
     "iopub.execute_input": "2022-08-08T14:49:15.580311Z",
     "iopub.status.busy": "2022-08-08T14:49:15.580008Z",
     "iopub.status.idle": "2022-08-08T14:49:15.804660Z",
     "shell.execute_reply": "2022-08-08T14:49:15.803783Z"
    },
    "papermill": {
     "duration": 0.237047,
     "end_time": "2022-08-08T14:49:15.806665",
     "exception": false,
     "start_time": "2022-08-08T14:49:15.569618",
     "status": "completed"
    },
    "tags": []
   },
   "outputs": [
    {
     "data": {
      "image/png": "[encoded data removed]",
      "text/plain": [
       "<Figure size 432x288 with 1 Axes>"
      ]
     },
     "metadata": {
      "needs_background": "light"
     },
     "output_type": "display_data"
    }
   ],
   "source": [
    "df_visualization = df.copy()\n",
    "# Change the catgegories from numbers to names\n",
    "df_visualization['category'] = df_visualization['category'].apply(lambda x:categories[x] )\n",
    "\n",
    "df_visualization['category'].value_counts().plot.bar(x = 'count', y = 'category' )\n",
    "plt.style.use('seaborn-pastel')\n",
    "\n",
    "\n",
    "plt.xlabel(\"Garbage Classes\", labelpad=14)\n",
    "plt.ylabel(\"Images Count\", labelpad=14)\n",
    "plt.title(\"Count of Images Per Class\", y=1.02);"
   ]
  },
  {
   "cell_type": "markdown",
   "id": "649e45c3",
   "metadata": {
    "papermill": {
     "duration": 0.009307,
     "end_time": "2022-08-08T14:49:15.825331",
     "exception": false,
     "start_time": "2022-08-08T14:49:15.816024",
     "status": "completed"
    },
    "tags": []
   },
   "source": [
    "# Create the model"
   ]
  },
  {
   "cell_type": "markdown",
   "id": "de0fa5f9",
   "metadata": {
    "papermill": {
     "duration": 0.00928,
     "end_time": "2022-08-08T14:49:15.843790",
     "exception": false,
     "start_time": "2022-08-08T14:49:15.834510",
     "status": "completed"
    },
    "tags": []
   },
   "source": [
    "The steps are:\n",
    "1. Create an xception model without the last layer and load the ImageNet pretrained weights\n",
    "2. Add a pre-processing layer\n",
    "3. Add a pooling layer followed by a softmax layer at the end"
   ]
  },
  {
   "cell_type": "code",
   "execution_count": 7,
   "id": "bef00920",
   "metadata": {
    "execution": {
     "iopub.execute_input": "2022-08-08T14:49:15.864141Z",
     "iopub.status.busy": "2022-08-08T14:49:15.863829Z",
     "iopub.status.idle": "2022-08-08T14:49:21.590158Z",
     "shell.execute_reply": "2022-08-08T14:49:21.588665Z"
    },
    "papermill": {
     "duration": 5.739723,
     "end_time": "2022-08-08T14:49:21.593034",
     "exception": false,
     "start_time": "2022-08-08T14:49:15.853311",
     "status": "completed"
    },
    "tags": []
   },
   "outputs": [
    {
     "name": "stderr",
     "output_type": "stream",
     "text": [
      "2022-08-08 14:49:15.961847: I tensorflow/stream_executor/cuda/cuda_gpu_executor.cc:937] successful NUMA node read from SysFS had negative value (-1), but there must be at least one NUMA node, so returning NUMA node zero\n",
      "2022-08-08 14:49:16.112326: I tensorflow/stream_executor/cuda/cuda_gpu_executor.cc:937] successful NUMA node read from SysFS had negative value (-1), but there must be at least one NUMA node, so returning NUMA node zero\n",
      "2022-08-08 14:49:16.113086: I tensorflow/stream_executor/cuda/cuda_gpu_executor.cc:937] successful NUMA node read from SysFS had negative value (-1), but there must be at least one NUMA node, so returning NUMA node zero\n",
      "2022-08-08 14:49:16.114336: I tensorflow/core/platform/cpu_feature_guard.cc:142] This TensorFlow binary is optimized with oneAPI Deep Neural Network Library (oneDNN) to use the following CPU instructions in performance-critical operations:  AVX2 AVX512F FMA\n",
      "To enable them in other operations, rebuild TensorFlow with the appropriate compiler flags.\n",
      "2022-08-08 14:49:16.114728: I tensorflow/stream_executor/cuda/cuda_gpu_executor.cc:937] successful NUMA node read from SysFS had negative value (-1), but there must be at least one NUMA node, so returning NUMA node zero\n",
      "2022-08-08 14:49:16.115451: I tensorflow/stream_executor/cuda/cuda_gpu_executor.cc:937] successful NUMA node read from SysFS had negative value (-1), but there must be at least one NUMA node, so returning NUMA node zero\n",
      "2022-08-08 14:49:16.116134: I tensorflow/stream_executor/cuda/cuda_gpu_executor.cc:937] successful NUMA node read from SysFS had negative value (-1), but there must be at least one NUMA node, so returning NUMA node zero\n",
      "2022-08-08 14:49:18.446069: I tensorflow/stream_executor/cuda/cuda_gpu_executor.cc:937] successful NUMA node read from SysFS had negative value (-1), but there must be at least one NUMA node, so returning NUMA node zero\n",
      "2022-08-08 14:49:18.446950: I tensorflow/stream_executor/cuda/cuda_gpu_executor.cc:937] successful NUMA node read from SysFS had negative value (-1), but there must be at least one NUMA node, so returning NUMA node zero\n",
      "2022-08-08 14:49:18.447676: I tensorflow/stream_executor/cuda/cuda_gpu_executor.cc:937] successful NUMA node read from SysFS had negative value (-1), but there must be at least one NUMA node, so returning NUMA node zero\n",
      "2022-08-08 14:49:18.448289: I tensorflow/core/common_runtime/gpu/gpu_device.cc:1510] Created device /job:localhost/replica:0/task:0/device:GPU:0 with 15403 MB memory:  -> device: 0, name: Tesla P100-PCIE-16GB, pci bus id: 0000:00:04.0, compute capability: 6.0\n"
     ]
    },
    {
     "name": "stdout",
     "output_type": "stream",
     "text": [
      "Model: \"sequential\"\n",
      "_________________________________________________________________\n",
      "Layer (type)                 Output Shape              Param #   \n",
      "=================================================================\n",
      "lambda (Lambda)              (None, 320, 320, 3)       0         \n",
      "_________________________________________________________________\n",
      "xception (Functional)        (None, 10, 10, 2048)      20861480  \n",
      "_________________________________________________________________\n",
      "global_average_pooling2d (Gl (None, 2048)              0         \n",
      "_________________________________________________________________\n",
      "dense (Dense)                (None, 10)                20490     \n",
      "=================================================================\n",
      "Total params: 20,881,970\n",
      "Trainable params: 20,490\n",
      "Non-trainable params: 20,861,480\n",
      "_________________________________________________________________\n"
     ]
    }
   ],
   "source": [
    "from keras.models import Sequential\n",
    "from keras.layers import Conv2D, MaxPooling2D, Dropout, Flatten, Dense, Activation, BatchNormalization\n",
    "import keras.applications.xception as xception\n",
    "\n",
    "xception_layer = xception.Xception(include_top = False, input_shape = (IMAGE_WIDTH, IMAGE_HEIGHT,IMAGE_CHANNELS),\n",
    "                       weights = '../input/xception/xception_weights_tf_dim_ordering_tf_kernels_notop.h5')\n",
    "\n",
    "# We don't want to train the imported weights\n",
    "xception_layer.trainable = False\n",
    "\n",
    "\n",
    "model = Sequential()\n",
    "model.add(keras.Input(shape=(IMAGE_WIDTH, IMAGE_HEIGHT, IMAGE_CHANNELS)))\n",
    "\n",
    "#create a custom layer to apply the preprocessing\n",
    "def xception_preprocessing(img):\n",
    "  return xception.preprocess_input(img)\n",
    "\n",
    "model.add(Lambda(xception_preprocessing))\n",
    "\n",
    "model.add(xception_layer)\n",
    "model.add(tf.keras.layers.GlobalAveragePooling2D())\n",
    "model.add(Dense(len(categories), activation='softmax')) \n",
    "\n",
    "model.compile(loss='categorical_crossentropy', optimizer='adam', metrics=['categorical_accuracy'])\n",
    "\n",
    "model.summary()"
   ]
  },
  {
   "cell_type": "markdown",
   "id": "13135701",
   "metadata": {
    "papermill": {
     "duration": 0.010869,
     "end_time": "2022-08-08T14:49:21.614405",
     "exception": false,
     "start_time": "2022-08-08T14:49:21.603536",
     "status": "completed"
    },
    "tags": []
   },
   "source": [
    "We will use the EarlyStopping call back to stop our training if the validation_accuray is not improving for a certain number of epochs."
   ]
  },
  {
   "cell_type": "code",
   "execution_count": 8,
   "id": "68f748b1",
   "metadata": {
    "execution": {
     "iopub.execute_input": "2022-08-08T14:49:21.635224Z",
     "iopub.status.busy": "2022-08-08T14:49:21.634924Z",
     "iopub.status.idle": "2022-08-08T14:49:21.640482Z",
     "shell.execute_reply": "2022-08-08T14:49:21.639386Z"
    },
    "papermill": {
     "duration": 0.019155,
     "end_time": "2022-08-08T14:49:21.643579",
     "exception": false,
     "start_time": "2022-08-08T14:49:21.624424",
     "status": "completed"
    },
    "tags": []
   },
   "outputs": [
    {
     "name": "stdout",
     "output_type": "stream",
     "text": [
      "Call Back Defined!\n"
     ]
    }
   ],
   "source": [
    "early_stop = EarlyStopping(patience = 5, verbose = 1, monitor='val_categorical_accuracy' , mode='max', min_delta=0.001, restore_best_weights = True)\n",
    "\n",
    "callbacks = [early_stop]\n",
    "\n",
    "print('Call Back Defined!')"
   ]
  },
  {
   "cell_type": "markdown",
   "id": "de4edc93",
   "metadata": {
    "papermill": {
     "duration": 0.009383,
     "end_time": "2022-08-08T14:49:21.663197",
     "exception": false,
     "start_time": "2022-08-08T14:49:21.653814",
     "status": "completed"
    },
    "tags": []
   },
   "source": [
    "# Split the Data Set"
   ]
  },
  {
   "cell_type": "markdown",
   "id": "d31b0a3d",
   "metadata": {
    "papermill": {
     "duration": 0.009846,
     "end_time": "2022-08-08T14:49:21.682692",
     "exception": false,
     "start_time": "2022-08-08T14:49:21.672846",
     "status": "completed"
    },
    "tags": []
   },
   "source": [
    "We split the training set into three separate sets:\n",
    "\n",
    "1. **The training set:** used to train our model.\n",
    "1. **The validation set**: used to double check that our model is not overfitting the training set, i.e. it can also generalise to other data other than the train data\n",
    "1. **The Test set:** Used to estimate the accuracy of the model on new data other than the ones the model used for training\n",
    "For a competition  or for some other cases, you can split the data only to training and validation sets in order to achieve the highest  possible accuracy, without the need to properly estimate how accurate the model really is.\n",
    "\n",
    "We split the data set as follows: 80% train set, 10% cross_validation set, and 10% test set"
   ]
  },
  {
   "cell_type": "code",
   "execution_count": 9,
   "id": "6b50bcb2",
   "metadata": {
    "execution": {
     "iopub.execute_input": "2022-08-08T14:49:21.702910Z",
     "iopub.status.busy": "2022-08-08T14:49:21.702358Z",
     "iopub.status.idle": "2022-08-08T14:49:21.716821Z",
     "shell.execute_reply": "2022-08-08T14:49:21.715929Z"
    },
    "papermill": {
     "duration": 0.026702,
     "end_time": "2022-08-08T14:49:21.718796",
     "exception": false,
     "start_time": "2022-08-08T14:49:21.692094",
     "status": "completed"
    },
    "tags": []
   },
   "outputs": [
    {
     "name": "stdout",
     "output_type": "stream",
     "text": [
      "train size =  1606 validate size =  1606 test size =  1606\n"
     ]
    }
   ],
   "source": [
    "#Change the categories from numbers to names\n",
    "df[\"category\"] = df[\"category\"].replace(categories) \n",
    "\n",
    "# We first split the data into two sets and then split the validate_df to two sets\n",
    "train_df, validate_df = train_test_split(df, test_size=0.2, random_state=42)\n",
    "validate_df, test_df = train_test_split(validate_df, test_size=0.5, random_state=42)\n",
    "\n",
    "train_df = train_df.reset_index(drop=True)\n",
    "validate_df = validate_df.reset_index(drop=True)\n",
    "test_df = test_df.reset_index(drop=True)\n",
    "\n",
    "total_train = train_df.shape[0]\n",
    "total_validate = validate_df.shape[0]\n",
    "\n",
    "print('train size = ', total_validate , 'validate size = ', total_validate, 'test size = ', test_df.shape[0])"
   ]
  },
  {
   "cell_type": "code",
   "execution_count": 10,
   "id": "2d92111b",
   "metadata": {
    "execution": {
     "iopub.execute_input": "2022-08-08T14:49:21.739835Z",
     "iopub.status.busy": "2022-08-08T14:49:21.739071Z",
     "iopub.status.idle": "2022-08-08T14:49:21.749036Z",
     "shell.execute_reply": "2022-08-08T14:49:21.748057Z"
    },
    "papermill": {
     "duration": 0.022591,
     "end_time": "2022-08-08T14:49:21.751003",
     "exception": false,
     "start_time": "2022-08-08T14:49:21.728412",
     "status": "completed"
    },
    "tags": []
   },
   "outputs": [
    {
     "data": {
      "text/html": [
       "<div>\n",
       "<style scoped>\n",
       "    .dataframe tbody tr th:only-of-type {\n",
       "        vertical-align: middle;\n",
       "    }\n",
       "\n",
       "    .dataframe tbody tr th {\n",
       "        vertical-align: top;\n",
       "    }\n",
       "\n",
       "    .dataframe thead th {\n",
       "        text-align: right;\n",
       "    }\n",
       "</style>\n",
       "<table border=\"1\" class=\"dataframe\">\n",
       "  <thead>\n",
       "    <tr style=\"text-align: right;\">\n",
       "      <th></th>\n",
       "      <th>filename</th>\n",
       "      <th>category</th>\n",
       "    </tr>\n",
       "  </thead>\n",
       "  <tbody>\n",
       "    <tr>\n",
       "      <th>0</th>\n",
       "      <td>glass/glass1776.jpg</td>\n",
       "      <td>glass</td>\n",
       "    </tr>\n",
       "    <tr>\n",
       "      <th>1</th>\n",
       "      <td>glass/glass166.jpg</td>\n",
       "      <td>glass</td>\n",
       "    </tr>\n",
       "    <tr>\n",
       "      <th>2</th>\n",
       "      <td>food/food29.jpg</td>\n",
       "      <td>food</td>\n",
       "    </tr>\n",
       "    <tr>\n",
       "      <th>3</th>\n",
       "      <td>clothes/clothes5281.jpg</td>\n",
       "      <td>clothes</td>\n",
       "    </tr>\n",
       "    <tr>\n",
       "      <th>4</th>\n",
       "      <td>medical/medical517.jpg</td>\n",
       "      <td>medical</td>\n",
       "    </tr>\n",
       "    <tr>\n",
       "      <th>5</th>\n",
       "      <td>cardboard/cardboard388.jpg</td>\n",
       "      <td>cardboard</td>\n",
       "    </tr>\n",
       "    <tr>\n",
       "      <th>6</th>\n",
       "      <td>clothes/clothes3633.jpg</td>\n",
       "      <td>clothes</td>\n",
       "    </tr>\n",
       "    <tr>\n",
       "      <th>7</th>\n",
       "      <td>food/food182.jpg</td>\n",
       "      <td>food</td>\n",
       "    </tr>\n",
       "    <tr>\n",
       "      <th>8</th>\n",
       "      <td>shoes/shoes1942.jpg</td>\n",
       "      <td>shoes</td>\n",
       "    </tr>\n",
       "    <tr>\n",
       "      <th>9</th>\n",
       "      <td>glass/glass247.jpg</td>\n",
       "      <td>glass</td>\n",
       "    </tr>\n",
       "    <tr>\n",
       "      <th>10</th>\n",
       "      <td>glass/glass388.jpg</td>\n",
       "      <td>glass</td>\n",
       "    </tr>\n",
       "    <tr>\n",
       "      <th>11</th>\n",
       "      <td>clothes/clothes2530.jpg</td>\n",
       "      <td>clothes</td>\n",
       "    </tr>\n",
       "    <tr>\n",
       "      <th>12</th>\n",
       "      <td>battery/battery23.jpg</td>\n",
       "      <td>battery</td>\n",
       "    </tr>\n",
       "    <tr>\n",
       "      <th>13</th>\n",
       "      <td>food/food578.jpg</td>\n",
       "      <td>food</td>\n",
       "    </tr>\n",
       "    <tr>\n",
       "      <th>14</th>\n",
       "      <td>food/food755.jpg</td>\n",
       "      <td>food</td>\n",
       "    </tr>\n",
       "    <tr>\n",
       "      <th>15</th>\n",
       "      <td>glass/glass1800.jpg</td>\n",
       "      <td>glass</td>\n",
       "    </tr>\n",
       "    <tr>\n",
       "      <th>16</th>\n",
       "      <td>shoes/shoes1359.jpg</td>\n",
       "      <td>shoes</td>\n",
       "    </tr>\n",
       "    <tr>\n",
       "      <th>17</th>\n",
       "      <td>shoes/shoes356.jpg</td>\n",
       "      <td>shoes</td>\n",
       "    </tr>\n",
       "    <tr>\n",
       "      <th>18</th>\n",
       "      <td>clothes/clothes154.jpg</td>\n",
       "      <td>clothes</td>\n",
       "    </tr>\n",
       "    <tr>\n",
       "      <th>19</th>\n",
       "      <td>clothes/clothes5087.jpg</td>\n",
       "      <td>clothes</td>\n",
       "    </tr>\n",
       "  </tbody>\n",
       "</table>\n",
       "</div>"
      ],
      "text/plain": [
       "                      filename   category\n",
       "0          glass/glass1776.jpg      glass\n",
       "1           glass/glass166.jpg      glass\n",
       "2              food/food29.jpg       food\n",
       "3      clothes/clothes5281.jpg    clothes\n",
       "4       medical/medical517.jpg    medical\n",
       "5   cardboard/cardboard388.jpg  cardboard\n",
       "6      clothes/clothes3633.jpg    clothes\n",
       "7             food/food182.jpg       food\n",
       "8          shoes/shoes1942.jpg      shoes\n",
       "9           glass/glass247.jpg      glass\n",
       "10          glass/glass388.jpg      glass\n",
       "11     clothes/clothes2530.jpg    clothes\n",
       "12       battery/battery23.jpg    battery\n",
       "13            food/food578.jpg       food\n",
       "14            food/food755.jpg       food\n",
       "15         glass/glass1800.jpg      glass\n",
       "16         shoes/shoes1359.jpg      shoes\n",
       "17          shoes/shoes356.jpg      shoes\n",
       "18      clothes/clothes154.jpg    clothes\n",
       "19     clothes/clothes5087.jpg    clothes"
      ]
     },
     "execution_count": 10,
     "metadata": {},
     "output_type": "execute_result"
    }
   ],
   "source": [
    "train_df.head(20)"
   ]
  },
  {
   "cell_type": "markdown",
   "id": "2a43ed1f",
   "metadata": {
    "papermill": {
     "duration": 0.009844,
     "end_time": "2022-08-08T14:49:21.770554",
     "exception": false,
     "start_time": "2022-08-08T14:49:21.760710",
     "status": "completed"
    },
    "tags": []
   },
   "source": [
    "# Train the model"
   ]
  },
  {
   "cell_type": "markdown",
   "id": "24f0d29f",
   "metadata": {
    "papermill": {
     "duration": 0.009809,
     "end_time": "2022-08-08T14:49:21.790954",
     "exception": false,
     "start_time": "2022-08-08T14:49:21.781145",
     "status": "completed"
    },
    "tags": []
   },
   "source": [
    "We will first create the training data generator, that will get the images from the input data directory to train on them. We will also create a generator for the validation set.\n",
    "\n",
    "Applying Data Augmentation on the training set was taking too long to be executed and the initial results didn't show much improvement than the results without augmentation, so I commented the augmentation to make the training faster. However fell free to uncomment the Data Augmentation lines in the following cell and play a bit with it."
   ]
  },
  {
   "cell_type": "code",
   "execution_count": 11,
   "id": "fe444579",
   "metadata": {
    "execution": {
     "iopub.execute_input": "2022-08-08T14:49:21.813230Z",
     "iopub.status.busy": "2022-08-08T14:49:21.811722Z",
     "iopub.status.idle": "2022-08-08T14:49:41.323290Z",
     "shell.execute_reply": "2022-08-08T14:49:41.321927Z"
    },
    "papermill": {
     "duration": 19.524593,
     "end_time": "2022-08-08T14:49:41.325423",
     "exception": false,
     "start_time": "2022-08-08T14:49:21.800830",
     "status": "completed"
    },
    "tags": []
   },
   "outputs": [
    {
     "name": "stdout",
     "output_type": "stream",
     "text": [
      "Found 12847 validated image filenames belonging to 10 classes.\n"
     ]
    }
   ],
   "source": [
    "batch_size=128\n",
    "\n",
    "train_datagen = image.ImageDataGenerator(\n",
    "    \n",
    "    ###  Augmentation Start  ###\n",
    "    \n",
    "    #rotation_range=30,\n",
    "    #shear_range=0.1,\n",
    "    #zoom_range=0.3,\n",
    "    #horizontal_flip=True,\n",
    "    #vertical_flip = True,\n",
    "    #width_shift_range=0.2,\n",
    "    #height_shift_range=0.2\n",
    "    \n",
    "    ##  Augmentation End  ###\n",
    ")\n",
    "\n",
    "train_generator = train_datagen.flow_from_dataframe(\n",
    "    train_df, \n",
    "    base_path, \n",
    "    x_col='filename',\n",
    "    y_col='category',\n",
    "    target_size=IMAGE_SIZE,\n",
    "    class_mode='categorical',\n",
    "    batch_size=batch_size\n",
    ")"
   ]
  },
  {
   "cell_type": "code",
   "execution_count": 12,
   "id": "2959dd7f",
   "metadata": {
    "execution": {
     "iopub.execute_input": "2022-08-08T14:49:41.347908Z",
     "iopub.status.busy": "2022-08-08T14:49:41.347290Z",
     "iopub.status.idle": "2022-08-08T14:49:43.786346Z",
     "shell.execute_reply": "2022-08-08T14:49:43.784935Z"
    },
    "papermill": {
     "duration": 2.453222,
     "end_time": "2022-08-08T14:49:43.789244",
     "exception": false,
     "start_time": "2022-08-08T14:49:41.336022",
     "status": "completed"
    },
    "tags": []
   },
   "outputs": [
    {
     "name": "stdout",
     "output_type": "stream",
     "text": [
      "Found 1606 validated image filenames belonging to 10 classes.\n"
     ]
    }
   ],
   "source": [
    "validation_datagen = image.ImageDataGenerator()\n",
    "\n",
    "validation_generator = validation_datagen.flow_from_dataframe(\n",
    "    validate_df, \n",
    "    base_path, \n",
    "    x_col='filename',\n",
    "    y_col='category',\n",
    "    target_size=IMAGE_SIZE,\n",
    "    class_mode='categorical',\n",
    "    batch_size=batch_size\n",
    ")"
   ]
  },
  {
   "cell_type": "code",
   "execution_count": 13,
   "id": "309724b8",
   "metadata": {
    "execution": {
     "iopub.execute_input": "2022-08-08T14:49:43.812700Z",
     "iopub.status.busy": "2022-08-08T14:49:43.811201Z",
     "iopub.status.idle": "2022-08-08T15:15:43.511596Z",
     "shell.execute_reply": "2022-08-08T15:15:43.509930Z"
    },
    "papermill": {
     "duration": 1559.713881,
     "end_time": "2022-08-08T15:15:43.514089",
     "exception": false,
     "start_time": "2022-08-08T14:49:43.800208",
     "status": "completed"
    },
    "tags": []
   },
   "outputs": [
    {
     "name": "stderr",
     "output_type": "stream",
     "text": [
      "/opt/conda/lib/python3.7/site-packages/keras/engine/training.py:1972: UserWarning: `Model.fit_generator` is deprecated and will be removed in a future version. Please use `Model.fit`, which supports generators.\n",
      "  warnings.warn('`Model.fit_generator` is deprecated and '\n",
      "2022-08-08 14:49:45.142719: I tensorflow/compiler/mlir/mlir_graph_optimization_pass.cc:185] None of the MLIR Optimization Passes are enabled (registered 2)\n"
     ]
    },
    {
     "name": "stdout",
     "output_type": "stream",
     "text": [
      "Epoch 1/20\n"
     ]
    },
    {
     "name": "stderr",
     "output_type": "stream",
     "text": [
      "2022-08-08 14:49:49.743713: I tensorflow/stream_executor/cuda/cuda_dnn.cc:369] Loaded cuDNN version 8005\n"
     ]
    },
    {
     "name": "stdout",
     "output_type": "stream",
     "text": [
      "100/100 [==============================] - 157s 1s/step - loss: 0.6788 - categorical_accuracy: 0.8251 - val_loss: 0.3152 - val_categorical_accuracy: 0.9206\n",
      "Epoch 2/20\n",
      "100/100 [==============================] - 92s 913ms/step - loss: 0.2500 - categorical_accuracy: 0.9345 - val_loss: 0.2352 - val_categorical_accuracy: 0.9368\n",
      "Epoch 3/20\n",
      "100/100 [==============================] - 92s 916ms/step - loss: 0.1945 - categorical_accuracy: 0.9460 - val_loss: 0.2046 - val_categorical_accuracy: 0.9395\n",
      "Epoch 4/20\n",
      "100/100 [==============================] - 92s 922ms/step - loss: 0.1657 - categorical_accuracy: 0.9525 - val_loss: 0.1899 - val_categorical_accuracy: 0.9401\n",
      "Epoch 5/20\n",
      "100/100 [==============================] - 92s 918ms/step - loss: 0.1473 - categorical_accuracy: 0.9568 - val_loss: 0.1720 - val_categorical_accuracy: 0.9492\n",
      "Epoch 6/20\n",
      "100/100 [==============================] - 91s 911ms/step - loss: 0.1322 - categorical_accuracy: 0.9630 - val_loss: 0.1674 - val_categorical_accuracy: 0.9453\n",
      "Epoch 7/20\n",
      "100/100 [==============================] - 92s 912ms/step - loss: 0.1195 - categorical_accuracy: 0.9655 - val_loss: 0.1624 - val_categorical_accuracy: 0.9486\n",
      "Epoch 8/20\n",
      "100/100 [==============================] - 91s 906ms/step - loss: 0.1107 - categorical_accuracy: 0.9688 - val_loss: 0.1551 - val_categorical_accuracy: 0.9525\n",
      "Epoch 9/20\n",
      "100/100 [==============================] - 91s 911ms/step - loss: 0.1026 - categorical_accuracy: 0.9721 - val_loss: 0.1612 - val_categorical_accuracy: 0.9486\n",
      "Epoch 10/20\n",
      "100/100 [==============================] - 91s 908ms/step - loss: 0.0954 - categorical_accuracy: 0.9747 - val_loss: 0.1579 - val_categorical_accuracy: 0.9453\n",
      "Epoch 11/20\n",
      "100/100 [==============================] - 92s 917ms/step - loss: 0.0896 - categorical_accuracy: 0.9762 - val_loss: 0.1518 - val_categorical_accuracy: 0.9512\n",
      "Epoch 12/20\n",
      "100/100 [==============================] - 91s 911ms/step - loss: 0.0833 - categorical_accuracy: 0.9776 - val_loss: 0.1537 - val_categorical_accuracy: 0.9440\n",
      "Epoch 13/20\n",
      "100/100 [==============================] - 92s 911ms/step - loss: 0.0783 - categorical_accuracy: 0.9799 - val_loss: 0.1453 - val_categorical_accuracy: 0.9531\n",
      "Restoring model weights from the end of the best epoch.\n",
      "Epoch 00013: early stopping\n"
     ]
    }
   ],
   "source": [
    "EPOCHS = 20\n",
    "history = model.fit_generator(\n",
    "    train_generator, \n",
    "    epochs=EPOCHS,\n",
    "    validation_data=validation_generator,\n",
    "    validation_steps=total_validate//batch_size,\n",
    "    steps_per_epoch=total_train//batch_size,\n",
    "    callbacks=callbacks\n",
    ")"
   ]
  },
  {
   "cell_type": "code",
   "execution_count": 14,
   "id": "ac05290e",
   "metadata": {
    "execution": {
     "iopub.execute_input": "2022-08-08T15:15:43.704120Z",
     "iopub.status.busy": "2022-08-08T15:15:43.703665Z",
     "iopub.status.idle": "2022-08-08T15:15:43.947091Z",
     "shell.execute_reply": "2022-08-08T15:15:43.946021Z"
    },
    "papermill": {
     "duration": 0.354438,
     "end_time": "2022-08-08T15:15:43.949577",
     "exception": false,
     "start_time": "2022-08-08T15:15:43.595139",
     "status": "completed"
    },
    "tags": []
   },
   "outputs": [],
   "source": [
    "model.save_weights(\"model87.h5\")"
   ]
  },
  {
   "cell_type": "code",
   "execution_count": 15,
   "id": "687eccbe",
   "metadata": {
    "execution": {
     "iopub.execute_input": "2022-08-08T15:15:44.111520Z",
     "iopub.status.busy": "2022-08-08T15:15:44.110636Z",
     "iopub.status.idle": "2022-08-08T15:15:44.429557Z",
     "shell.execute_reply": "2022-08-08T15:15:44.428580Z"
    },
    "papermill": {
     "duration": 0.40187,
     "end_time": "2022-08-08T15:15:44.432038",
     "exception": false,
     "start_time": "2022-08-08T15:15:44.030168",
     "status": "completed"
    },
    "tags": []
   },
   "outputs": [
    {
     "name": "stderr",
     "output_type": "stream",
     "text": [
      "/opt/conda/lib/python3.7/site-packages/keras/utils/generic_utils.py:497: CustomMaskWarning: Custom mask layers require a config and must override get_config. When loading, the custom mask layer must be passed to the custom_objects argument.\n",
      "  category=CustomMaskWarning)\n"
     ]
    }
   ],
   "source": [
    "model.save(\"model814.h5\")"
   ]
  },
  {
   "cell_type": "markdown",
   "id": "bce9dae3",
   "metadata": {
    "papermill": {
     "duration": 0.078638,
     "end_time": "2022-08-08T15:15:44.592390",
     "exception": false,
     "start_time": "2022-08-08T15:15:44.513752",
     "status": "completed"
    },
    "tags": []
   },
   "source": [
    "# Visualize the training process\n"
   ]
  },
  {
   "cell_type": "code",
   "execution_count": 16,
   "id": "3f26e105",
   "metadata": {
    "execution": {
     "iopub.execute_input": "2022-08-08T15:15:44.753287Z",
     "iopub.status.busy": "2022-08-08T15:15:44.752951Z",
     "iopub.status.idle": "2022-08-08T15:15:45.077409Z",
     "shell.execute_reply": "2022-08-08T15:15:45.076518Z"
    },
    "papermill": {
     "duration": 0.407666,
     "end_time": "2022-08-08T15:15:45.079345",
     "exception": false,
     "start_time": "2022-08-08T15:15:44.671679",
     "status": "completed"
    },
    "tags": []
   },
   "outputs": [
    {
     "data": {
      "image/png": "[encoded data removed]",
      "text/plain": [
       "<Figure size 432x288 with 2 Axes>"
      ]
     },
     "metadata": {
      "needs_background": "light"
     },
     "output_type": "display_data"
    }
   ],
   "source": [
    "fig, (ax1, ax2) = plt.subplots(2, 1)\n",
    "ax1.plot(history.history['loss'], color='b', label=\"Training loss\")\n",
    "ax1.plot(history.history['val_loss'], color='r', label=\"validation loss\")\n",
    "ax1.set_yticks(np.arange(0, 0.7, 0.1))\n",
    "ax1.legend()\n",
    "\n",
    "ax2.plot(history.history['categorical_accuracy'], color='b', label=\"Training accuracy\")\n",
    "ax2.plot(history.history['val_categorical_accuracy'], color='r',label=\"Validation accuracy\")\n",
    "ax2.legend()\n",
    "\n",
    "legend = plt.legend(loc='best')\n",
    "plt.tight_layout()\n",
    "plt.show()"
   ]
  },
  {
   "cell_type": "markdown",
   "id": "02232dc7",
   "metadata": {
    "papermill": {
     "duration": 0.094159,
     "end_time": "2022-08-08T15:15:45.254748",
     "exception": false,
     "start_time": "2022-08-08T15:15:45.160589",
     "status": "completed"
    },
    "tags": []
   },
   "source": [
    "# Evaluate the test"
   ]
  },
  {
   "cell_type": "markdown",
   "id": "7672016e",
   "metadata": {
    "papermill": {
     "duration": 0.08295,
     "end_time": "2022-08-08T15:15:45.425124",
     "exception": false,
     "start_time": "2022-08-08T15:15:45.342174",
     "status": "completed"
    },
    "tags": []
   },
   "source": [
    "To evaluate the performance of our model we will create a test generator to load the images from the input data directory and evaluate the results."
   ]
  },
  {
   "cell_type": "code",
   "execution_count": 17,
   "id": "1924977e",
   "metadata": {
    "execution": {
     "iopub.execute_input": "2022-08-08T15:15:45.601495Z",
     "iopub.status.busy": "2022-08-08T15:15:45.601107Z",
     "iopub.status.idle": "2022-08-08T15:15:47.918875Z",
     "shell.execute_reply": "2022-08-08T15:15:47.917745Z"
    },
    "papermill": {
     "duration": 2.40894,
     "end_time": "2022-08-08T15:15:47.921050",
     "exception": false,
     "start_time": "2022-08-08T15:15:45.512110",
     "status": "completed"
    },
    "tags": []
   },
   "outputs": [
    {
     "name": "stdout",
     "output_type": "stream",
     "text": [
      "Found 1606 validated image filenames belonging to 10 classes.\n"
     ]
    }
   ],
   "source": [
    "test_datagen = image.ImageDataGenerator()\n",
    "\n",
    "test_generator = test_datagen.flow_from_dataframe(\n",
    "    dataframe= test_df,\n",
    "    directory=base_path,\n",
    "    x_col='filename',\n",
    "    y_col='category',\n",
    "    target_size=IMAGE_SIZE,\n",
    "    color_mode=\"rgb\",\n",
    "    class_mode=\"categorical\",\n",
    "    batch_size=1,\n",
    "    shuffle=False \n",
    ")"
   ]
  },
  {
   "cell_type": "code",
   "execution_count": 18,
   "id": "26cd8067",
   "metadata": {
    "execution": {
     "iopub.execute_input": "2022-08-08T15:15:48.084327Z",
     "iopub.status.busy": "2022-08-08T15:15:48.083654Z",
     "iopub.status.idle": "2022-08-08T15:16:08.438523Z",
     "shell.execute_reply": "2022-08-08T15:16:08.437285Z"
    },
    "papermill": {
     "duration": 20.438682,
     "end_time": "2022-08-08T15:16:08.441325",
     "exception": false,
     "start_time": "2022-08-08T15:15:48.002643",
     "status": "completed"
    },
    "tags": []
   },
   "outputs": [
    {
     "name": "stderr",
     "output_type": "stream",
     "text": [
      "/opt/conda/lib/python3.7/site-packages/keras/engine/training.py:2006: UserWarning: `Model.evaluate_generator` is deprecated and will be removed in a future version. Please use `Model.evaluate`, which supports generators.\n",
      "  warnings.warn('`Model.evaluate_generator` is deprecated and '\n"
     ]
    },
    {
     "name": "stdout",
     "output_type": "stream",
     "text": [
      "Accuracy on Test Set =  95.33 % \n"
     ]
    }
   ],
   "source": [
    "filenames = test_generator.filenames\n",
    "nb_samples = len(filenames)\n",
    "\n",
    "_, accuracy = model.evaluate_generator(test_generator, nb_samples)\n",
    "\n",
    "print('Accuracy on Test Set = ',  round((accuracy * 100),2 ), '% ') "
   ]
  },
  {
   "cell_type": "code",
   "execution_count": 19,
   "id": "2f411788",
   "metadata": {
    "execution": {
     "iopub.execute_input": "2022-08-08T15:16:08.605680Z",
     "iopub.status.busy": "2022-08-08T15:16:08.605081Z",
     "iopub.status.idle": "2022-08-08T15:16:08.611477Z",
     "shell.execute_reply": "2022-08-08T15:16:08.610541Z"
    },
    "papermill": {
     "duration": 0.090022,
     "end_time": "2022-08-08T15:16:08.613839",
     "exception": false,
     "start_time": "2022-08-08T15:16:08.523817",
     "status": "completed"
    },
    "tags": []
   },
   "outputs": [
    {
     "name": "stdout",
     "output_type": "stream",
     "text": [
      "{0: 'battery', 1: 'cardboard', 2: 'clothes', 3: 'food', 4: 'glass', 5: 'medical', 6: 'metal', 7: 'paper', 8: 'plastic', 9: 'shoes'}\n"
     ]
    }
   ],
   "source": [
    "# We defined at the beginning of this notebook a dictionary that maps the categories number to names, but the train generator\n",
    "# generated it's own dictionary and it has assigned different numbers to our categories and the predictions made by the model \n",
    "# will be made using the genrator's dictionary.\n",
    "\n",
    "gen_label_map = test_generator.class_indices\n",
    "gen_label_map = dict((v,k) for k,v in gen_label_map.items())\n",
    "print(gen_label_map)"
   ]
  },
  {
   "cell_type": "code",
   "execution_count": 20,
   "id": "95b60832",
   "metadata": {
    "execution": {
     "iopub.execute_input": "2022-08-08T15:16:08.775319Z",
     "iopub.status.busy": "2022-08-08T15:16:08.773646Z",
     "iopub.status.idle": "2022-08-08T15:16:24.620061Z",
     "shell.execute_reply": "2022-08-08T15:16:24.618659Z"
    },
    "papermill": {
     "duration": 15.928561,
     "end_time": "2022-08-08T15:16:24.622295",
     "exception": false,
     "start_time": "2022-08-08T15:16:08.693734",
     "status": "completed"
    },
    "tags": []
   },
   "outputs": [
    {
     "name": "stderr",
     "output_type": "stream",
     "text": [
      "/opt/conda/lib/python3.7/site-packages/keras/engine/training.py:2035: UserWarning: `Model.predict_generator` is deprecated and will be removed in a future version. Please use `Model.predict`, which supports generators.\n",
      "  warnings.warn('`Model.predict_generator` is deprecated and '\n"
     ]
    },
    {
     "name": "stdout",
     "output_type": "stream",
     "text": [
      "              precision    recall  f1-score   support\n",
      "\n",
      "     battery       0.98      0.97      0.98       110\n",
      "   cardboard       0.93      0.94      0.93        95\n",
      "     clothes       0.99      0.98      0.99       557\n",
      "        food       0.99      0.98      0.98        98\n",
      "       glass       0.95      0.94      0.94       237\n",
      "     medical       1.00      0.93      0.96        70\n",
      "       metal       0.80      0.93      0.86        73\n",
      "       paper       0.88      0.95      0.91        95\n",
      "     plastic       0.87      0.80      0.84       102\n",
      "       shoes       0.95      0.98      0.97       169\n",
      "\n",
      "    accuracy                           0.95      1606\n",
      "   macro avg       0.93      0.94      0.94      1606\n",
      "weighted avg       0.95      0.95      0.95      1606\n",
      "\n"
     ]
    }
   ],
   "source": [
    "# get the model's predictions for the test set\n",
    "preds = model.predict_generator(test_generator, nb_samples)\n",
    "\n",
    "# Get the category with the highest predicted probability, the prediction is only the category's number and not name\n",
    "preds = preds.argmax(1)\n",
    "\n",
    "# Convert the predicted category's number to name \n",
    "preds = [gen_label_map[item] for item in preds]\n",
    "\n",
    "# Convert the pandas dataframe to a numpy matrix\n",
    "labels = test_df['category'].to_numpy()\n",
    "\n",
    "print(classification_report(labels, preds))"
   ]
  },
  {
   "cell_type": "code",
   "execution_count": 21,
   "id": "19e181f6",
   "metadata": {
    "execution": {
     "iopub.execute_input": "2022-08-08T15:16:24.785983Z",
     "iopub.status.busy": "2022-08-08T15:16:24.785629Z",
     "iopub.status.idle": "2022-08-08T15:16:42.188227Z",
     "shell.execute_reply": "2022-08-08T15:16:42.186754Z"
    },
    "papermill": {
     "duration": 17.487316,
     "end_time": "2022-08-08T15:16:42.190817",
     "exception": false,
     "start_time": "2022-08-08T15:16:24.703501",
     "status": "completed"
    },
    "tags": []
   },
   "outputs": [
    {
     "name": "stdout",
     "output_type": "stream",
     "text": [
      "Collecting gradio\r\n",
      "  Downloading gradio-3.1.4-py3-none-any.whl (5.6 MB)\r\n",
      "\u001b[2K     \u001b[90m━━━━━━━━━━━━━━━━━━━━━━━━━━━━━━━━━━━━━━━━\u001b[0m \u001b[32m5.6/5.6 MB\u001b[0m \u001b[31m44.6 MB/s\u001b[0m eta \u001b[36m0:00:00\u001b[0m\r\n",
      "\u001b[?25hRequirement already satisfied: numpy in /opt/conda/lib/python3.7/site-packages (from gradio) (1.21.6)\r\n",
      "Requirement already satisfied: fastapi in /opt/conda/lib/python3.7/site-packages (from gradio) (0.79.0)\r\n",
      "Requirement already satisfied: matplotlib in /opt/conda/lib/python3.7/site-packages (from gradio) (3.5.2)\r\n",
      "Requirement already satisfied: pydub in /opt/conda/lib/python3.7/site-packages (from gradio) (0.25.1)\r\n",
      "Requirement already satisfied: orjson in /opt/conda/lib/python3.7/site-packages (from gradio) (3.7.5)\r\n",
      "Collecting analytics-python\r\n",
      "  Downloading analytics_python-1.4.0-py2.py3-none-any.whl (15 kB)\r\n",
      "Requirement already satisfied: aiohttp in /opt/conda/lib/python3.7/site-packages (from gradio) (3.8.1)\r\n",
      "Requirement already satisfied: pydantic in /opt/conda/lib/python3.7/site-packages (from gradio) (1.8.2)\r\n",
      "Collecting pycryptodome\r\n",
      "  Downloading pycryptodome-3.15.0-cp35-abi3-manylinux2010_x86_64.whl (2.3 MB)\r\n",
      "\u001b[2K     \u001b[90m━━━━━━━━━━━━━━━━━━━━━━━━━━━━━━━━━━━━━━━━\u001b[0m \u001b[32m2.3/2.3 MB\u001b[0m \u001b[31m70.7 MB/s\u001b[0m eta \u001b[36m0:00:00\u001b[0m\r\n",
      "\u001b[?25hCollecting paramiko\r\n",
      "  Downloading paramiko-2.11.0-py2.py3-none-any.whl (212 kB)\r\n",
      "\u001b[2K     \u001b[90m━━━━━━━━━━━━━━━━━━━━━━━━━━━━━━━━━━━━━━\u001b[0m \u001b[32m212.9/212.9 kB\u001b[0m \u001b[31m10.9 MB/s\u001b[0m eta \u001b[36m0:00:00\u001b[0m\r\n",
      "\u001b[?25hCollecting httpx\r\n",
      "  Downloading httpx-0.23.0-py3-none-any.whl (84 kB)\r\n",
      "\u001b[2K     \u001b[90m━━━━━━━━━━━━━━━━━━━━━━━━━━━━━━━━━━━━━━━━\u001b[0m \u001b[32m84.8/84.8 kB\u001b[0m \u001b[31m6.4 MB/s\u001b[0m eta \u001b[36m0:00:00\u001b[0m\r\n",
      "\u001b[?25hRequirement already satisfied: fsspec in /opt/conda/lib/python3.7/site-packages (from gradio) (2022.5.0)\r\n",
      "Collecting h11<0.13,>=0.11\r\n",
      "  Downloading h11-0.12.0-py3-none-any.whl (54 kB)\r\n",
      "\u001b[2K     \u001b[90m━━━━━━━━━━━━━━━━━━━━━━━━━━━━━━━━━━━━━━━━\u001b[0m \u001b[32m54.9/54.9 kB\u001b[0m \u001b[31m4.2 MB/s\u001b[0m eta \u001b[36m0:00:00\u001b[0m\r\n",
      "\u001b[?25hCollecting python-multipart\r\n",
      "  Downloading python-multipart-0.0.5.tar.gz (32 kB)\r\n",
      "  Preparing metadata (setup.py) ... \u001b[?25l-\b \bdone\r\n",
      "\u001b[?25hRequirement already satisfied: markdown-it-py[linkify,plugins] in /opt/conda/lib/python3.7/site-packages (from gradio) (2.1.0)\r\n",
      "Requirement already satisfied: pandas in /opt/conda/lib/python3.7/site-packages (from gradio) (1.3.5)\r\n",
      "Requirement already satisfied: Jinja2 in /opt/conda/lib/python3.7/site-packages (from gradio) (3.1.2)\r\n",
      "Collecting ffmpy\r\n",
      "  Downloading ffmpy-0.3.0.tar.gz (4.8 kB)\r\n",
      "  Preparing metadata (setup.py) ... \u001b[?25l-\b \bdone\r\n",
      "\u001b[?25hRequirement already satisfied: pillow in /opt/conda/lib/python3.7/site-packages (from gradio) (9.1.1)\r\n",
      "Requirement already satisfied: uvicorn in /opt/conda/lib/python3.7/site-packages (from gradio) (0.18.2)\r\n",
      "Requirement already satisfied: requests in /opt/conda/lib/python3.7/site-packages (from gradio) (2.28.1)\r\n",
      "Requirement already satisfied: attrs>=17.3.0 in /opt/conda/lib/python3.7/site-packages (from aiohttp->gradio) (21.4.0)\r\n",
      "Requirement already satisfied: asynctest==0.13.0 in /opt/conda/lib/python3.7/site-packages (from aiohttp->gradio) (0.13.0)\r\n",
      "Requirement already satisfied: multidict<7.0,>=4.5 in /opt/conda/lib/python3.7/site-packages (from aiohttp->gradio) (6.0.2)\r\n",
      "Requirement already satisfied: yarl<2.0,>=1.0 in /opt/conda/lib/python3.7/site-packages (from aiohttp->gradio) (1.7.2)\r\n",
      "Requirement already satisfied: typing-extensions>=3.7.4 in /opt/conda/lib/python3.7/site-packages (from aiohttp->gradio) (4.1.1)\r\n",
      "Requirement already satisfied: async-timeout<5.0,>=4.0.0a3 in /opt/conda/lib/python3.7/site-packages (from aiohttp->gradio) (4.0.2)\r\n",
      "Requirement already satisfied: aiosignal>=1.1.2 in /opt/conda/lib/python3.7/site-packages (from aiohttp->gradio) (1.2.0)\r\n",
      "Requirement already satisfied: frozenlist>=1.1.1 in /opt/conda/lib/python3.7/site-packages (from aiohttp->gradio) (1.3.0)\r\n",
      "Requirement already satisfied: charset-normalizer<3.0,>=2.0 in /opt/conda/lib/python3.7/site-packages (from aiohttp->gradio) (2.1.0)\r\n",
      "Collecting monotonic>=1.5\r\n",
      "  Downloading monotonic-1.6-py2.py3-none-any.whl (8.2 kB)\r\n",
      "Requirement already satisfied: six>=1.5 in /opt/conda/lib/python3.7/site-packages (from analytics-python->gradio) (1.16.0)\r\n",
      "Requirement already satisfied: python-dateutil>2.1 in /opt/conda/lib/python3.7/site-packages (from analytics-python->gradio) (2.8.2)\r\n",
      "Collecting backoff==1.10.0\r\n",
      "  Downloading backoff-1.10.0-py2.py3-none-any.whl (31 kB)\r\n",
      "Requirement already satisfied: idna<4,>=2.5 in /opt/conda/lib/python3.7/site-packages (from requests->gradio) (3.3)\r\n",
      "Requirement already satisfied: urllib3<1.27,>=1.21.1 in /opt/conda/lib/python3.7/site-packages (from requests->gradio) (1.26.9)\r\n",
      "Requirement already satisfied: certifi>=2017.4.17 in /opt/conda/lib/python3.7/site-packages (from requests->gradio) (2022.6.15)\r\n",
      "Requirement already satisfied: starlette==0.19.1 in /opt/conda/lib/python3.7/site-packages (from fastapi->gradio) (0.19.1)\r\n",
      "Requirement already satisfied: anyio<5,>=3.4.0 in /opt/conda/lib/python3.7/site-packages (from starlette==0.19.1->fastapi->gradio) (3.6.1)\r\n",
      "Requirement already satisfied: sniffio in /opt/conda/lib/python3.7/site-packages (from httpx->gradio) (1.2.0)\r\n",
      "Collecting rfc3986[idna2008]<2,>=1.3\r\n",
      "  Downloading rfc3986-1.5.0-py2.py3-none-any.whl (31 kB)\r\n",
      "Collecting httpcore<0.16.0,>=0.15.0\r\n",
      "  Downloading httpcore-0.15.0-py3-none-any.whl (68 kB)\r\n",
      "\u001b[2K     \u001b[90m━━━━━━━━━━━━━━━━━━━━━━━━━━━━━━━━━━━━━━━━\u001b[0m \u001b[32m68.4/68.4 kB\u001b[0m \u001b[31m6.2 MB/s\u001b[0m eta \u001b[36m0:00:00\u001b[0m\r\n",
      "\u001b[?25hRequirement already satisfied: MarkupSafe>=2.0 in /opt/conda/lib/python3.7/site-packages (from Jinja2->gradio) (2.0.1)\r\n",
      "Requirement already satisfied: mdurl~=0.1 in /opt/conda/lib/python3.7/site-packages (from markdown-it-py[linkify,plugins]->gradio) (0.1.0)\r\n",
      "Requirement already satisfied: mdit-py-plugins in /opt/conda/lib/python3.7/site-packages (from markdown-it-py[linkify,plugins]->gradio) (0.3.0)\r\n",
      "Collecting linkify-it-py~=1.0\r\n",
      "  Downloading linkify_it_py-1.0.3-py3-none-any.whl (19 kB)\r\n",
      "Requirement already satisfied: cycler>=0.10 in /opt/conda/lib/python3.7/site-packages (from matplotlib->gradio) (0.11.0)\r\n",
      "Requirement already satisfied: kiwisolver>=1.0.1 in /opt/conda/lib/python3.7/site-packages (from matplotlib->gradio) (1.4.3)\r\n",
      "Requirement already satisfied: fonttools>=4.22.0 in /opt/conda/lib/python3.7/site-packages (from matplotlib->gradio) (4.33.3)\r\n",
      "Requirement already satisfied: pyparsing>=2.2.1 in /opt/conda/lib/python3.7/site-packages (from matplotlib->gradio) (3.0.9)\r\n",
      "Requirement already satisfied: packaging>=20.0 in /opt/conda/lib/python3.7/site-packages (from matplotlib->gradio) (21.3)\r\n",
      "Requirement already satisfied: pytz>=2017.3 in /opt/conda/lib/python3.7/site-packages (from pandas->gradio) (2022.1)\r\n",
      "Requirement already satisfied: cryptography>=2.5 in /opt/conda/lib/python3.7/site-packages (from paramiko->gradio) (37.0.2)\r\n",
      "Collecting bcrypt>=3.1.3\r\n",
      "  Downloading bcrypt-3.2.2-cp36-abi3-manylinux_2_17_x86_64.manylinux2014_x86_64.manylinux_2_24_x86_64.whl (62 kB)\r\n",
      "\u001b[2K     \u001b[90m━━━━━━━━━━━━━━━━━━━━━━━━━━━━━━━━━━━━━━━━\u001b[0m \u001b[32m62.3/62.3 kB\u001b[0m \u001b[31m6.2 MB/s\u001b[0m eta \u001b[36m0:00:00\u001b[0m\r\n",
      "\u001b[?25hCollecting pynacl>=1.0.1\r\n",
      "  Downloading PyNaCl-1.5.0-cp36-abi3-manylinux_2_17_x86_64.manylinux2014_x86_64.manylinux_2_24_x86_64.whl (856 kB)\r\n",
      "\u001b[2K     \u001b[90m━━━━━━━━━━━━━━━━━━━━━━━━━━━━━━━━━━━━━━\u001b[0m \u001b[32m856.7/856.7 kB\u001b[0m \u001b[31m48.3 MB/s\u001b[0m eta \u001b[36m0:00:00\u001b[0m\r\n",
      "\u001b[?25hRequirement already satisfied: click>=7.0 in /opt/conda/lib/python3.7/site-packages (from uvicorn->gradio) (8.0.4)\r\n",
      "Requirement already satisfied: cffi>=1.1 in /opt/conda/lib/python3.7/site-packages (from bcrypt>=3.1.3->paramiko->gradio) (1.15.0)\r\n",
      "Requirement already satisfied: importlib-metadata in /opt/conda/lib/python3.7/site-packages (from click>=7.0->uvicorn->gradio) (4.12.0)\r\n",
      "Collecting uc-micro-py\r\n",
      "  Downloading uc_micro_py-1.0.1-py3-none-any.whl (6.2 kB)\r\n",
      "Requirement already satisfied: pycparser in /opt/conda/lib/python3.7/site-packages (from cffi>=1.1->bcrypt>=3.1.3->paramiko->gradio) (2.21)\r\n",
      "Requirement already satisfied: zipp>=0.5 in /opt/conda/lib/python3.7/site-packages (from importlib-metadata->click>=7.0->uvicorn->gradio) (3.8.0)\r\n",
      "Building wheels for collected packages: ffmpy, python-multipart\r\n",
      "  Building wheel for ffmpy (setup.py) ... \u001b[?25l-\b \b\\\b \bdone\r\n",
      "\u001b[?25h  Created wheel for ffmpy: filename=ffmpy-0.3.0-py3-none-any.whl size=4712 sha256=72b98c323a9b983181e3e33ec3364d11569eff1d348d63fdfbab97e13b528a60\r\n",
      "  Stored in directory: /root/.cache/pip/wheels/13/e4/6c/e8059816e86796a597c6e6b0d4c880630f51a1fcfa0befd5e6\r\n",
      "  Building wheel for python-multipart (setup.py) ... \u001b[?25l-\b \bdone\r\n",
      "\u001b[?25h  Created wheel for python-multipart: filename=python_multipart-0.0.5-py3-none-any.whl size=31678 sha256=c00216d1a4be91498dbc4c13921b913399ee89a9fd80532c7bb02dcfdc345d9d\r\n",
      "  Stored in directory: /root/.cache/pip/wheels/2c/41/7c/bfd1c180534ffdcc0972f78c5758f89881602175d48a8bcd2c\r\n",
      "Successfully built ffmpy python-multipart\r\n",
      "Installing collected packages: rfc3986, monotonic, ffmpy, uc-micro-py, python-multipart, pycryptodome, h11, backoff, pynacl, linkify-it-py, httpcore, bcrypt, analytics-python, paramiko, httpx, gradio\r\n",
      "  Attempting uninstall: h11\r\n",
      "    Found existing installation: h11 0.13.0\r\n",
      "    Uninstalling h11-0.13.0:\r\n",
      "      Successfully uninstalled h11-0.13.0\r\n",
      "Successfully installed analytics-python-1.4.0 backoff-1.10.0 bcrypt-3.2.2 ffmpy-0.3.0 gradio-3.1.4 h11-0.12.0 httpcore-0.15.0 httpx-0.23.0 linkify-it-py-1.0.3 monotonic-1.6 paramiko-2.11.0 pycryptodome-3.15.0 pynacl-1.5.0 python-multipart-0.0.5 rfc3986-1.5.0 uc-micro-py-1.0.1\r\n",
      "\u001b[33mWARNING: Running pip as the 'root' user can result in broken permissions and conflicting behaviour with the system package manager. It is recommended to use a virtual environment instead: https://pip.pypa.io/warnings/venv\u001b[0m\u001b[33m\r\n",
      "\u001b[0mNote: you may need to restart the kernel to use updated packages.\n"
     ]
    }
   ],
   "source": [
    "pip install gradio"
   ]
  },
  {
   "cell_type": "code",
   "execution_count": 22,
   "id": "ffe198ec",
   "metadata": {
    "execution": {
     "iopub.execute_input": "2022-08-08T15:16:42.402406Z",
     "iopub.status.busy": "2022-08-08T15:16:42.402040Z",
     "iopub.status.idle": "2022-08-08T15:16:49.726778Z",
     "shell.execute_reply": "2022-08-08T15:16:49.725762Z"
    },
    "papermill": {
     "duration": 7.411216,
     "end_time": "2022-08-08T15:16:49.728823",
     "exception": false,
     "start_time": "2022-08-08T15:16:42.317607",
     "status": "completed"
    },
    "tags": []
   },
   "outputs": [
    {
     "name": "stderr",
     "output_type": "stream",
     "text": [
      "/opt/conda/lib/python3.7/site-packages/gradio/inputs.py:257: UserWarning: Usage of gradio.inputs is deprecated, and will not be supported in the future, please import your component from gradio.components\n",
      "  \"Usage of gradio.inputs is deprecated, and will not be supported in the future, please import your component from gradio.components\",\n",
      "/opt/conda/lib/python3.7/site-packages/gradio/deprecation.py:40: UserWarning: `optional` parameter is deprecated, and it has no effect\n",
      "  warnings.warn(value)\n",
      "/opt/conda/lib/python3.7/site-packages/gradio/outputs.py:197: UserWarning: Usage of gradio.outputs is deprecated, and will not be supported in the future, please import your components from gradio.components\n",
      "  \"Usage of gradio.outputs is deprecated, and will not be supported in the future, please import your components from gradio.components\",\n",
      "/opt/conda/lib/python3.7/site-packages/gradio/deprecation.py:40: UserWarning: The 'type' parameter has been deprecated. Use the Number component instead.\n",
      "  warnings.warn(value)\n",
      "/opt/conda/lib/python3.7/site-packages/gradio/deprecation.py:40: UserWarning: `enable_queue` is deprecated in `Interface()`, please use it within `launch()` instead.\n",
      "  warnings.warn(value)\n"
     ]
    },
    {
     "name": "stdout",
     "output_type": "stream",
     "text": [
      "Running on local URL:  http://127.0.0.1:7860/\n",
      "Running on public URL: https://24709.gradio.app\n",
      "\n",
      "This share link expires in 72 hours. For free permanent hosting, check out Spaces: https://huggingface.co/spaces\n"
     ]
    },
    {
     "data": {
      "text/html": [
       "<div><iframe src=\"https://24709.gradio.app\" width=\"900\" height=\"500\" allow=\"autoplay; camera; microphone;\" frameborder=\"0\" allowfullscreen></iframe></div>"
      ],
      "text/plain": [
       "<IPython.core.display.HTML object>"
      ]
     },
     "metadata": {},
     "output_type": "display_data"
    },
    {
     "data": {
      "text/plain": [
       "(<gradio.routes.App at 0x7f16f494bc90>,\n",
       " 'http://127.0.0.1:7860/',\n",
       " 'https://24709.gradio.app')"
      ]
     },
     "execution_count": 22,
     "metadata": {},
     "output_type": "execute_result"
    }
   ],
   "source": [
    "import gradio as gr\n",
    "from tensorflow.keras.models import load_model\n",
    " \n",
    "# load model\n",
    "model = load_model('model814.h5')\n",
    "\n",
    "classnames = ['battery','cardboard','clothes','food','glass','medical','metal','paper','plastic','shoes']\n",
    "\n",
    "\n",
    "\n",
    "def predict_image(img):\n",
    "  img_4d=img.reshape(-1,320, 320,3)\n",
    "  prediction=model.predict(img_4d)[0]\n",
    "  return {classnames[i]: float(prediction[i]) for i in range(10)}\n",
    "\n",
    "image = gr.inputs.Image(shape=(320, 320))\n",
    "label = gr.outputs.Label(num_top_classes=3)\n",
    "enable_queue=True\n",
    "article=\"<p style='text-align: center'>Made by Aditya Narendra with 🖤</p>\"\n",
    "\n",
    "gr.Interface(fn=predict_image, inputs=image,  title=\"Garbage Classifier V5-XceptionNet\",\n",
    "    description=\"This is a Garbage Classification Model Trained using Xception Net.Deployed to Hugging Faces using Gradio.\",outputs=label,article=article,enable_queue=enable_queue,interpretation='default').launch(share=\"True\")"
   ]
  },
  {
   "cell_type": "code",
   "execution_count": null,
   "id": "00bcac30",
   "metadata": {
    "papermill": {
     "duration": 0.083218,
     "end_time": "2022-08-08T15:16:49.896832",
     "exception": false,
     "start_time": "2022-08-08T15:16:49.813614",
     "status": "completed"
    },
    "tags": []
   },
   "outputs": [],
   "source": []
  }
 ],
 "metadata": {
  "kernelspec": {
   "display_name": "Python 3",
   "language": "python",
   "name": "python3"
  },
  "language_info": {
   "codemirror_mode": {
    "name": "ipython",
    "version": 3
   },
   "file_extension": ".py",
   "mimetype": "text/x-python",
   "name": "python",
   "nbconvert_exporter": "python",
   "pygments_lexer": "ipython3",
   "version": "3.7.12"
  },
  "papermill": {
   "default_parameters": {},
   "duration": 1676.106746,
   "end_time": "2022-08-08T15:16:52.318023",
   "environment_variables": {},
   "exception": null,
   "input_path": "__notebook__.ipynb",
   "output_path": "__notebook__.ipynb",
   "parameters": {},
   "start_time": "2022-08-08T14:48:56.211277",
   "version": "2.3.4"
  }
 },
 "nbformat": 4,
 "nbformat_minor": 5
}
