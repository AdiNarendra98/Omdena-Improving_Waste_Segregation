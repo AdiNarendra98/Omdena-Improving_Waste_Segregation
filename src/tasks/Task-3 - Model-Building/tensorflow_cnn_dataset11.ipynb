{
  "cells": [
    {
      "cell_type": "code",
      "execution_count": null,
      "metadata": {
        "colab": {
          "base_uri": "https://localhost:8080/"
        },
        "id": "HFNZvdSvvra_",
        "outputId": "95535fd0-f287-4214-9738-3b0586c3ad3f"
      },
      "outputs": [
        {
          "name": "stdout",
          "output_type": "stream",
          "text": [
            "Colab only includes TensorFlow 2.x; %tensorflow_version has no effect.\n",
            "Found GPU at: /device:GPU:0\n",
            "CPU times: user 3 µs, sys: 1 µs, total: 4 µs\n",
            "Wall time: 7.15 µs\n"
          ]
        }
      ],
      "source": [
        "%tensorflow_version 2.x\n",
        "import tensorflow as tf\n",
        "device_name = tf.test.gpu_device_name()\n",
        "if device_name != '/device:GPU:0':\n",
        "  raise SystemError('GPU device not found')\n",
        "print('Found GPU at: {}'.format(device_name))\n",
        "%time"
      ]
    },
    {
      "cell_type": "code",
      "execution_count": null,
      "metadata": {
        "colab": {
          "base_uri": "https://localhost:8080/"
        },
        "id": "cTnoMtmxv_16",
        "outputId": "3e110199-1506-4d17-989a-d106542d67fc"
      },
      "outputs": [
        {
          "name": "stdout",
          "output_type": "stream",
          "text": [
            "Looking in indexes: https://pypi.org/simple, https://us-python.pkg.dev/colab-wheels/public/simple/\n",
            "Collecting opendatasets\n",
            "  Downloading opendatasets-0.1.22-py3-none-any.whl (15 kB)\n",
            "Requirement already satisfied: click in /usr/local/lib/python3.7/dist-packages (from opendatasets) (7.1.2)\n",
            "Requirement already satisfied: kaggle in /usr/local/lib/python3.7/dist-packages (from opendatasets) (1.5.12)\n",
            "Requirement already satisfied: tqdm in /usr/local/lib/python3.7/dist-packages (from opendatasets) (4.64.0)\n",
            "Requirement already satisfied: python-slugify in /usr/local/lib/python3.7/dist-packages (from kaggle->opendatasets) (6.1.2)\n",
            "Requirement already satisfied: python-dateutil in /usr/local/lib/python3.7/dist-packages (from kaggle->opendatasets) (2.8.2)\n",
            "Requirement already satisfied: requests in /usr/local/lib/python3.7/dist-packages (from kaggle->opendatasets) (2.23.0)\n",
            "Requirement already satisfied: six>=1.10 in /usr/local/lib/python3.7/dist-packages (from kaggle->opendatasets) (1.15.0)\n",
            "Requirement already satisfied: urllib3 in /usr/local/lib/python3.7/dist-packages (from kaggle->opendatasets) (1.24.3)\n",
            "Requirement already satisfied: certifi in /usr/local/lib/python3.7/dist-packages (from kaggle->opendatasets) (2022.6.15)\n",
            "Requirement already satisfied: text-unidecode>=1.3 in /usr/local/lib/python3.7/dist-packages (from python-slugify->kaggle->opendatasets) (1.3)\n",
            "Requirement already satisfied: chardet<4,>=3.0.2 in /usr/local/lib/python3.7/dist-packages (from requests->kaggle->opendatasets) (3.0.4)\n",
            "Requirement already satisfied: idna<3,>=2.5 in /usr/local/lib/python3.7/dist-packages (from requests->kaggle->opendatasets) (2.10)\n",
            "Installing collected packages: opendatasets\n",
            "Successfully installed opendatasets-0.1.22\n"
          ]
        }
      ],
      "source": [
        "!pip install opendatasets"
      ]
    },
    {
      "cell_type": "code",
      "execution_count": null,
      "metadata": {
        "colab": {
          "base_uri": "https://localhost:8080/"
        },
        "id": "oUpAR02UwCCg",
        "outputId": "3a185e54-d035-48b3-df81-2aeb632cdac5"
      },
      "outputs": [
        {
          "name": "stdout",
          "output_type": "stream",
          "text": [
            "Please provide your Kaggle credentials to download this dataset. Learn more: http://bit.ly/kaggle-creds\n",
            "Your Kaggle username: nandarlma\n",
            "Your Kaggle Key: ··········\n",
            "Downloading garbage-classification.zip to ./garbage-classification\n"
          ]
        },
        {
          "name": "stderr",
          "output_type": "stream",
          "text": [
            "100%|██████████| 239M/239M [00:01<00:00, 178MB/s]\n"
          ]
        },
        {
          "name": "stdout",
          "output_type": "stream",
          "text": [
            "\n"
          ]
        }
      ],
      "source": [
        "import opendatasets as od\n",
        "import pandas\n",
        "  \n",
        "od.download(\n",
        "    \"https://www.kaggle.com/datasets/mostafaabla/garbage-classification/download\")"
      ]
    },
    {
      "cell_type": "code",
      "execution_count": null,
      "metadata": {
        "id": "Y_wZJRY2wHxs"
      },
      "outputs": [],
      "source": [
        "import glob, os\n",
        "import cv2 as cv\n",
        "import pandas\n",
        "import numpy as np\n",
        "import pandas as pd\n",
        "import matplotlib.pyplot as plt\n",
        "from keras.preprocessing.image import ImageDataGenerator, load_img, img_to_array, array_to_img\n",
        "from keras.layers import Conv2D, Flatten, MaxPooling2D, Dense, Dropout,BatchNormalization\n",
        "from keras.models import Sequential"
      ]
    },
    {
      "cell_type": "code",
      "execution_count": null,
      "metadata": {
        "colab": {
          "base_uri": "https://localhost:8080/"
        },
        "id": "PxJAmwPQwJ1j",
        "outputId": "c33cb5c0-1b78-492b-b827-9080ed9c20fd"
      },
      "outputs": [
        {
          "name": "stdout",
          "output_type": "stream",
          "text": [
            "15515\n"
          ]
        }
      ],
      "source": [
        "base_path = '/content/garbage-classification/garbage_classification'\n",
        "\n",
        "img_list = glob.glob(os.path.join(base_path, '*/*.jpg'))\n",
        "\n",
        "print(len(img_list))"
      ]
    },
    {
      "cell_type": "code",
      "execution_count": null,
      "metadata": {
        "colab": {
          "base_uri": "https://localhost:8080/"
        },
        "id": "dwu8qNlIwM2t",
        "outputId": "f018d3a7-1042-4a56-fbdf-901c063196f6"
      },
      "outputs": [
        {
          "name": "stdout",
          "output_type": "stream",
          "text": [
            "Found 12415 images belonging to 12 classes.\n",
            "Found 1545 images belonging to 12 classes.\n",
            "{0: 'battery', 1: 'biological', 2: 'brown-glass', 3: 'cardboard', 4: 'clothes', 5: 'green-glass', 6: 'metal', 7: 'paper', 8: 'plastic', 9: 'shoes', 10: 'trash', 11: 'white-glass'}\n"
          ]
        }
      ],
      "source": [
        "image_size = 512\n",
        "\n",
        "train_datagen = ImageDataGenerator(\n",
        "    rescale=1./255,\n",
        "    shear_range=0.1,\n",
        "    zoom_range=0.1,\n",
        "    width_shift_range=0.1,\n",
        "    height_shift_range=0.1,\n",
        "    horizontal_flip=True,\n",
        "    vertical_flip=True,\n",
        "    validation_split=0.2\n",
        ")\n",
        "\n",
        "test_datagen = ImageDataGenerator(\n",
        "    rescale=1./255,\n",
        "    validation_split=0.1\n",
        ")\n",
        "\n",
        "train_generator = train_datagen.flow_from_directory(\n",
        "    base_path,\n",
        "    target_size=(image_size, image_size),\n",
        "    batch_size=16,\n",
        "    class_mode='categorical',\n",
        "    subset='training',\n",
        "    seed=0\n",
        ")\n",
        "\n",
        "validation_generator = test_datagen.flow_from_directory(\n",
        "    base_path,\n",
        "    target_size=(image_size, image_size),\n",
        "    batch_size=16,\n",
        "    class_mode='categorical',\n",
        "    subset='validation',\n",
        "    seed=0\n",
        ")\n",
        "\n",
        "labels = (train_generator.class_indices)\n",
        "labels = dict((v,k) for k,v in labels.items())\n",
        "\n",
        "print(labels)"
      ]
    },
    {
      "cell_type": "code",
      "execution_count": null,
      "metadata": {
        "colab": {
          "base_uri": "https://localhost:8080/"
        },
        "id": "-5_iv4mQwRsQ",
        "outputId": "254f8ccf-d92e-48dd-8399-91cb42595496"
      },
      "outputs": [
        {
          "name": "stdout",
          "output_type": "stream",
          "text": [
            "Model: \"sequential_1\"\n",
            "_________________________________________________________________\n",
            " Layer (type)                Output Shape              Param #   \n",
            "=================================================================\n",
            " conv2d_3 (Conv2D)           (None, 510, 510, 32)      896       \n",
            "                                                                 \n",
            " max_pooling2d_3 (MaxPooling  (None, 255, 255, 32)     0         \n",
            " 2D)                                                             \n",
            "                                                                 \n",
            " conv2d_4 (Conv2D)           (None, 253, 253, 64)      18496     \n",
            "                                                                 \n",
            " max_pooling2d_4 (MaxPooling  (None, 126, 126, 64)     0         \n",
            " 2D)                                                             \n",
            "                                                                 \n",
            " conv2d_5 (Conv2D)           (None, 124, 124, 128)     73856     \n",
            "                                                                 \n",
            " max_pooling2d_5 (MaxPooling  (None, 62, 62, 128)      0         \n",
            " 2D)                                                             \n",
            "                                                                 \n",
            " dropout_1 (Dropout)         (None, 62, 62, 128)       0         \n",
            "                                                                 \n",
            " flatten_1 (Flatten)         (None, 492032)            0         \n",
            "                                                                 \n",
            " dense_3 (Dense)             (None, 128)               62980224  \n",
            "                                                                 \n",
            " dense_4 (Dense)             (None, 64)                8256      \n",
            "                                                                 \n",
            " dense_5 (Dense)             (None, 12)                780       \n",
            "                                                                 \n",
            "=================================================================\n",
            "Total params: 63,082,508\n",
            "Trainable params: 63,082,508\n",
            "Non-trainable params: 0\n",
            "_________________________________________________________________\n"
          ]
        }
      ],
      "source": [
        "model = Sequential([\n",
        "    Conv2D(32, kernel_size=3, activation='relu', input_shape=(image_size, image_size, 3)),\n",
        "    MaxPooling2D(pool_size=2),\n",
        "\n",
        "    Conv2D(64, kernel_size=3, activation='relu'),\n",
        "    MaxPooling2D(pool_size=2),\n",
        "    \n",
        "    Conv2D(128, kernel_size=3, activation='relu'),\n",
        "    MaxPooling2D(pool_size=2),\n",
        "    Dropout(0.3),\n",
        "    \n",
        "    Flatten(),\n",
        "    Dense(128, activation='relu'),\n",
        "\n",
        "    Dense(64, activation='relu'),\n",
        "\n",
        "    Dense(12, activation='softmax')\n",
        "])\n",
        "\n",
        "model.summary()"
      ]
    },
    {
      "cell_type": "code",
      "execution_count": null,
      "metadata": {
        "id": "ZF_lbYqpwnzO"
      },
      "outputs": [],
      "source": [
        "from tensorflow import keras \n",
        "model.compile(loss = 'categorical_crossentropy', optimizer= 'adam',metrics=[\"accuracy\",keras.metrics.Precision(),keras.metrics.Recall()])"
      ]
    },
    {
      "cell_type": "code",
      "execution_count": null,
      "metadata": {
        "colab": {
          "base_uri": "https://localhost:8080/"
        },
        "id": "xC9oYwDmwi8R",
        "outputId": "4ecc7a52-f8fd-4711-ef98-a9d550edeb24"
      },
      "outputs": [
        {
          "name": "stderr",
          "output_type": "stream",
          "text": [
            "/usr/local/lib/python3.7/dist-packages/ipykernel_launcher.py:7: UserWarning: `Model.fit_generator` is deprecated and will be removed in a future version. Please use `Model.fit`, which supports generators.\n",
            "  import sys\n"
          ]
        },
        {
          "name": "stdout",
          "output_type": "stream",
          "text": [
            "Epoch 1/20\n",
            "776/776 [==============================] - 672s 847ms/step - loss: 1.4957 - accuracy: 0.5069 - precision: 0.7456 - recall: 0.3319 - val_loss: 1.4064 - val_accuracy: 0.5353 - val_precision: 0.7253 - val_recall: 0.3896\n",
            "Epoch 2/20\n",
            "776/776 [==============================] - 651s 839ms/step - loss: 1.1576 - accuracy: 0.6097 - precision: 0.7604 - recall: 0.4614 - val_loss: 1.2835 - val_accuracy: 0.5676 - val_precision: 0.7656 - val_recall: 0.4123\n",
            "Epoch 3/20\n",
            "776/776 [==============================] - 643s 829ms/step - loss: 1.0816 - accuracy: 0.6416 - precision: 0.7698 - recall: 0.5108 - val_loss: 1.1634 - val_accuracy: 0.5974 - val_precision: 0.7554 - val_recall: 0.4939\n",
            "Epoch 4/20\n",
            "776/776 [==============================] - 640s 825ms/step - loss: 1.0052 - accuracy: 0.6632 - precision: 0.7913 - recall: 0.5467 - val_loss: 1.1000 - val_accuracy: 0.6382 - val_precision: 0.7729 - val_recall: 0.5133\n",
            "Epoch 5/20\n",
            "776/776 [==============================] - 642s 827ms/step - loss: 0.9607 - accuracy: 0.6789 - precision: 0.7918 - recall: 0.5755 - val_loss: 1.1273 - val_accuracy: 0.6447 - val_precision: 0.7587 - val_recall: 0.5476\n",
            "Epoch 6/20\n",
            "776/776 [==============================] - 642s 827ms/step - loss: 0.9086 - accuracy: 0.7003 - precision: 0.8002 - recall: 0.6011 - val_loss: 1.1313 - val_accuracy: 0.6259 - val_precision: 0.7173 - val_recall: 0.5534\n",
            "Epoch 7/20\n",
            "776/776 [==============================] - 641s 825ms/step - loss: 0.8711 - accuracy: 0.7108 - precision: 0.8081 - recall: 0.6184 - val_loss: 1.0360 - val_accuracy: 0.6602 - val_precision: 0.7653 - val_recall: 0.5592\n",
            "Epoch 8/20\n",
            "776/776 [==============================] - 642s 828ms/step - loss: 0.8341 - accuracy: 0.7203 - precision: 0.8104 - recall: 0.6385 - val_loss: 0.9769 - val_accuracy: 0.6841 - val_precision: 0.7759 - val_recall: 0.6162\n",
            "Epoch 9/20\n",
            "776/776 [==============================] - 645s 832ms/step - loss: 0.8021 - accuracy: 0.7327 - precision: 0.8195 - recall: 0.6557 - val_loss: 0.9679 - val_accuracy: 0.6971 - val_precision: 0.8020 - val_recall: 0.6188\n",
            "Epoch 10/20\n",
            "776/776 [==============================] - 644s 830ms/step - loss: 0.7835 - accuracy: 0.7431 - precision: 0.8248 - recall: 0.6663 - val_loss: 0.9134 - val_accuracy: 0.7055 - val_precision: 0.7928 - val_recall: 0.6388\n",
            "Epoch 11/20\n",
            "776/776 [==============================] - 652s 840ms/step - loss: 0.7428 - accuracy: 0.7534 - precision: 0.8297 - recall: 0.6839 - val_loss: 0.9154 - val_accuracy: 0.7087 - val_precision: 0.7687 - val_recall: 0.6518\n",
            "Epoch 12/20\n",
            "776/776 [==============================] - 642s 828ms/step - loss: 0.7315 - accuracy: 0.7581 - precision: 0.8333 - recall: 0.6903 - val_loss: 0.9702 - val_accuracy: 0.7049 - val_precision: 0.8022 - val_recall: 0.6142\n",
            "Epoch 13/20\n",
            "776/776 [==============================] - 642s 827ms/step - loss: 0.7001 - accuracy: 0.7687 - precision: 0.8404 - recall: 0.7024 - val_loss: 0.9358 - val_accuracy: 0.7197 - val_precision: 0.7983 - val_recall: 0.6583\n",
            "Epoch 14/20\n",
            "776/776 [==============================] - 641s 826ms/step - loss: 0.6749 - accuracy: 0.7732 - precision: 0.8420 - recall: 0.7128 - val_loss: 0.8373 - val_accuracy: 0.7476 - val_precision: 0.8153 - val_recall: 0.6913\n",
            "Epoch 15/20\n",
            "776/776 [==============================] - 641s 826ms/step - loss: 0.6632 - accuracy: 0.7815 - precision: 0.8451 - recall: 0.7202 - val_loss: 0.8642 - val_accuracy: 0.7379 - val_precision: 0.8099 - val_recall: 0.6867\n",
            "Epoch 16/20\n",
            "776/776 [==============================] - 643s 828ms/step - loss: 0.6418 - accuracy: 0.7885 - precision: 0.8494 - recall: 0.7294 - val_loss: 0.8284 - val_accuracy: 0.7424 - val_precision: 0.8196 - val_recall: 0.6706\n",
            "Epoch 17/20\n",
            "776/776 [==============================] - 646s 833ms/step - loss: 0.6177 - accuracy: 0.7946 - precision: 0.8551 - recall: 0.7383 - val_loss: 0.9104 - val_accuracy: 0.7100 - val_precision: 0.7879 - val_recall: 0.6589\n",
            "Epoch 18/20\n",
            "776/776 [==============================] - 643s 829ms/step - loss: 0.6075 - accuracy: 0.7971 - precision: 0.8552 - recall: 0.7443 - val_loss: 0.7865 - val_accuracy: 0.7553 - val_precision: 0.8187 - val_recall: 0.7074\n",
            "Epoch 19/20\n",
            "776/776 [==============================] - 650s 837ms/step - loss: 0.5993 - accuracy: 0.8000 - precision: 0.8548 - recall: 0.7488 - val_loss: 0.9593 - val_accuracy: 0.7120 - val_precision: 0.7754 - val_recall: 0.6680\n",
            "Epoch 20/20\n",
            "776/776 [==============================] - 650s 838ms/step - loss: 0.5761 - accuracy: 0.8126 - precision: 0.8656 - recall: 0.7664 - val_loss: 0.8056 - val_accuracy: 0.7592 - val_precision: 0.8121 - val_recall: 0.7133\n"
          ]
        }
      ],
      "source": [
        "early_stopping = tf.keras.callbacks.EarlyStopping(monitor='loss', patience=5)\n",
        "\n",
        "history = model.fit_generator(train_generator,\n",
        "                    epochs=20,\n",
        "                    validation_data=validation_generator,\n",
        "                    verbose = 1,\n",
        "                    callbacks=[early_stopping])"
      ]
    },
    {
      "cell_type": "code",
      "execution_count": null,
      "metadata": {
        "colab": {
          "base_uri": "https://localhost:8080/",
          "height": 295
        },
        "id": "REc6wXwN4dtG",
        "outputId": "ed466454-acbe-4b98-df93-7be91fbc3110"
      },
      "outputs": [
        {
          "data": {
            "image/png": "[encoded data removed]",
            "text/plain": [
              "<Figure size 432x288 with 1 Axes>"
            ]
          },
          "metadata": {},
          "output_type": "display_data"
        }
      ],
      "source": [
        "import matplotlib.pyplot as plt\n",
        "plt.plot(history.history['accuracy'])\n",
        "plt.plot(history.history['val_accuracy'])\n",
        "plt.title(\"model accuracy\")\n",
        "plt.ylabel(\"accuracy\")\n",
        "plt.xlabel(\"epoch\")\n",
        "plt.legend(['train','test'],loc='lower right')\n",
        "plt.show()"
      ]
    },
    {
      "cell_type": "code",
      "execution_count": null,
      "metadata": {
        "colab": {
          "base_uri": "https://localhost:8080/",
          "height": 295
        },
        "id": "94EIGPWw4-2m",
        "outputId": "dc1c67b9-e6c5-4779-96fe-2b076ee55ae3"
      },
      "outputs": [
        {
          "data": {
            "image/png": "[encoded data removed]",
            "text/plain": [
              "<Figure size 432x288 with 1 Axes>"
            ]
          },
          "metadata": {},
          "output_type": "display_data"
        }
      ],
      "source": [
        "import matplotlib.pyplot as plt\n",
        "plt.plot(history.history['loss'])\n",
        "plt.plot(history.history['val_loss'])\n",
        "plt.title(\"model loss\")\n",
        "plt.ylabel(\"loss\")\n",
        "plt.xlabel(\"epoch\")\n",
        "plt.legend(['train','test'],loc='upper right')\n",
        "plt.show()"
      ]
    },
    {
      "cell_type": "code",
      "execution_count": null,
      "metadata": {
        "id": "TFECYI0j-gtY"
      },
      "outputs": [],
      "source": [
        "model.save('waste_classification_dataset11.h5')"
      ]
    },
    {
      "cell_type": "code",
      "execution_count": null,
      "metadata": {
        "colab": {
          "background_save": true
        },
        "id": "bHTlm_Zj5Kfe",
        "outputId": "5ed041c2-167f-4167-e6bc-a6402c6eb2fe"
      },
      "outputs": [
        {
          "name": "stdout",
          "output_type": "stream",
          "text": [
            "Mounted at /content/drive\n"
          ]
        }
      ],
      "source": [
        "from google.colab import drive\n",
        "drive.mount('/content/drive')"
      ]
    }
  ],
  "metadata": {
    "accelerator": "GPU",
    "colab": {
      "collapsed_sections": [],
      "name": "tensorflow_cnn_dataset11.ipynb",
      "provenance": []
    },
    "gpuClass": "standard",
    "kernelspec": {
      "display_name": "Python 3",
      "name": "python3"
    },
    "language_info": {
      "name": "python"
    }
  },
  "nbformat": 4,
  "nbformat_minor": 0
}